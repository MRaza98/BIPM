{
 "cells": [
  {
   "cell_type": "code",
   "execution_count": 4,
   "metadata": {},
   "outputs": [
    {
     "name": "stdout",
     "output_type": "stream",
     "text": [
      "Sample 1 - Probabilities: [0.00391568 0.9032582  0.09282613], Predicted Class: 1\n",
      "Sample 2 - Probabilities: [0.96398639 0.03062433 0.00538928], Predicted Class: 0\n",
      "Sample 3 - Probabilities: [0.0060842 0.0014319 0.9924839], Predicted Class: 2\n",
      "Sample 4 - Probabilities: [0.00497119 0.89298077 0.10204804], Predicted Class: 1\n",
      "Sample 5 - Probabilities: [0.00396105 0.85474635 0.1412926 ], Predicted Class: 1\n",
      "Accuracy: 1.0\n",
      "Final Predictions:\n",
      "[1 0 2 1 1 0 1 2 1 1 2 0 0 0 0 1 2 1 1 2 0 2 0 2 2 2 2 2 0 0]\n"
     ]
    },
    {
     "name": "stderr",
     "output_type": "stream",
     "text": [
      "/Library/Frameworks/Python.framework/Versions/3.10/lib/python3.10/site-packages/sklearn/linear_model/_logistic.py:460: ConvergenceWarning: lbfgs failed to converge (status=1):\n",
      "STOP: TOTAL NO. of ITERATIONS REACHED LIMIT.\n",
      "\n",
      "Increase the number of iterations (max_iter) or scale the data as shown in:\n",
      "    https://scikit-learn.org/stable/modules/preprocessing.html\n",
      "Please also refer to the documentation for alternative solver options:\n",
      "    https://scikit-learn.org/stable/modules/linear_model.html#logistic-regression\n",
      "  n_iter_i = _check_optimize_result(\n"
     ]
    }
   ],
   "source": [
    "from sklearn.datasets import load_iris\n",
    "from sklearn.model_selection import train_test_split\n",
    "from sklearn.neighbors import KNeighborsClassifier\n",
    "from sklearn.svm import SVC\n",
    "from sklearn.linear_model import LogisticRegression\n",
    "from sklearn.ensemble import VotingClassifier\n",
    "from sklearn.metrics import accuracy_score\n",
    "\n",
    "# Load the Iris dataset\n",
    "iris = load_iris()\n",
    "X_train, X_test, y_train, y_test = train_test_split(iris.data, iris.target, test_size=0.2, random_state=42)\n",
    "\n",
    "# Instantiate individual classifiers\n",
    "knn_clf = KNeighborsClassifier(n_neighbors=3)\n",
    "svm_clf = SVC(probability=True)  # Set probability=True for SVC to enable probability estimates\n",
    "log_reg_clf = LogisticRegression()\n",
    "\n",
    "# Instantiate soft voting classifier\n",
    "soft_voting_clf = VotingClassifier(estimators=[\n",
    "    ('knn', knn_clf),\n",
    "    ('svm', svm_clf),\n",
    "    ('log_reg', log_reg_clf)\n",
    "], voting='soft')\n",
    "\n",
    "# Fit the soft voting classifier to the training data\n",
    "soft_voting_clf.fit(X_train, y_train)\n",
    "\n",
    "# Make predictions on the test set\n",
    "predictions = soft_voting_clf.predict(X_test)\n",
    "\n",
    "# Access probabilities on the test set\n",
    "probabilities = soft_voting_clf.predict_proba(X_test)\n",
    "\n",
    "# Print probabilities and corresponding predictions for the first few samples\n",
    "for i in range(5):\n",
    "    print(f\"Sample {i + 1} - Probabilities: {probabilities[i]}, Predicted Class: {predictions[i]}\")\n",
    "\n",
    "# Evaluate the accuracy\n",
    "accuracy = accuracy_score(y_test, predictions)\n",
    "print(\"Accuracy:\", accuracy)\n",
    "\n",
    "print(\"Final Predictions:\")\n",
    "print(predictions)"
   ]
  },
  {
   "cell_type": "code",
   "execution_count": null,
   "metadata": {},
   "outputs": [],
   "source": []
  }
 ],
 "metadata": {
  "kernelspec": {
   "display_name": "Python 3",
   "language": "python",
   "name": "python3"
  },
  "language_info": {
   "codemirror_mode": {
    "name": "ipython",
    "version": 3
   },
   "file_extension": ".py",
   "mimetype": "text/x-python",
   "name": "python",
   "nbconvert_exporter": "python",
   "pygments_lexer": "ipython3",
   "version": "3.10.11"
  }
 },
 "nbformat": 4,
 "nbformat_minor": 2
}
