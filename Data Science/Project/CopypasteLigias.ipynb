{
 "cells": [
  {
   "cell_type": "markdown",
   "metadata": {},
   "source": [
    "# Group: CopyPaste\n",
    "#### Dataset used: Dataset_Hospital_Vists.csv, test.csv\n",
    "#### Participants: Ligia, Gina, Raza"
   ]
  },
  {
   "cell_type": "markdown",
   "metadata": {},
   "source": [
    "### Contents Draft\n",
    "\n",
    "1. Problem and Goal Definition\n",
    "2. Data Understanding\n",
    "3. Data Quality Check\n",
    "4. Exploratory Data Analysis\n",
    "5. Data Cleaning and Preprocessing\n",
    "6. Train-Test Split\n",
    "7. Model Building\n",
    "8. Model Evaluation\n",
    "9. Model Interpretation\n",
    "10. Fine-Tuning and Optimization"
   ]
  },
  {
   "cell_type": "markdown",
   "metadata": {},
   "source": [
    "### 1. Problem and Goal Definition\n",
    "Problem: Patients in a hospital miss their scheduled appointments.\n",
    "\n",
    "Goal: Develop a machine learning model that predicts if a patient will miss a future appointment."
   ]
  },
  {
   "cell_type": "markdown",
   "metadata": {},
   "source": [
    "### 2. Data Understanding\n",
    "#### 2.1 Dataset Description\n",
    "\n",
    "- The dataset is at appointment level granularity and contains detail of each appointment and patient.\n",
    "\n",
    "- It has 14 columns of which 1 will be our target variable: No-show.\n",
    "\n",
    "- We mostly have information about an appointment's date and place and the patients' health details. A column also shows if a patient received an SMS before the appointment.\n",
    "\n",
    "#### 2.2 Quick Analysis from Kaggle\n",
    "\n",
    "- There is missing data in the columns Age, Community, Social Welfare, and some diseases.\n",
    "- Female to Male ratio is 65:35.\n",
    "- We have no NULLs in the target variable.\n",
    "- For Handcap, we have multiple values even though it seems to be a binary variable."
   ]
  },
  {
   "cell_type": "markdown",
   "metadata": {},
   "source": [
    "### 3. Data Quality Check\n",
    "\n",
    "- Uniqueness\n",
    "- Missing data\n",
    "- Data type consistency check\n",
    "- Distribution of Categorical Variables\n",
    "- Dates inconsistency"
   ]
  },
  {
   "cell_type": "code",
   "execution_count": 1,
   "metadata": {},
   "outputs": [],
   "source": [
    "# Setting up environment with packages\n",
    "\n",
    "import pandas as pd\n",
    "import matplotlib.pyplot as plt\n",
    "import seaborn as sns\n"
   ]
  },
  {
   "cell_type": "code",
   "execution_count": 2,
   "metadata": {},
   "outputs": [],
   "source": [
    "# Importing the dataset\n",
    "\n",
    "df = pd.read_csv(\"/Users/ligiavergara/Documents/GitHub/BIPM/Data Science/Project/Dataset_Hospital_Visits.csv\")\n",
    "df.head()\n",
    "\n",
    "# Increase seaborn default resolution\n",
    "sns.set(rc={\"figure.dpi\":150, 'savefig.dpi':150})\n",
    "sns.set_context('notebook')\n",
    "sns.set_style(\"ticks\")\n",
    "sns.set(rc={'figure.figsize':(5,6)})\n",
    "\n",
    "# Give variables to color numbers\n",
    "\n",
    "green = '#008000'\n",
    "red = '#ff0000'\n"
   ]
  },
  {
   "cell_type": "code",
   "execution_count": 3,
   "metadata": {},
   "outputs": [
    {
     "name": "stdout",
     "output_type": "stream",
     "text": [
      "Duplicate rows: 0\n",
      "Duplicate appointments: 0\n"
     ]
    }
   ],
   "source": [
    "## Uniqueness\n",
    "\n",
    "# Is each row unique?\n",
    "\n",
    "print(\"Duplicate rows: \" + str(df.duplicated().sum()))\n",
    "\n",
    "# Is each appointmentID unique?\n",
    "\n",
    "print(\"Duplicate appointments: \" + str(df['AppointmentID'].duplicated().sum()))"
   ]
  },
  {
   "cell_type": "markdown",
   "metadata": {},
   "source": [
    "We can conclude that the dataset only containts unique IDs and no duplicates."
   ]
  },
  {
   "cell_type": "code",
   "execution_count": null,
   "metadata": {},
   "outputs": [],
   "source": [
    "## Missing Data\n",
    "\n",
    "# Which columns have missing data?\n",
    "\n",
    "missing_data = df.isnull().sum()\n",
    "total_entries = len(df)\n",
    "percentage_missing = round((missing_data / total_entries) * 100, 2)\n",
    "\n",
    "missing_info = pd.DataFrame({\n",
    "    'Missing Count': missing_data,\n",
    "    'Percentage Missing': percentage_missing\n",
    "})\n",
    "\n",
    "print(missing_info)"
   ]
  },
  {
   "cell_type": "markdown",
   "metadata": {},
   "source": [
    "As seen from Kaggle, Age, Community, SocialWelfare, Hipertension, and Alcoholism have significant null values."
   ]
  },
  {
   "cell_type": "code",
   "execution_count": null,
   "metadata": {},
   "outputs": [],
   "source": [
    "## Data Type Consistency\n",
    "\n",
    "df.dtypes"
   ]
  },
  {
   "cell_type": "markdown",
   "metadata": {},
   "source": [
    "1. PatientId and Age are to be converted to int from float as IDs must be int/str and ages are usually considered in whole number terms.\n",
    "2. ScheduledDate and AppointmentDate must be timestamps and not objects."
   ]
  },
  {
   "cell_type": "code",
   "execution_count": 4,
   "metadata": {},
   "outputs": [
    {
     "name": "stdout",
     "output_type": "stream",
     "text": [
      "  Handcap      0\n",
      "0       2    139\n",
      "1       3     11\n",
      "2       4      3\n",
      "3      no  86626\n",
      "4     yes   1642\n"
     ]
    }
   ],
   "source": [
    "# Distribution of Categorical Variables\n",
    "\n",
    "occ = df.groupby('Handcap').size().reset_index()\n",
    "print(occ)"
   ]
  },
  {
   "cell_type": "markdown",
   "metadata": {},
   "source": [
    "We assume that this column was meant to be a binary column and the numerical values are bad data. They will be removed during data cleaning."
   ]
  },
  {
   "cell_type": "code",
   "execution_count": 5,
   "metadata": {},
   "outputs": [
    {
     "name": "stdout",
     "output_type": "stream",
     "text": [
      "False    88417\n",
      "True         4\n",
      "Name: count, dtype: int64\n"
     ]
    }
   ],
   "source": [
    "# Dates inconsistency\n",
    "\n",
    "from datetime import datetime\n",
    "\n",
    "df['AppointmentDate'] = df['AppointmentDate'].apply(lambda x: datetime.strptime(x, '%Y-%m-%dT%H:%M:%SZ').date())\n",
    "df['ScheduledDate'] = df['ScheduledDate'].apply(lambda x: datetime.strptime(x, '%Y-%m-%dT%H:%M:%SZ').date())\n",
    "\n",
    "counts = df['ScheduledDate'] > df['AppointmentDate']\n",
    "occurrence_counts = counts.value_counts()\n",
    "\n",
    "print(occurrence_counts)"
   ]
  },
  {
   "cell_type": "markdown",
   "metadata": {},
   "source": [
    "We see that we have 4 incoherent combination of schedule and appointment dates - they will be taken out in data cleaning stage."
   ]
  },
  {
   "cell_type": "markdown",
   "metadata": {},
   "source": [
    "### 4. Exploratory Data Analysis\n",
    "\n",
    "- Distribution of the target variable.\n",
    "- Distribution of age. Which age groups account for the most missing appointments?\n",
    "- Do patients of a certain community miss their appointments more than others?\n",
    "- Do males or females miss more appointments?"
   ]
  },
  {
   "cell_type": "code",
   "execution_count": 6,
   "metadata": {},
   "outputs": [
    {
     "data": {
      "image/png": "[encoded data removed]",
      "text/plain": [
       "<Figure size 750x900 with 1 Axes>"
      ]
     },
     "metadata": {},
     "output_type": "display_data"
    }
   ],
   "source": [
    "## Distribution of the target variable\n",
    "\n",
    "value_counts = df['No-show'].value_counts()\n",
    "\n",
    "labels = value_counts.index\n",
    "sizes = value_counts.values\n",
    "\n",
    "colors = [green,red]  # Customize colors\n",
    "explode = (0.05, 0)  # Explode the 1st slice\n",
    "\n",
    "plt.pie(sizes, labels=labels, colors=colors, autopct='%1.1f%%', startangle=90, explode=explode)\n",
    "\n",
    "plt.title('Distribution of No-Show Variable')\n",
    "plt.axis('equal')  # Equal aspect ratio ensures the pie chart is circular\n",
    "\n",
    "plt.show()"
   ]
  },
  {
   "cell_type": "markdown",
   "metadata": {},
   "source": [
    "1 in 5 appointments are missed on average."
   ]
  },
  {
   "cell_type": "code",
   "execution_count": null,
   "metadata": {},
   "outputs": [],
   "source": [
    "# Which age group misses more appointments?\n",
    "\n",
    "# Plot histogram with split bars\n",
    "\n",
    "plt.hist([df[df['No-show'] == 'No']['Age'], df[df['No-show'] == 'Yes']['Age']],\n",
    "         bins=10, color=['green', 'red'], alpha=0.7, edgecolor='black', label=['No', 'Yes'], stacked=True)\n",
    "\n",
    "plt.title('Overall Age Distribution')\n",
    "plt.xlabel('Age')\n",
    "plt.ylabel('Count')\n",
    "plt.legend()\n",
    "\n",
    "# To add % later:\n",
    "\n",
    "# n, bins, _ = plt.hist([df[df['No-show'] == 'No']['Age'], df[df['No-show'] == 'Yes']['Age']],\n",
    "#          bins=10, color=['green', 'red'], alpha=0.7, edgecolor='black', label=['No', 'Yes'], stacked=True)\n",
    "\n",
    "# for i in range(len(bins) - 1):\n",
    "#     total = n[0][i] + n[1][i]\n",
    "#     plt.text((bins[i] + bins[i + 1]) / 2, total, f'{n[0][i] / total:.0%}', ha='center', va='bottom')\n",
    "#     plt.text((bins[i] + bins[i + 1]) / 2, total, f'{n[1][i] / total:.0%}', ha='center', va='top')\n",
    "\n",
    "plt.show()"
   ]
  },
  {
   "cell_type": "markdown",
   "metadata": {},
   "source": [
    "There is an even distribution of the ratio of appointments missed in the various age groups. This tends to change after age 70 where appointments are missed a lot less.\n",
    "\n",
    "This could be explained by the fact that older people cannot afford to miss appointments due to more serious health issues and due to the fact that they might have more time on their hand."
   ]
  },
  {
   "cell_type": "code",
   "execution_count": null,
   "metadata": {},
   "outputs": [],
   "source": [
    "## Which gender misses more appointments?\n",
    "\n",
    "# Group by 'gender' and 'no_show' and count occurrences\n",
    "grouped_data = df.groupby(['Sex', 'No-show']).size().unstack()\n",
    "\n",
    "# Calculate percentages\n",
    "percentages = grouped_data.div(grouped_data.sum(axis=1), axis=0) * 100\n",
    "\n",
    "# Plotting a grouped bar chart\n",
    "ax = percentages.plot(kind='bar', stacked=True, color=[green, red])\n",
    "\n",
    "# Annotate bars with percentages\n",
    "for p in ax.patches:\n",
    "    width, height = p.get_width(), p.get_height()\n",
    "    x, y = p.get_xy() \n",
    "    ax.annotate(f'{height:.1f}%', (x + width/2, y + height/2), ha='center', va='center')\n",
    "\n",
    "plt.title('Gender-wise No-show Distribution')\n",
    "plt.xlabel('Sex')\n",
    "plt.ylabel('# Appointments')\n",
    "plt.legend(title='No-show', loc='upper right')\n",
    "\n",
    "plt.show()"
   ]
  },
  {
   "cell_type": "markdown",
   "metadata": {},
   "source": [
    "There seems to be 1 in 5 appointments missed for both genders."
   ]
  },
  {
   "cell_type": "code",
   "execution_count": null,
   "metadata": {},
   "outputs": [],
   "source": [
    "\n",
    "# Do patients of a certain community miss their appointments more than others?\n",
    "\n",
    "# Count the total number of appointments per community\n",
    "total_appointments_per_community = df['Community'].value_counts()\n",
    "\n",
    "# Sort the DataFrame based on the total number of appointments\n",
    "sorted_df = df[df['Community'].isin(total_appointments_per_community.index)].copy()\n",
    "sorted_df['Community'] = pd.Categorical(sorted_df['Community'], categories=total_appointments_per_community.index, ordered=True)\n",
    "sorted_df = sorted_df.sort_values(by=['Community'])\n",
    "\n",
    "# Count the number of appointments per community split by show_up status\n",
    "appointments_per_community_show_up = sorted_df.groupby(['Community', 'No-show']).size().unstack(fill_value=0)\n",
    "\n",
    "# Plotting the bar chart\n",
    "fig, ax = plt.subplots(figsize=(10, 6))\n",
    "\n",
    "# Bar chart for total appointments per community\n",
    "total_appointments_per_community.loc[sorted_df['Community'].unique()].plot(kind='bar', ax=ax, color='blue', label='Total Appointments')\n",
    "\n",
    "# Bar chart for appointments per community split by show_up status\n",
    "appointments_per_community_show_up.plot(kind='bar', stacked=True, ax=ax, color=['green', 'red'], label=['Show Up', 'No Show Up'])\n",
    "\n",
    "# Adding labels and legend\n",
    "ax.set_title('Appointments per Community')\n",
    "ax.set_xlabel('Community')\n",
    "ax.set_ylabel('Number of Appointments')\n",
    "ax.legend()\n",
    "\n",
    "plt.show()"
   ]
  },
  {
   "cell_type": "markdown",
   "metadata": {},
   "source": [
    "### 5. Data Cleaning and Preprocessing (incl. additional EDA)\n",
    "\n",
    "- Dropping erroneous data\n",
    "- Updating Existing Features: Get the columns into the right data types (has some errors but delayed due to non-urgency)\n",
    "- Updating Existing Features: Handling Missing Data: Extrapolation + Imputation (?)\n",
    "- Adding New Features: Time between ScheduledDate and AppointmentDate\n",
    "- Standardization of Continuous variable: yes or no?\n",
    "- OneHotEncoding for Categorical Vairables\n",
    "- Feature Selection based on Correlation Matrix\n",
    "- Feature Selection based on Information Gain\n",
    "- Feature Selection based on Automated Methods i.e. SelectKBest()"
   ]
  },
  {
   "cell_type": "code",
   "execution_count": 7,
   "metadata": {},
   "outputs": [],
   "source": [
    "# Keeping original df intact:\n",
    "\n",
    "df_t = df[:]"
   ]
  },
  {
   "cell_type": "code",
   "execution_count": 8,
   "metadata": {},
   "outputs": [
    {
     "name": "stdout",
     "output_type": "stream",
     "text": [
      "<class 'pandas.core.frame.DataFrame'>\n",
      "RangeIndex: 88421 entries, 0 to 88420\n",
      "Data columns (total 14 columns):\n",
      " #   Column           Non-Null Count  Dtype  \n",
      "---  ------           --------------  -----  \n",
      " 0   PatientId        88421 non-null  float64\n",
      " 1   AppointmentID    88421 non-null  int64  \n",
      " 2   Sex              88421 non-null  object \n",
      " 3   ScheduledDate    88421 non-null  object \n",
      " 4   AppointmentDate  88421 non-null  object \n",
      " 5   Age              79614 non-null  float64\n",
      " 6   Community        77708 non-null  object \n",
      " 7   SocialWelfare    75902 non-null  object \n",
      " 8   Hipertension     80400 non-null  object \n",
      " 9   Diabetes         88421 non-null  object \n",
      " 10  Alcoholism       73532 non-null  object \n",
      " 11  Handcap          88421 non-null  object \n",
      " 12  SMS_received     88421 non-null  object \n",
      " 13  No-show          88421 non-null  object \n",
      "dtypes: float64(2), int64(1), object(11)\n",
      "memory usage: 9.4+ MB\n"
     ]
    }
   ],
   "source": [
    "df_t.info()"
   ]
  },
  {
   "cell_type": "code",
   "execution_count": 9,
   "metadata": {},
   "outputs": [
    {
     "data": {
      "text/plain": [
       "PatientId          float64\n",
       "AppointmentID        int64\n",
       "Sex                 object\n",
       "ScheduledDate       object\n",
       "AppointmentDate     object\n",
       "Age                float64\n",
       "Community           object\n",
       "SocialWelfare       object\n",
       "Hipertension        object\n",
       "Diabetes            object\n",
       "Alcoholism          object\n",
       "Handcap             object\n",
       "SMS_received        object\n",
       "No-show             object\n",
       "dtype: object"
      ]
     },
     "execution_count": 9,
     "metadata": {},
     "output_type": "execute_result"
    }
   ],
   "source": [
    "## Data Type Consistency\n",
    "\n",
    "df_t.dtypes"
   ]
  },
  {
   "cell_type": "code",
   "execution_count": 10,
   "metadata": {},
   "outputs": [],
   "source": [
    "# Dropping erroneous data\n",
    "\n",
    "# Dropping inconsistent dates from transformed dataframe\n",
    "\n",
    "df_t = df_t.drop(df[df['ScheduledDate'] > df['AppointmentDate']].index)\n"
   ]
  },
  {
   "cell_type": "code",
   "execution_count": 11,
   "metadata": {},
   "outputs": [],
   "source": [
    "# Dropping outliers for Handcap: 2, 3, 4\n",
    "\n",
    "df_t['Handcap'] = df_t['Handcap'][df_t['Handcap'].isin(['yes', 'no'])]"
   ]
  },
  {
   "cell_type": "code",
   "execution_count": 12,
   "metadata": {},
   "outputs": [
    {
     "name": "stdout",
     "output_type": "stream",
     "text": [
      "<class 'pandas.core.frame.DataFrame'>\n",
      "Index: 88417 entries, 0 to 88420\n",
      "Data columns (total 14 columns):\n",
      " #   Column           Non-Null Count  Dtype  \n",
      "---  ------           --------------  -----  \n",
      " 0   PatientId        88417 non-null  float64\n",
      " 1   AppointmentID    88417 non-null  int64  \n",
      " 2   Sex              88417 non-null  object \n",
      " 3   ScheduledDate    88417 non-null  object \n",
      " 4   AppointmentDate  88417 non-null  object \n",
      " 5   Age              79611 non-null  float64\n",
      " 6   Community        77704 non-null  object \n",
      " 7   SocialWelfare    75899 non-null  object \n",
      " 8   Hipertension     80396 non-null  object \n",
      " 9   Diabetes         88417 non-null  object \n",
      " 10  Alcoholism       73529 non-null  object \n",
      " 11  Handcap          88264 non-null  object \n",
      " 12  SMS_received     88417 non-null  object \n",
      " 13  No-show          88417 non-null  object \n",
      "dtypes: float64(2), int64(1), object(11)\n",
      "memory usage: 10.1+ MB\n"
     ]
    }
   ],
   "source": [
    "df_t.info()"
   ]
  },
  {
   "cell_type": "code",
   "execution_count": 13,
   "metadata": {},
   "outputs": [
    {
     "name": "stdout",
     "output_type": "stream",
     "text": [
      "  Handcap      0\n",
      "0      no  86623\n",
      "1     yes   1641\n"
     ]
    }
   ],
   "source": [
    "occ = df_t.groupby('Handcap').size().reset_index()\n",
    "print(occ)"
   ]
  },
  {
   "cell_type": "code",
   "execution_count": 14,
   "metadata": {},
   "outputs": [],
   "source": [
    "# PatientId and Age are to be converted to int from float as IDs must be int/str and ages are usually considered in whole number terms.\n",
    "\n",
    "# Has an error!!!\n",
    "\n",
    "# df_t[\"PatientId\"] = pd.to_numeric(df[\"PatientId\"], errors='coerce').astype(int)\n",
    "# df_t[\"Age\"] = pd.to_numeric(df[\"Age\"], errors='coerce').astype(int)\n"
   ]
  },
  {
   "cell_type": "code",
   "execution_count": 15,
   "metadata": {},
   "outputs": [
    {
     "name": "stderr",
     "output_type": "stream",
     "text": [
      "/var/folders/bv/wljp2_jn7gzcm0jjwnmshvnm0000gn/T/ipykernel_19067/1004969637.py:6: FutureWarning: Series.fillna with 'method' is deprecated and will raise in a future version. Use obj.ffill() or obj.bfill() instead.\n",
      "  df_t[column] = df_t.groupby('PatientId')[column].transform(lambda x: x.fillna(method='ffill').fillna(method='bfill'))\n"
     ]
    }
   ],
   "source": [
    "# Extrapolating missing data\n",
    "\n",
    "missing_columns = ['Age', 'Community', 'SocialWelfare', 'Hipertension', 'Alcoholism']\n",
    "\n",
    "for column in missing_columns:\n",
    "    df_t[column] = df_t.groupby('PatientId')[column].transform(lambda x: x.fillna(method='ffill').fillna(method='bfill'))\n"
   ]
  },
  {
   "cell_type": "code",
   "execution_count": 16,
   "metadata": {},
   "outputs": [
    {
     "name": "stdout",
     "output_type": "stream",
     "text": [
      "                 Missing Count  Percentage Missing\n",
      "PatientId                    0                0.00\n",
      "AppointmentID                0                0.00\n",
      "Sex                          0                0.00\n",
      "ScheduledDate                0                0.00\n",
      "AppointmentDate              0                0.00\n",
      "Age                       3778                4.27\n",
      "Community                 4631                5.24\n",
      "SocialWelfare             5450                6.16\n",
      "Hipertension              3406                3.85\n",
      "Diabetes                     0                0.00\n",
      "Alcoholism                6611                7.48\n",
      "Handcap                    153                0.17\n",
      "SMS_received                 0                0.00\n",
      "No-show                      0                0.00\n"
     ]
    }
   ],
   "source": [
    "missing_data = df_t.isnull().sum()\n",
    "total_entries = len(df_t)\n",
    "percentage_missing = round((missing_data / total_entries) * 100, 2)\n",
    "\n",
    "missing_info = pd.DataFrame({\n",
    "    'Missing Count': missing_data,\n",
    "    'Percentage Missing': percentage_missing\n",
    "})\n",
    "\n",
    "print(missing_info)"
   ]
  },
  {
   "cell_type": "code",
   "execution_count": 17,
   "metadata": {},
   "outputs": [],
   "source": [
    "## Dropping missing values for time being. In the future we could also use the KNN imputer to fill empty values.\n",
    "\n",
    "df_t.dropna(inplace=True)"
   ]
  },
  {
   "cell_type": "code",
   "execution_count": 18,
   "metadata": {},
   "outputs": [
    {
     "name": "stdout",
     "output_type": "stream",
     "text": [
      "<class 'pandas.core.frame.DataFrame'>\n",
      "Index: 69168 entries, 0 to 88420\n",
      "Data columns (total 14 columns):\n",
      " #   Column           Non-Null Count  Dtype  \n",
      "---  ------           --------------  -----  \n",
      " 0   PatientId        69168 non-null  float64\n",
      " 1   AppointmentID    69168 non-null  int64  \n",
      " 2   Sex              69168 non-null  object \n",
      " 3   ScheduledDate    69168 non-null  object \n",
      " 4   AppointmentDate  69168 non-null  object \n",
      " 5   Age              69168 non-null  float64\n",
      " 6   Community        69168 non-null  object \n",
      " 7   SocialWelfare    69168 non-null  object \n",
      " 8   Hipertension     69168 non-null  object \n",
      " 9   Diabetes         69168 non-null  object \n",
      " 10  Alcoholism       69168 non-null  object \n",
      " 11  Handcap          69168 non-null  object \n",
      " 12  SMS_received     69168 non-null  object \n",
      " 13  No-show          69168 non-null  object \n",
      "dtypes: float64(2), int64(1), object(11)\n",
      "memory usage: 7.9+ MB\n"
     ]
    }
   ],
   "source": [
    "df_t.info()"
   ]
  },
  {
   "cell_type": "code",
   "execution_count": 19,
   "metadata": {},
   "outputs": [
    {
     "data": {
      "text/plain": [
       "PatientId          21.774239\n",
       "AppointmentID      21.774239\n",
       "Sex                21.774239\n",
       "ScheduledDate      21.774239\n",
       "AppointmentDate    21.774239\n",
       "Age                13.120808\n",
       "Community          10.989859\n",
       "SocialWelfare       8.871966\n",
       "Hipertension       13.970149\n",
       "Diabetes           21.774239\n",
       "Alcoholism          5.934831\n",
       "Handcap            21.774239\n",
       "SMS_received       21.774239\n",
       "No-show            21.774239\n",
       "dtype: float64"
      ]
     },
     "execution_count": 19,
     "metadata": {},
     "output_type": "execute_result"
    }
   ],
   "source": [
    "# Apprx loss of data\n",
    "\n",
    "(1- (df_t.count()/ df.count())) * 100"
   ]
  },
  {
   "cell_type": "code",
   "execution_count": 20,
   "metadata": {},
   "outputs": [
    {
     "data": {
      "text/plain": [
       "PatientId          float64\n",
       "AppointmentID        int64\n",
       "Sex                 object\n",
       "ScheduledDate       object\n",
       "AppointmentDate     object\n",
       "Age                float64\n",
       "Community           object\n",
       "SocialWelfare       object\n",
       "Hipertension        object\n",
       "Diabetes            object\n",
       "Alcoholism          object\n",
       "Handcap             object\n",
       "SMS_received        object\n",
       "No-show             object\n",
       "dtype: object"
      ]
     },
     "execution_count": 20,
     "metadata": {},
     "output_type": "execute_result"
    }
   ],
   "source": [
    "df_t.dtypes"
   ]
  },
  {
   "cell_type": "code",
   "execution_count": 21,
   "metadata": {},
   "outputs": [],
   "source": [
    "# Adding New Features: Time between ScheduledDate and AppointmentDate\n",
    "\n",
    "from datetime import timedelta\n",
    "\n",
    "df_t['time_bw_schedule_appointment'] = df_t['AppointmentDate'] - df_t['ScheduledDate']\n",
    "\n",
    "## Convert to float (days)\n",
    "\n",
    "df_t['time_bw_schedule_appointment'] = df_t['time_bw_schedule_appointment'] / pd.Timedelta(days=1)\n",
    "df_t['time_bw_schedule_appointment'] = df_t['time_bw_schedule_appointment'].astype(float)\n",
    "\n"
   ]
  },
  {
   "cell_type": "code",
   "execution_count": 22,
   "metadata": {},
   "outputs": [
    {
     "data": {
      "image/png": "[encoded data removed]",
      "text/plain": [
       "<Figure size 750x900 with 1 Axes>"
      ]
     },
     "metadata": {},
     "output_type": "display_data"
    }
   ],
   "source": [
    "# Plot histogram with split bars ## EDA and can be removed later.\n",
    "\n",
    "plt.hist([df_t[df_t['No-show'] == 'No']['time_bw_schedule_appointment'], df_t[df_t['No-show'] == 'Yes']['time_bw_schedule_appointment']],\n",
    "         bins=10, color=['green', 'red'], alpha=0.7, edgecolor='black', label=['No', 'Yes'], stacked=True)\n",
    "\n",
    "plt.title('Time Diff Distribution')\n",
    "plt.xlabel('Days')\n",
    "plt.ylabel('Count')\n",
    "plt.legend()\n",
    "\n",
    "plt.show()"
   ]
  },
  {
   "cell_type": "code",
   "execution_count": 23,
   "metadata": {},
   "outputs": [],
   "source": [
    "# Take relevant columns for correlation matrix\n",
    "\n",
    "df_sub = df_t[['Diabetes', 'Sex', 'Alcoholism', 'Hipertension', 'SMS_received', 'Handcap', 'time_bw_schedule_appointment', 'No-show']]"
   ]
  },
  {
   "cell_type": "code",
   "execution_count": 24,
   "metadata": {},
   "outputs": [
    {
     "data": {
      "text/plain": [
       "<Axes: >"
      ]
     },
     "execution_count": 24,
     "metadata": {},
     "output_type": "execute_result"
    },
    {
     "data": {
      "image/png": "[encoded data removed]",
      "text/plain": [
       "<Figure size 750x900 with 2 Axes>"
      ]
     },
     "metadata": {},
     "output_type": "display_data"
    }
   ],
   "source": [
    "# Feature Selection: Correlation Matrix to understand which features have highest correlation with target variable and less correlation amongst each other.\n",
    "\n",
    "df_t_encoded = pd.get_dummies(df_sub, columns=['Diabetes', 'Sex', 'Alcoholism', 'Hipertension', 'SMS_received', 'Handcap', 'No-show'], drop_first=True).astype(int)\n",
    "correlation_matrix = df_t_encoded.corr()\n",
    "\n",
    "sns.heatmap(correlation_matrix, annot=True, cmap=\"coolwarm\", fmt=\".2f\", linewidths=.5)"
   ]
  },
  {
   "cell_type": "code",
   "execution_count": null,
   "metadata": {},
   "outputs": [],
   "source": [
    "# Feature Selection based on Info Gain\n",
    "\n",
    "from sklearn.feature_selection import mutual_info_classif\n",
    "\n",
    "X = df_t_encoded.drop(\"No-show_Yes\", axis=1)\n",
    "y = df_t_encoded['No-show_Yes']\n",
    "\n",
    "importances = mutual_info_classif(X, y)\n",
    "feature_importances = pd.Series(importances, df_t_encoded.columns[0:len(df_t_encoded.columns)-1])\n",
    "feature_importances.plot(kind=\"bar\", color=\"teal\")\n",
    "plt.show()"
   ]
  },
  {
   "cell_type": "code",
   "execution_count": null,
   "metadata": {},
   "outputs": [],
   "source": [
    "from sklearn.feature_selection import SelectKBest\n",
    "from sklearn.feature_selection import chi2, f_regression, f_classif\n",
    "from numpy import array\n",
    "\n",
    "# Create training set and prediction target\n",
    "X = df_t_encoded.drop(\"No-show_Yes\", axis=1)\n",
    "y = df_t_encoded['No-show_Yes']\n",
    "\n",
    "# Perform feature selection\n",
    "# Set k to the number of features you want to identify\n",
    "select = SelectKBest(score_func=f_classif, k=4)\n",
    "select.fit_transform(X,y)\n",
    "\n",
    "# Print feature names\n",
    "filter = select.get_support() \n",
    "features = array(X.columns)\n",
    " \n",
    "print(\"Selected best:\")\n",
    "print(features[filter])"
   ]
  },
  {
   "cell_type": "code",
   "execution_count": null,
   "metadata": {},
   "outputs": [],
   "source": [
    "df_t.info()"
   ]
  },
  {
   "cell_type": "code",
   "execution_count": 25,
   "metadata": {},
   "outputs": [
    {
     "name": "stderr",
     "output_type": "stream",
     "text": [
      "/var/folders/bv/wljp2_jn7gzcm0jjwnmshvnm0000gn/T/ipykernel_19067/4270060669.py:1: FutureWarning: DataFrame.applymap has been deprecated. Use DataFrame.map instead.\n",
      "  df_t = df_t.applymap(lambda x: x.capitalize() if isinstance(x, str) else x)\n"
     ]
    }
   ],
   "source": [
    "df_t = df_t.applymap(lambda x: x.capitalize() if isinstance(x, str) else x)"
   ]
  },
  {
   "cell_type": "markdown",
   "metadata": {},
   "source": [
    "### 6. Train-Test Split"
   ]
  },
  {
   "cell_type": "code",
   "execution_count": 26,
   "metadata": {},
   "outputs": [],
   "source": [
    "from sklearn.model_selection import train_test_split\n",
    "\n",
    "X = df_t.drop(columns=['No-show', 'PatientId', 'AppointmentID', 'ScheduledDate', 'AppointmentDate', 'Community'])\n",
    "y = df_t['No-show']\n",
    "\n",
    "from sklearn.preprocessing import LabelEncoder\n",
    "\n",
    "# Create an instance of LabelEncoder\n",
    "label_encoder = LabelEncoder()\n",
    "\n",
    "y = label_encoder.fit_transform(y)\n",
    "\n",
    "X_train, X_test, y_train, y_test = train_test_split(X, y, test_size=0.2, stratify=y, random_state=42)"
   ]
  },
  {
   "cell_type": "code",
   "execution_count": 27,
   "metadata": {},
   "outputs": [
    {
     "name": "stdout",
     "output_type": "stream",
     "text": [
      "<class 'pandas.core.frame.DataFrame'>\n",
      "Index: 69168 entries, 0 to 88420\n",
      "Data columns (total 15 columns):\n",
      " #   Column                        Non-Null Count  Dtype  \n",
      "---  ------                        --------------  -----  \n",
      " 0   PatientId                     69168 non-null  float64\n",
      " 1   AppointmentID                 69168 non-null  int64  \n",
      " 2   Sex                           69168 non-null  object \n",
      " 3   ScheduledDate                 69168 non-null  object \n",
      " 4   AppointmentDate               69168 non-null  object \n",
      " 5   Age                           69168 non-null  float64\n",
      " 6   Community                     69168 non-null  object \n",
      " 7   SocialWelfare                 69168 non-null  object \n",
      " 8   Hipertension                  69168 non-null  object \n",
      " 9   Diabetes                      69168 non-null  object \n",
      " 10  Alcoholism                    69168 non-null  object \n",
      " 11  Handcap                       69168 non-null  object \n",
      " 12  SMS_received                  69168 non-null  object \n",
      " 13  No-show                       69168 non-null  object \n",
      " 14  time_bw_schedule_appointment  69168 non-null  float64\n",
      "dtypes: float64(3), int64(1), object(11)\n",
      "memory usage: 8.4+ MB\n"
     ]
    }
   ],
   "source": [
    "df_t.info()"
   ]
  },
  {
   "cell_type": "code",
   "execution_count": 28,
   "metadata": {},
   "outputs": [
    {
     "data": {
      "text/plain": [
       "array([[ 0.,  0.,  1., ...,  0.,  0.,  0.],\n",
       "       [ 0.,  0.,  0., ...,  0., 48., 25.],\n",
       "       [ 0.,  0.,  1., ...,  0., 50.,  5.],\n",
       "       ...,\n",
       "       [ 0.,  0.,  1., ...,  0., 96.,  0.],\n",
       "       [ 0.,  0.,  1., ...,  0.,  0., 41.],\n",
       "       [ 0.,  0.,  1., ...,  1., 35.,  5.]])"
      ]
     },
     "execution_count": 28,
     "metadata": {},
     "output_type": "execute_result"
    }
   ],
   "source": [
    "# One Hot Encoding of Categorical Variables\n",
    "\n",
    "from sklearn.compose import ColumnTransformer\n",
    "from sklearn.preprocessing import OneHotEncoder\n",
    "\n",
    "ohe = OneHotEncoder(sparse_output=False, drop='if_binary')\n",
    "\n",
    "ct = ColumnTransformer(\n",
    "    [('OneHotEncoder', ohe, ['SocialWelfare', 'Diabetes', 'Sex', 'Alcoholism', 'Hipertension', 'SMS_received', 'Handcap'])],\n",
    "    remainder='passthrough'\n",
    ")\n",
    "\n",
    "ct.fit_transform(X_train)"
   ]
  },
  {
   "cell_type": "code",
   "execution_count": 29,
   "metadata": {},
   "outputs": [
    {
     "name": "stdout",
     "output_type": "stream",
     "text": [
      "         0    1    2    3    4    5    6     7     8\n",
      "0      0.0  0.0  1.0  0.0  0.0  0.0  0.0   0.0   0.0\n",
      "1      0.0  0.0  0.0  0.0  0.0  1.0  0.0  48.0  25.0\n",
      "2      0.0  0.0  1.0  0.0  0.0  0.0  0.0  50.0   5.0\n",
      "3      0.0  1.0  0.0  0.0  1.0  0.0  0.0  83.0   0.0\n",
      "4      1.0  0.0  0.0  0.0  0.0  0.0  0.0   7.0  13.0\n",
      "...    ...  ...  ...  ...  ...  ...  ...   ...   ...\n",
      "55329  0.0  0.0  1.0  0.0  0.0  1.0  0.0  50.0   4.0\n",
      "55330  0.0  0.0  0.0  0.0  0.0  1.0  0.0  60.0  33.0\n",
      "55331  0.0  0.0  1.0  0.0  1.0  0.0  0.0  96.0   0.0\n",
      "55332  0.0  0.0  1.0  0.0  0.0  0.0  0.0   0.0  41.0\n",
      "55333  0.0  0.0  1.0  0.0  0.0  1.0  1.0  35.0   5.0\n",
      "\n",
      "[55334 rows x 9 columns]\n"
     ]
    }
   ],
   "source": [
    "x = ct.fit_transform(X_train)\n",
    "\n",
    "df_X = pd.DataFrame(x)\n",
    "\n",
    "print(df_X)"
   ]
  },
  {
   "cell_type": "markdown",
   "metadata": {},
   "source": [
    "### 7. Model Building\n"
   ]
  },
  {
   "cell_type": "code",
   "execution_count": 30,
   "metadata": {},
   "outputs": [],
   "source": [
    "from sklearn.tree import DecisionTreeClassifier\n",
    "from sklearn.pipeline import Pipeline\n",
    "\n",
    "clf = DecisionTreeClassifier()\n",
    "\n",
    "# Create pipeline\n",
    "pipe = Pipeline([\n",
    "    ('preprocessor', ct),\n",
    "    ('classifier', clf)]\n",
    ")"
   ]
  },
  {
   "cell_type": "code",
   "execution_count": 31,
   "metadata": {},
   "outputs": [
    {
     "data": {
      "text/html": [
       "<style>#sk-container-id-1 {color: black;}#sk-container-id-1 pre{padding: 0;}#sk-container-id-1 div.sk-toggleable {background-color: white;}#sk-container-id-1 label.sk-toggleable__label {cursor: pointer;display: block;width: 100%;margin-bottom: 0;padding: 0.3em;box-sizing: border-box;text-align: center;}#sk-container-id-1 label.sk-toggleable__label-arrow:before {content: \"▸\";float: left;margin-right: 0.25em;color: #696969;}#sk-container-id-1 label.sk-toggleable__label-arrow:hover:before {color: black;}#sk-container-id-1 div.sk-estimator:hover label.sk-toggleable__label-arrow:before {color: black;}#sk-container-id-1 div.sk-toggleable__content {max-height: 0;max-width: 0;overflow: hidden;text-align: left;background-color: #f0f8ff;}#sk-container-id-1 div.sk-toggleable__content pre {margin: 0.2em;color: black;border-radius: 0.25em;background-color: #f0f8ff;}#sk-container-id-1 input.sk-toggleable__control:checked~div.sk-toggleable__content {max-height: 200px;max-width: 100%;overflow: auto;}#sk-container-id-1 input.sk-toggleable__control:checked~label.sk-toggleable__label-arrow:before {content: \"▾\";}#sk-container-id-1 div.sk-estimator input.sk-toggleable__control:checked~label.sk-toggleable__label {background-color: #d4ebff;}#sk-container-id-1 div.sk-label input.sk-toggleable__control:checked~label.sk-toggleable__label {background-color: #d4ebff;}#sk-container-id-1 input.sk-hidden--visually {border: 0;clip: rect(1px 1px 1px 1px);clip: rect(1px, 1px, 1px, 1px);height: 1px;margin: -1px;overflow: hidden;padding: 0;position: absolute;width: 1px;}#sk-container-id-1 div.sk-estimator {font-family: monospace;background-color: #f0f8ff;border: 1px dotted black;border-radius: 0.25em;box-sizing: border-box;margin-bottom: 0.5em;}#sk-container-id-1 div.sk-estimator:hover {background-color: #d4ebff;}#sk-container-id-1 div.sk-parallel-item::after {content: \"\";width: 100%;border-bottom: 1px solid gray;flex-grow: 1;}#sk-container-id-1 div.sk-label:hover label.sk-toggleable__label {background-color: #d4ebff;}#sk-container-id-1 div.sk-serial::before {content: \"\";position: absolute;border-left: 1px solid gray;box-sizing: border-box;top: 0;bottom: 0;left: 50%;z-index: 0;}#sk-container-id-1 div.sk-serial {display: flex;flex-direction: column;align-items: center;background-color: white;padding-right: 0.2em;padding-left: 0.2em;position: relative;}#sk-container-id-1 div.sk-item {position: relative;z-index: 1;}#sk-container-id-1 div.sk-parallel {display: flex;align-items: stretch;justify-content: center;background-color: white;position: relative;}#sk-container-id-1 div.sk-item::before, #sk-container-id-1 div.sk-parallel-item::before {content: \"\";position: absolute;border-left: 1px solid gray;box-sizing: border-box;top: 0;bottom: 0;left: 50%;z-index: -1;}#sk-container-id-1 div.sk-parallel-item {display: flex;flex-direction: column;z-index: 1;position: relative;background-color: white;}#sk-container-id-1 div.sk-parallel-item:first-child::after {align-self: flex-end;width: 50%;}#sk-container-id-1 div.sk-parallel-item:last-child::after {align-self: flex-start;width: 50%;}#sk-container-id-1 div.sk-parallel-item:only-child::after {width: 0;}#sk-container-id-1 div.sk-dashed-wrapped {border: 1px dashed gray;margin: 0 0.4em 0.5em 0.4em;box-sizing: border-box;padding-bottom: 0.4em;background-color: white;}#sk-container-id-1 div.sk-label label {font-family: monospace;font-weight: bold;display: inline-block;line-height: 1.2em;}#sk-container-id-1 div.sk-label-container {text-align: center;}#sk-container-id-1 div.sk-container {/* jupyter's `normalize.less` sets `[hidden] { display: none; }` but bootstrap.min.css set `[hidden] { display: none !important; }` so we also need the `!important` here to be able to override the default hidden behavior on the sphinx rendered scikit-learn.org. See: https://github.com/scikit-learn/scikit-learn/issues/21755 */display: inline-block !important;position: relative;}#sk-container-id-1 div.sk-text-repr-fallback {display: none;}</style><div id=\"sk-container-id-1\" class=\"sk-top-container\"><div class=\"sk-text-repr-fallback\"><pre>Pipeline(steps=[(&#x27;preprocessor&#x27;,\n",
       "                 ColumnTransformer(remainder=&#x27;passthrough&#x27;,\n",
       "                                   transformers=[(&#x27;OneHotEncoder&#x27;,\n",
       "                                                  OneHotEncoder(drop=&#x27;if_binary&#x27;,\n",
       "                                                                sparse_output=False),\n",
       "                                                  [&#x27;SocialWelfare&#x27;, &#x27;Diabetes&#x27;,\n",
       "                                                   &#x27;Sex&#x27;, &#x27;Alcoholism&#x27;,\n",
       "                                                   &#x27;Hipertension&#x27;,\n",
       "                                                   &#x27;SMS_received&#x27;,\n",
       "                                                   &#x27;Handcap&#x27;])])),\n",
       "                (&#x27;classifier&#x27;, DecisionTreeClassifier())])</pre><b>In a Jupyter environment, please rerun this cell to show the HTML representation or trust the notebook. <br />On GitHub, the HTML representation is unable to render, please try loading this page with nbviewer.org.</b></div><div class=\"sk-container\" hidden><div class=\"sk-item sk-dashed-wrapped\"><div class=\"sk-label-container\"><div class=\"sk-label sk-toggleable\"><input class=\"sk-toggleable__control sk-hidden--visually\" id=\"sk-estimator-id-1\" type=\"checkbox\" ><label for=\"sk-estimator-id-1\" class=\"sk-toggleable__label sk-toggleable__label-arrow\">Pipeline</label><div class=\"sk-toggleable__content\"><pre>Pipeline(steps=[(&#x27;preprocessor&#x27;,\n",
       "                 ColumnTransformer(remainder=&#x27;passthrough&#x27;,\n",
       "                                   transformers=[(&#x27;OneHotEncoder&#x27;,\n",
       "                                                  OneHotEncoder(drop=&#x27;if_binary&#x27;,\n",
       "                                                                sparse_output=False),\n",
       "                                                  [&#x27;SocialWelfare&#x27;, &#x27;Diabetes&#x27;,\n",
       "                                                   &#x27;Sex&#x27;, &#x27;Alcoholism&#x27;,\n",
       "                                                   &#x27;Hipertension&#x27;,\n",
       "                                                   &#x27;SMS_received&#x27;,\n",
       "                                                   &#x27;Handcap&#x27;])])),\n",
       "                (&#x27;classifier&#x27;, DecisionTreeClassifier())])</pre></div></div></div><div class=\"sk-serial\"><div class=\"sk-item sk-dashed-wrapped\"><div class=\"sk-label-container\"><div class=\"sk-label sk-toggleable\"><input class=\"sk-toggleable__control sk-hidden--visually\" id=\"sk-estimator-id-2\" type=\"checkbox\" ><label for=\"sk-estimator-id-2\" class=\"sk-toggleable__label sk-toggleable__label-arrow\">preprocessor: ColumnTransformer</label><div class=\"sk-toggleable__content\"><pre>ColumnTransformer(remainder=&#x27;passthrough&#x27;,\n",
       "                  transformers=[(&#x27;OneHotEncoder&#x27;,\n",
       "                                 OneHotEncoder(drop=&#x27;if_binary&#x27;,\n",
       "                                               sparse_output=False),\n",
       "                                 [&#x27;SocialWelfare&#x27;, &#x27;Diabetes&#x27;, &#x27;Sex&#x27;,\n",
       "                                  &#x27;Alcoholism&#x27;, &#x27;Hipertension&#x27;, &#x27;SMS_received&#x27;,\n",
       "                                  &#x27;Handcap&#x27;])])</pre></div></div></div><div class=\"sk-parallel\"><div class=\"sk-parallel-item\"><div class=\"sk-item\"><div class=\"sk-label-container\"><div class=\"sk-label sk-toggleable\"><input class=\"sk-toggleable__control sk-hidden--visually\" id=\"sk-estimator-id-3\" type=\"checkbox\" ><label for=\"sk-estimator-id-3\" class=\"sk-toggleable__label sk-toggleable__label-arrow\">OneHotEncoder</label><div class=\"sk-toggleable__content\"><pre>[&#x27;SocialWelfare&#x27;, &#x27;Diabetes&#x27;, &#x27;Sex&#x27;, &#x27;Alcoholism&#x27;, &#x27;Hipertension&#x27;, &#x27;SMS_received&#x27;, &#x27;Handcap&#x27;]</pre></div></div></div><div class=\"sk-serial\"><div class=\"sk-item\"><div class=\"sk-estimator sk-toggleable\"><input class=\"sk-toggleable__control sk-hidden--visually\" id=\"sk-estimator-id-4\" type=\"checkbox\" ><label for=\"sk-estimator-id-4\" class=\"sk-toggleable__label sk-toggleable__label-arrow\">OneHotEncoder</label><div class=\"sk-toggleable__content\"><pre>OneHotEncoder(drop=&#x27;if_binary&#x27;, sparse_output=False)</pre></div></div></div></div></div></div><div class=\"sk-parallel-item\"><div class=\"sk-item\"><div class=\"sk-label-container\"><div class=\"sk-label sk-toggleable\"><input class=\"sk-toggleable__control sk-hidden--visually\" id=\"sk-estimator-id-5\" type=\"checkbox\" ><label for=\"sk-estimator-id-5\" class=\"sk-toggleable__label sk-toggleable__label-arrow\">remainder</label><div class=\"sk-toggleable__content\"><pre>[&#x27;Age&#x27;, &#x27;time_bw_schedule_appointment&#x27;]</pre></div></div></div><div class=\"sk-serial\"><div class=\"sk-item\"><div class=\"sk-estimator sk-toggleable\"><input class=\"sk-toggleable__control sk-hidden--visually\" id=\"sk-estimator-id-6\" type=\"checkbox\" ><label for=\"sk-estimator-id-6\" class=\"sk-toggleable__label sk-toggleable__label-arrow\">passthrough</label><div class=\"sk-toggleable__content\"><pre>passthrough</pre></div></div></div></div></div></div></div></div><div class=\"sk-item\"><div class=\"sk-estimator sk-toggleable\"><input class=\"sk-toggleable__control sk-hidden--visually\" id=\"sk-estimator-id-7\" type=\"checkbox\" ><label for=\"sk-estimator-id-7\" class=\"sk-toggleable__label sk-toggleable__label-arrow\">DecisionTreeClassifier</label><div class=\"sk-toggleable__content\"><pre>DecisionTreeClassifier()</pre></div></div></div></div></div></div></div>"
      ],
      "text/plain": [
       "Pipeline(steps=[('preprocessor',\n",
       "                 ColumnTransformer(remainder='passthrough',\n",
       "                                   transformers=[('OneHotEncoder',\n",
       "                                                  OneHotEncoder(drop='if_binary',\n",
       "                                                                sparse_output=False),\n",
       "                                                  ['SocialWelfare', 'Diabetes',\n",
       "                                                   'Sex', 'Alcoholism',\n",
       "                                                   'Hipertension',\n",
       "                                                   'SMS_received',\n",
       "                                                   'Handcap'])])),\n",
       "                ('classifier', DecisionTreeClassifier())])"
      ]
     },
     "execution_count": 31,
     "metadata": {},
     "output_type": "execute_result"
    }
   ],
   "source": [
    "pipe"
   ]
  },
  {
   "cell_type": "code",
   "execution_count": 32,
   "metadata": {},
   "outputs": [
    {
     "data": {
      "text/html": [
       "<style>#sk-container-id-2 {color: black;}#sk-container-id-2 pre{padding: 0;}#sk-container-id-2 div.sk-toggleable {background-color: white;}#sk-container-id-2 label.sk-toggleable__label {cursor: pointer;display: block;width: 100%;margin-bottom: 0;padding: 0.3em;box-sizing: border-box;text-align: center;}#sk-container-id-2 label.sk-toggleable__label-arrow:before {content: \"▸\";float: left;margin-right: 0.25em;color: #696969;}#sk-container-id-2 label.sk-toggleable__label-arrow:hover:before {color: black;}#sk-container-id-2 div.sk-estimator:hover label.sk-toggleable__label-arrow:before {color: black;}#sk-container-id-2 div.sk-toggleable__content {max-height: 0;max-width: 0;overflow: hidden;text-align: left;background-color: #f0f8ff;}#sk-container-id-2 div.sk-toggleable__content pre {margin: 0.2em;color: black;border-radius: 0.25em;background-color: #f0f8ff;}#sk-container-id-2 input.sk-toggleable__control:checked~div.sk-toggleable__content {max-height: 200px;max-width: 100%;overflow: auto;}#sk-container-id-2 input.sk-toggleable__control:checked~label.sk-toggleable__label-arrow:before {content: \"▾\";}#sk-container-id-2 div.sk-estimator input.sk-toggleable__control:checked~label.sk-toggleable__label {background-color: #d4ebff;}#sk-container-id-2 div.sk-label input.sk-toggleable__control:checked~label.sk-toggleable__label {background-color: #d4ebff;}#sk-container-id-2 input.sk-hidden--visually {border: 0;clip: rect(1px 1px 1px 1px);clip: rect(1px, 1px, 1px, 1px);height: 1px;margin: -1px;overflow: hidden;padding: 0;position: absolute;width: 1px;}#sk-container-id-2 div.sk-estimator {font-family: monospace;background-color: #f0f8ff;border: 1px dotted black;border-radius: 0.25em;box-sizing: border-box;margin-bottom: 0.5em;}#sk-container-id-2 div.sk-estimator:hover {background-color: #d4ebff;}#sk-container-id-2 div.sk-parallel-item::after {content: \"\";width: 100%;border-bottom: 1px solid gray;flex-grow: 1;}#sk-container-id-2 div.sk-label:hover label.sk-toggleable__label {background-color: #d4ebff;}#sk-container-id-2 div.sk-serial::before {content: \"\";position: absolute;border-left: 1px solid gray;box-sizing: border-box;top: 0;bottom: 0;left: 50%;z-index: 0;}#sk-container-id-2 div.sk-serial {display: flex;flex-direction: column;align-items: center;background-color: white;padding-right: 0.2em;padding-left: 0.2em;position: relative;}#sk-container-id-2 div.sk-item {position: relative;z-index: 1;}#sk-container-id-2 div.sk-parallel {display: flex;align-items: stretch;justify-content: center;background-color: white;position: relative;}#sk-container-id-2 div.sk-item::before, #sk-container-id-2 div.sk-parallel-item::before {content: \"\";position: absolute;border-left: 1px solid gray;box-sizing: border-box;top: 0;bottom: 0;left: 50%;z-index: -1;}#sk-container-id-2 div.sk-parallel-item {display: flex;flex-direction: column;z-index: 1;position: relative;background-color: white;}#sk-container-id-2 div.sk-parallel-item:first-child::after {align-self: flex-end;width: 50%;}#sk-container-id-2 div.sk-parallel-item:last-child::after {align-self: flex-start;width: 50%;}#sk-container-id-2 div.sk-parallel-item:only-child::after {width: 0;}#sk-container-id-2 div.sk-dashed-wrapped {border: 1px dashed gray;margin: 0 0.4em 0.5em 0.4em;box-sizing: border-box;padding-bottom: 0.4em;background-color: white;}#sk-container-id-2 div.sk-label label {font-family: monospace;font-weight: bold;display: inline-block;line-height: 1.2em;}#sk-container-id-2 div.sk-label-container {text-align: center;}#sk-container-id-2 div.sk-container {/* jupyter's `normalize.less` sets `[hidden] { display: none; }` but bootstrap.min.css set `[hidden] { display: none !important; }` so we also need the `!important` here to be able to override the default hidden behavior on the sphinx rendered scikit-learn.org. See: https://github.com/scikit-learn/scikit-learn/issues/21755 */display: inline-block !important;position: relative;}#sk-container-id-2 div.sk-text-repr-fallback {display: none;}</style><div id=\"sk-container-id-2\" class=\"sk-top-container\"><div class=\"sk-text-repr-fallback\"><pre>Pipeline(steps=[(&#x27;preprocessor&#x27;,\n",
       "                 ColumnTransformer(remainder=&#x27;passthrough&#x27;,\n",
       "                                   transformers=[(&#x27;OneHotEncoder&#x27;,\n",
       "                                                  OneHotEncoder(drop=&#x27;if_binary&#x27;,\n",
       "                                                                sparse_output=False),\n",
       "                                                  [&#x27;SocialWelfare&#x27;, &#x27;Diabetes&#x27;,\n",
       "                                                   &#x27;Sex&#x27;, &#x27;Alcoholism&#x27;,\n",
       "                                                   &#x27;Hipertension&#x27;,\n",
       "                                                   &#x27;SMS_received&#x27;,\n",
       "                                                   &#x27;Handcap&#x27;])])),\n",
       "                (&#x27;classifier&#x27;, DecisionTreeClassifier())])</pre><b>In a Jupyter environment, please rerun this cell to show the HTML representation or trust the notebook. <br />On GitHub, the HTML representation is unable to render, please try loading this page with nbviewer.org.</b></div><div class=\"sk-container\" hidden><div class=\"sk-item sk-dashed-wrapped\"><div class=\"sk-label-container\"><div class=\"sk-label sk-toggleable\"><input class=\"sk-toggleable__control sk-hidden--visually\" id=\"sk-estimator-id-8\" type=\"checkbox\" ><label for=\"sk-estimator-id-8\" class=\"sk-toggleable__label sk-toggleable__label-arrow\">Pipeline</label><div class=\"sk-toggleable__content\"><pre>Pipeline(steps=[(&#x27;preprocessor&#x27;,\n",
       "                 ColumnTransformer(remainder=&#x27;passthrough&#x27;,\n",
       "                                   transformers=[(&#x27;OneHotEncoder&#x27;,\n",
       "                                                  OneHotEncoder(drop=&#x27;if_binary&#x27;,\n",
       "                                                                sparse_output=False),\n",
       "                                                  [&#x27;SocialWelfare&#x27;, &#x27;Diabetes&#x27;,\n",
       "                                                   &#x27;Sex&#x27;, &#x27;Alcoholism&#x27;,\n",
       "                                                   &#x27;Hipertension&#x27;,\n",
       "                                                   &#x27;SMS_received&#x27;,\n",
       "                                                   &#x27;Handcap&#x27;])])),\n",
       "                (&#x27;classifier&#x27;, DecisionTreeClassifier())])</pre></div></div></div><div class=\"sk-serial\"><div class=\"sk-item sk-dashed-wrapped\"><div class=\"sk-label-container\"><div class=\"sk-label sk-toggleable\"><input class=\"sk-toggleable__control sk-hidden--visually\" id=\"sk-estimator-id-9\" type=\"checkbox\" ><label for=\"sk-estimator-id-9\" class=\"sk-toggleable__label sk-toggleable__label-arrow\">preprocessor: ColumnTransformer</label><div class=\"sk-toggleable__content\"><pre>ColumnTransformer(remainder=&#x27;passthrough&#x27;,\n",
       "                  transformers=[(&#x27;OneHotEncoder&#x27;,\n",
       "                                 OneHotEncoder(drop=&#x27;if_binary&#x27;,\n",
       "                                               sparse_output=False),\n",
       "                                 [&#x27;SocialWelfare&#x27;, &#x27;Diabetes&#x27;, &#x27;Sex&#x27;,\n",
       "                                  &#x27;Alcoholism&#x27;, &#x27;Hipertension&#x27;, &#x27;SMS_received&#x27;,\n",
       "                                  &#x27;Handcap&#x27;])])</pre></div></div></div><div class=\"sk-parallel\"><div class=\"sk-parallel-item\"><div class=\"sk-item\"><div class=\"sk-label-container\"><div class=\"sk-label sk-toggleable\"><input class=\"sk-toggleable__control sk-hidden--visually\" id=\"sk-estimator-id-10\" type=\"checkbox\" ><label for=\"sk-estimator-id-10\" class=\"sk-toggleable__label sk-toggleable__label-arrow\">OneHotEncoder</label><div class=\"sk-toggleable__content\"><pre>[&#x27;SocialWelfare&#x27;, &#x27;Diabetes&#x27;, &#x27;Sex&#x27;, &#x27;Alcoholism&#x27;, &#x27;Hipertension&#x27;, &#x27;SMS_received&#x27;, &#x27;Handcap&#x27;]</pre></div></div></div><div class=\"sk-serial\"><div class=\"sk-item\"><div class=\"sk-estimator sk-toggleable\"><input class=\"sk-toggleable__control sk-hidden--visually\" id=\"sk-estimator-id-11\" type=\"checkbox\" ><label for=\"sk-estimator-id-11\" class=\"sk-toggleable__label sk-toggleable__label-arrow\">OneHotEncoder</label><div class=\"sk-toggleable__content\"><pre>OneHotEncoder(drop=&#x27;if_binary&#x27;, sparse_output=False)</pre></div></div></div></div></div></div><div class=\"sk-parallel-item\"><div class=\"sk-item\"><div class=\"sk-label-container\"><div class=\"sk-label sk-toggleable\"><input class=\"sk-toggleable__control sk-hidden--visually\" id=\"sk-estimator-id-12\" type=\"checkbox\" ><label for=\"sk-estimator-id-12\" class=\"sk-toggleable__label sk-toggleable__label-arrow\">remainder</label><div class=\"sk-toggleable__content\"><pre>[&#x27;Age&#x27;, &#x27;time_bw_schedule_appointment&#x27;]</pre></div></div></div><div class=\"sk-serial\"><div class=\"sk-item\"><div class=\"sk-estimator sk-toggleable\"><input class=\"sk-toggleable__control sk-hidden--visually\" id=\"sk-estimator-id-13\" type=\"checkbox\" ><label for=\"sk-estimator-id-13\" class=\"sk-toggleable__label sk-toggleable__label-arrow\">passthrough</label><div class=\"sk-toggleable__content\"><pre>passthrough</pre></div></div></div></div></div></div></div></div><div class=\"sk-item\"><div class=\"sk-estimator sk-toggleable\"><input class=\"sk-toggleable__control sk-hidden--visually\" id=\"sk-estimator-id-14\" type=\"checkbox\" ><label for=\"sk-estimator-id-14\" class=\"sk-toggleable__label sk-toggleable__label-arrow\">DecisionTreeClassifier</label><div class=\"sk-toggleable__content\"><pre>DecisionTreeClassifier()</pre></div></div></div></div></div></div></div>"
      ],
      "text/plain": [
       "Pipeline(steps=[('preprocessor',\n",
       "                 ColumnTransformer(remainder='passthrough',\n",
       "                                   transformers=[('OneHotEncoder',\n",
       "                                                  OneHotEncoder(drop='if_binary',\n",
       "                                                                sparse_output=False),\n",
       "                                                  ['SocialWelfare', 'Diabetes',\n",
       "                                                   'Sex', 'Alcoholism',\n",
       "                                                   'Hipertension',\n",
       "                                                   'SMS_received',\n",
       "                                                   'Handcap'])])),\n",
       "                ('classifier', DecisionTreeClassifier())])"
      ]
     },
     "execution_count": 32,
     "metadata": {},
     "output_type": "execute_result"
    }
   ],
   "source": [
    "pipe.fit(X_train, y_train)"
   ]
  },
  {
   "cell_type": "code",
   "execution_count": 33,
   "metadata": {},
   "outputs": [],
   "source": [
    "y_pred = pipe.predict(X_test)"
   ]
  },
  {
   "cell_type": "markdown",
   "metadata": {},
   "source": [
    "### 8. Model Evaluation"
   ]
  },
  {
   "cell_type": "code",
   "execution_count": null,
   "metadata": {},
   "outputs": [],
   "source": [
    "import matplotlib.pyplot as plt\n",
    "from sklearn.metrics import confusion_matrix, ConfusionMatrixDisplay\n",
    "\n",
    "display_labels=['No-Show', 'Show']\n",
    "cm = confusion_matrix(y_test, y_pred, labels=clf.classes_)\n",
    "disp = ConfusionMatrixDisplay(confusion_matrix=cm,\n",
    "                               display_labels=display_labels)\n",
    "disp.plot()\n",
    "plt.show()"
   ]
  },
  {
   "cell_type": "code",
   "execution_count": null,
   "metadata": {},
   "outputs": [],
   "source": [
    "# Print a classification report\n",
    "from sklearn.metrics import classification_report\n",
    "print(classification_report(y_test, y_pred))"
   ]
  },
  {
   "cell_type": "markdown",
   "metadata": {},
   "source": [
    "## This is the processing for test."
   ]
  },
  {
   "cell_type": "code",
   "execution_count": 34,
   "metadata": {},
   "outputs": [],
   "source": [
    "# Keeping original df intact:\n",
    "\n",
    "df_test = pd.read_csv('/Users/ligiavergara/Documents/GitHub/BIPM/Data Science/Project/test.csv')\n",
    "\n",
    "df_test_t = df_test[:]"
   ]
  },
  {
   "cell_type": "code",
   "execution_count": 35,
   "metadata": {},
   "outputs": [
    {
     "name": "stdout",
     "output_type": "stream",
     "text": [
      "<class 'pandas.core.frame.DataFrame'>\n",
      "RangeIndex: 22106 entries, 0 to 22105\n",
      "Data columns (total 13 columns):\n",
      " #   Column           Non-Null Count  Dtype  \n",
      "---  ------           --------------  -----  \n",
      " 0   PatientId        22106 non-null  float64\n",
      " 1   AppointmentID    22106 non-null  int64  \n",
      " 2   Sex              22106 non-null  object \n",
      " 3   ScheduledDate    22106 non-null  object \n",
      " 4   AppointmentDate  22106 non-null  object \n",
      " 5   Age              19955 non-null  float64\n",
      " 6   Community        19461 non-null  object \n",
      " 7   SocialWelfare    19043 non-null  object \n",
      " 8   Hipertension     20089 non-null  object \n",
      " 9   Diabetes         22106 non-null  object \n",
      " 10  Alcoholism       18371 non-null  object \n",
      " 11  Handcap          22106 non-null  object \n",
      " 12  SMS_received     22106 non-null  object \n",
      "dtypes: float64(2), int64(1), object(10)\n",
      "memory usage: 2.2+ MB\n"
     ]
    }
   ],
   "source": [
    "df_test_t.info()"
   ]
  },
  {
   "cell_type": "code",
   "execution_count": 36,
   "metadata": {},
   "outputs": [
    {
     "data": {
      "text/plain": [
       "PatientId          float64\n",
       "AppointmentID        int64\n",
       "Sex                 object\n",
       "ScheduledDate       object\n",
       "AppointmentDate     object\n",
       "Age                float64\n",
       "Community           object\n",
       "SocialWelfare       object\n",
       "Hipertension        object\n",
       "Diabetes            object\n",
       "Alcoholism          object\n",
       "Handcap             object\n",
       "SMS_received        object\n",
       "dtype: object"
      ]
     },
     "execution_count": 36,
     "metadata": {},
     "output_type": "execute_result"
    }
   ],
   "source": [
    "## Data Type Consistency\n",
    "\n",
    "df_test_t.dtypes"
   ]
  },
  {
   "cell_type": "code",
   "execution_count": null,
   "metadata": {},
   "outputs": [],
   "source": [
    "# Dropping erroneous data\n",
    "\n",
    "# No need to change dates."
   ]
  },
  {
   "cell_type": "code",
   "execution_count": 37,
   "metadata": {},
   "outputs": [],
   "source": [
    "# Dropping outliers for Handcap: 2, 3, 4\n",
    "\n",
    "import numpy as np\n",
    "\n",
    "df_test_t['Handcap'] = np.where(df_test_t['Handcap'] != 'yes', 'no', df_test_t['Handcap'])"
   ]
  },
  {
   "cell_type": "code",
   "execution_count": 38,
   "metadata": {},
   "outputs": [
    {
     "name": "stdout",
     "output_type": "stream",
     "text": [
      "<class 'pandas.core.frame.DataFrame'>\n",
      "RangeIndex: 22106 entries, 0 to 22105\n",
      "Data columns (total 13 columns):\n",
      " #   Column           Non-Null Count  Dtype  \n",
      "---  ------           --------------  -----  \n",
      " 0   PatientId        22106 non-null  float64\n",
      " 1   AppointmentID    22106 non-null  int64  \n",
      " 2   Sex              22106 non-null  object \n",
      " 3   ScheduledDate    22106 non-null  object \n",
      " 4   AppointmentDate  22106 non-null  object \n",
      " 5   Age              19955 non-null  float64\n",
      " 6   Community        19461 non-null  object \n",
      " 7   SocialWelfare    19043 non-null  object \n",
      " 8   Hipertension     20089 non-null  object \n",
      " 9   Diabetes         22106 non-null  object \n",
      " 10  Alcoholism       18371 non-null  object \n",
      " 11  Handcap          22106 non-null  object \n",
      " 12  SMS_received     22106 non-null  object \n",
      "dtypes: float64(2), int64(1), object(10)\n",
      "memory usage: 2.2+ MB\n"
     ]
    }
   ],
   "source": [
    "df_test_t.info()"
   ]
  },
  {
   "cell_type": "code",
   "execution_count": 39,
   "metadata": {},
   "outputs": [
    {
     "name": "stderr",
     "output_type": "stream",
     "text": [
      "/var/folders/bv/wljp2_jn7gzcm0jjwnmshvnm0000gn/T/ipykernel_19067/1740001506.py:6: FutureWarning: Series.fillna with 'method' is deprecated and will raise in a future version. Use obj.ffill() or obj.bfill() instead.\n",
      "  df_test_t[column] = df_test_t.groupby('PatientId')[column].transform(lambda x: x.fillna(method='ffill').fillna(method='bfill'))\n"
     ]
    }
   ],
   "source": [
    "# Extrapolating missing data\n",
    "\n",
    "missing_columns = ['Age', 'Community', 'SocialWelfare', 'Hipertension', 'Alcoholism']\n",
    "\n",
    "for column in missing_columns:\n",
    "    df_test_t[column] = df_test_t.groupby('PatientId')[column].transform(lambda x: x.fillna(method='ffill').fillna(method='bfill'))\n"
   ]
  },
  {
   "cell_type": "code",
   "execution_count": 42,
   "metadata": {},
   "outputs": [
    {
     "name": "stdout",
     "output_type": "stream",
     "text": [
      "                 Missing Count  Percentage Missing\n",
      "PatientId                    0                0.00\n",
      "AppointmentID                0                0.00\n",
      "Sex                          0                0.00\n",
      "ScheduledDate                0                0.00\n",
      "AppointmentDate              0                0.00\n",
      "Age                       1547                7.00\n",
      "Community                 1975                8.93\n",
      "SocialWelfare             2301               10.41\n",
      "Hipertension              1481                6.70\n",
      "Diabetes                     0                0.00\n",
      "Alcoholism                2826               12.78\n",
      "Handcap                      0                0.00\n",
      "SMS_received                 0                0.00\n"
     ]
    }
   ],
   "source": [
    "missing_data = df_test_t.isnull().sum()\n",
    "total_entries = len(df_test_t)\n",
    "percentage_missing = round((missing_data / total_entries) * 100, 2)\n",
    "\n",
    "missing_info = pd.DataFrame({\n",
    "    'Missing Count': missing_data,\n",
    "    'Percentage Missing': percentage_missing\n",
    "})\n",
    "\n",
    "print(missing_info)"
   ]
  },
  {
   "cell_type": "code",
   "execution_count": 40,
   "metadata": {},
   "outputs": [
    {
     "name": "stdout",
     "output_type": "stream",
     "text": [
      "<class 'pandas.core.frame.DataFrame'>\n",
      "RangeIndex: 22106 entries, 0 to 22105\n",
      "Data columns (total 13 columns):\n",
      " #   Column           Non-Null Count  Dtype  \n",
      "---  ------           --------------  -----  \n",
      " 0   PatientId        22106 non-null  float64\n",
      " 1   AppointmentID    22106 non-null  int64  \n",
      " 2   Sex              22106 non-null  object \n",
      " 3   ScheduledDate    22106 non-null  object \n",
      " 4   AppointmentDate  22106 non-null  object \n",
      " 5   Age              20559 non-null  float64\n",
      " 6   Community        20131 non-null  object \n",
      " 7   SocialWelfare    19805 non-null  object \n",
      " 8   Hipertension     20625 non-null  object \n",
      " 9   Diabetes         22106 non-null  object \n",
      " 10  Alcoholism       19280 non-null  object \n",
      " 11  Handcap          22106 non-null  object \n",
      " 12  SMS_received     22106 non-null  object \n",
      "dtypes: float64(2), int64(1), object(10)\n",
      "memory usage: 2.2+ MB\n"
     ]
    }
   ],
   "source": [
    "df_test_t.info()"
   ]
  },
  {
   "cell_type": "code",
   "execution_count": 43,
   "metadata": {},
   "outputs": [],
   "source": [
    "# Adding New Features: Time between ScheduledDate and AppointmentDate\n",
    "\n",
    "from datetime import timedelta\n",
    "\n",
    "from datetime import datetime\n",
    "\n",
    "df_test_t['AppointmentDate'] = df_test_t['AppointmentDate'].apply(lambda x: datetime.strptime(x, '%Y-%m-%dT%H:%M:%SZ').date())\n",
    "df_test_t['ScheduledDate'] = df_test_t['ScheduledDate'].apply(lambda x: datetime.strptime(x, '%Y-%m-%dT%H:%M:%SZ').date())\n"
   ]
  },
  {
   "cell_type": "code",
   "execution_count": 44,
   "metadata": {},
   "outputs": [],
   "source": [
    "\n",
    "df_test_t['time_bw_schedule_appointment'] = df_test_t['AppointmentDate'] - df_test_t['ScheduledDate']\n",
    "\n",
    "## Convert to float (days)\n",
    "\n",
    "df_test_t['time_bw_schedule_appointment'] = df_test_t['time_bw_schedule_appointment'] / pd.Timedelta(days=1)\n",
    "df_test_t['time_bw_schedule_appointment'] = df_test_t['time_bw_schedule_appointment'].astype(float)\n",
    "\n"
   ]
  },
  {
   "cell_type": "code",
   "execution_count": 45,
   "metadata": {},
   "outputs": [],
   "source": [
    "# Take relevant columns for correlation matrix\n",
    "\n",
    "df_sub_test = df_test_t[['Diabetes', 'Sex', 'Alcoholism', 'Hipertension', 'SMS_received', 'Handcap', 'time_bw_schedule_appointment']]"
   ]
  },
  {
   "cell_type": "code",
   "execution_count": 46,
   "metadata": {},
   "outputs": [
    {
     "name": "stdout",
     "output_type": "stream",
     "text": [
      "<class 'pandas.core.frame.DataFrame'>\n",
      "RangeIndex: 22106 entries, 0 to 22105\n",
      "Data columns (total 14 columns):\n",
      " #   Column                        Non-Null Count  Dtype  \n",
      "---  ------                        --------------  -----  \n",
      " 0   PatientId                     22106 non-null  float64\n",
      " 1   AppointmentID                 22106 non-null  int64  \n",
      " 2   Sex                           22106 non-null  object \n",
      " 3   ScheduledDate                 22106 non-null  object \n",
      " 4   AppointmentDate               22106 non-null  object \n",
      " 5   Age                           20559 non-null  float64\n",
      " 6   Community                     20131 non-null  object \n",
      " 7   SocialWelfare                 19805 non-null  object \n",
      " 8   Hipertension                  20625 non-null  object \n",
      " 9   Diabetes                      22106 non-null  object \n",
      " 10  Alcoholism                    19280 non-null  object \n",
      " 11  Handcap                       22106 non-null  object \n",
      " 12  SMS_received                  22106 non-null  object \n",
      " 13  time_bw_schedule_appointment  22106 non-null  float64\n",
      "dtypes: float64(3), int64(1), object(10)\n",
      "memory usage: 2.4+ MB\n"
     ]
    }
   ],
   "source": [
    "df_test_t.info()"
   ]
  },
  {
   "cell_type": "code",
   "execution_count": 47,
   "metadata": {},
   "outputs": [
    {
     "name": "stderr",
     "output_type": "stream",
     "text": [
      "/var/folders/bv/wljp2_jn7gzcm0jjwnmshvnm0000gn/T/ipykernel_19067/1034764883.py:1: FutureWarning: DataFrame.applymap has been deprecated. Use DataFrame.map instead.\n",
      "  df_test_t = df_test_t.applymap(lambda x: x.capitalize() if isinstance(x, str) else x)\n"
     ]
    }
   ],
   "source": [
    "df_test_t = df_test_t.applymap(lambda x: x.capitalize() if isinstance(x, str) else x)"
   ]
  },
  {
   "cell_type": "code",
   "execution_count": 48,
   "metadata": {},
   "outputs": [
    {
     "name": "stdout",
     "output_type": "stream",
     "text": [
      "<class 'pandas.core.frame.DataFrame'>\n",
      "RangeIndex: 22106 entries, 0 to 22105\n",
      "Data columns (total 9 columns):\n",
      " #   Column                        Non-Null Count  Dtype  \n",
      "---  ------                        --------------  -----  \n",
      " 0   Sex                           22106 non-null  object \n",
      " 1   Age                           20559 non-null  float64\n",
      " 2   SocialWelfare                 19805 non-null  object \n",
      " 3   Hipertension                  20625 non-null  object \n",
      " 4   Diabetes                      22106 non-null  object \n",
      " 5   Alcoholism                    19280 non-null  object \n",
      " 6   Handcap                       22106 non-null  object \n",
      " 7   SMS_received                  22106 non-null  object \n",
      " 8   time_bw_schedule_appointment  22106 non-null  float64\n",
      "dtypes: float64(2), object(7)\n",
      "memory usage: 1.5+ MB\n"
     ]
    }
   ],
   "source": [
    "X_df_test = df_test_t.drop(columns=['PatientId', 'AppointmentID', 'ScheduledDate', 'AppointmentDate', 'Community'])\n",
    "\n",
    "X_df_test.info()"
   ]
  },
  {
   "cell_type": "code",
   "execution_count": 50,
   "metadata": {},
   "outputs": [
    {
     "name": "stdout",
     "output_type": "stream",
     "text": [
      "  Alcoholism      0\n",
      "0         No  18718\n",
      "1        Yes    562\n"
     ]
    }
   ],
   "source": [
    "occ = X_df_test.groupby('Alcoholism').size().reset_index()\n",
    "print(occ)"
   ]
  },
  {
   "cell_type": "code",
   "execution_count": 60,
   "metadata": {},
   "outputs": [
    {
     "data": {
      "text/html": [
       "<div>\n",
       "<style scoped>\n",
       "    .dataframe tbody tr th:only-of-type {\n",
       "        vertical-align: middle;\n",
       "    }\n",
       "\n",
       "    .dataframe tbody tr th {\n",
       "        vertical-align: top;\n",
       "    }\n",
       "\n",
       "    .dataframe thead th {\n",
       "        text-align: right;\n",
       "    }\n",
       "</style>\n",
       "<table border=\"1\" class=\"dataframe\">\n",
       "  <thead>\n",
       "    <tr style=\"text-align: right;\">\n",
       "      <th></th>\n",
       "      <th>Age</th>\n",
       "      <th>SocialWelfare</th>\n",
       "      <th>Diabetes</th>\n",
       "      <th>Alcoholism</th>\n",
       "      <th>Hipertension</th>\n",
       "      <th>Sex</th>\n",
       "      <th>Handcap</th>\n",
       "      <th>SMS_received</th>\n",
       "      <th>time_bw_schedule_appointment</th>\n",
       "    </tr>\n",
       "  </thead>\n",
       "  <tbody>\n",
       "    <tr>\n",
       "      <th>0</th>\n",
       "      <td>30.0</td>\n",
       "      <td>No</td>\n",
       "      <td>No</td>\n",
       "      <td>No</td>\n",
       "      <td>No</td>\n",
       "      <td>F</td>\n",
       "      <td>No</td>\n",
       "      <td>Yes</td>\n",
       "      <td>14.0</td>\n",
       "    </tr>\n",
       "    <tr>\n",
       "      <th>1</th>\n",
       "      <td>51.0</td>\n",
       "      <td>No</td>\n",
       "      <td>No</td>\n",
       "      <td>No</td>\n",
       "      <td>No</td>\n",
       "      <td>M</td>\n",
       "      <td>No</td>\n",
       "      <td>No</td>\n",
       "      <td>1.0</td>\n",
       "    </tr>\n",
       "    <tr>\n",
       "      <th>2</th>\n",
       "      <td>37.0</td>\n",
       "      <td>No</td>\n",
       "      <td>No</td>\n",
       "      <td>No</td>\n",
       "      <td>No</td>\n",
       "      <td>M</td>\n",
       "      <td>No</td>\n",
       "      <td>No</td>\n",
       "      <td>2.0</td>\n",
       "    </tr>\n",
       "    <tr>\n",
       "      <th>3</th>\n",
       "      <td>62.0</td>\n",
       "      <td>No</td>\n",
       "      <td>No</td>\n",
       "      <td>No</td>\n",
       "      <td>No</td>\n",
       "      <td>M</td>\n",
       "      <td>No</td>\n",
       "      <td>Yes</td>\n",
       "      <td>20.0</td>\n",
       "    </tr>\n",
       "    <tr>\n",
       "      <th>4</th>\n",
       "      <td>69.0</td>\n",
       "      <td>No</td>\n",
       "      <td>No</td>\n",
       "      <td>No</td>\n",
       "      <td>No</td>\n",
       "      <td>M</td>\n",
       "      <td>No</td>\n",
       "      <td>Yes</td>\n",
       "      <td>21.0</td>\n",
       "    </tr>\n",
       "  </tbody>\n",
       "</table>\n",
       "</div>"
      ],
      "text/plain": [
       "    Age SocialWelfare Diabetes Alcoholism Hipertension Sex Handcap  \\\n",
       "0  30.0            No       No         No           No   F      No   \n",
       "1  51.0            No       No         No           No   M      No   \n",
       "2  37.0            No       No         No           No   M      No   \n",
       "3  62.0            No       No         No           No   M      No   \n",
       "4  69.0            No       No         No           No   M      No   \n",
       "\n",
       "  SMS_received time_bw_schedule_appointment  \n",
       "0          Yes                         14.0  \n",
       "1           No                          1.0  \n",
       "2           No                          2.0  \n",
       "3          Yes                         20.0  \n",
       "4          Yes                         21.0  "
      ]
     },
     "execution_count": 60,
     "metadata": {},
     "output_type": "execute_result"
    }
   ],
   "source": [
    "from sklearn.impute import SimpleImputer\n",
    "\n",
    "imputer_cont = SimpleImputer(strategy=\"median\", add_indicator=False)\n",
    "imputer_cat = SimpleImputer(strategy=\"most_frequent\", add_indicator=False)\n",
    " #('OneHotEncoder', ohe, ['SocialWelfare', 'Diabetes', 'Sex', 'Alcoholism', 'Hipertension', 'SMS_received', 'Handcap'])],\n",
    "ct_test = ColumnTransformer(\n",
    "    [('impute_age', imputer_cont, ['Age']),\n",
    "    ('impute_cat', imputer_cat, ['SocialWelfare', 'Diabetes','Alcoholism', 'Hipertension'])],\n",
    "   \n",
    "    remainder='passthrough'\n",
    ")\n",
    "\n",
    "adf = ct_test.fit_transform(X_df_test)\n",
    "\n",
    "iadf = ct_test.get_feature_names_out()\n",
    "columnsImp = [\"Age\",\"SocialWelfare\",'Diabetes','Alcoholism', 'Hipertension','Sex', 'Handcap',  'SMS_received', 'time_bw_schedule_appointment']\n",
    "adfd = pd.DataFrame(adf, columns= columnsImp)\n",
    "adfd.head()\n",
    "## Has 9 columns as expected"
   ]
  },
  {
   "cell_type": "code",
   "execution_count": 58,
   "metadata": {},
   "outputs": [
    {
     "name": "stdout",
     "output_type": "stream",
     "text": [
      "  impute_cat__Hipertension      0\n",
      "0                       No  18082\n",
      "1                      Yes   4024\n"
     ]
    }
   ],
   "source": [
    "occ = adfd.groupby('impute_cat__Hipertension').size().reset_index()\n",
    "print(occ)"
   ]
  },
  {
   "cell_type": "markdown",
   "metadata": {},
   "source": [
    "# Create pipelines for numeric and categorical features\n",
    "numeric_pipeline = Pipeline([\n",
    "    ('imputer', SimpleImputer(strategy=\"median\", add_indicator=False)),\n",
    "])\n",
    "\n",
    "categorical_pipeline = Pipeline([\n",
    "    ('imputer', SimpleImputer(strategy=\"most_frequent\", add_indicator=False)),\n",
    "    ('encoder', OneHotEncoder())\n",
    "])\n",
    "\n",
    "# Combine numeric and categorical transformations in a ColumnTransformer\n",
    "preprocessor = ColumnTransformer([\n",
    "    ('impute_num', numeric_pipeline, numeric_features),\n",
    "    ('impute_cat', categorical_pipeline, categorical_features)\n",
    "])"
   ]
  },
  {
   "cell_type": "markdown",
   "metadata": {},
   "source": [
    "# occ_test = X_df_test.groupby('Sex').size().reset_index()\n",
    "# print(occ_test)"
   ]
  },
  {
   "cell_type": "markdown",
   "metadata": {},
   "source": [
    "ohe = OneHotEncoder(sparse_output=False, drop='first')\n",
    "\n",
    "ct = ColumnTransformer(\n",
    "    [('OneHotEncoder', ohe, ['SocialWelfare', 'Diabetes', 'Sex', 'Alcoholism', 'Hipertension', 'SMS_received', 'Handcap'])],\n",
    "    remainder='passthrough'\n",
    ")\n",
    "\n",
    "ct.fit_transform(X_df_test)\n",
    "\n",
    "ct.get_feature_names_out()"
   ]
  },
  {
   "cell_type": "code",
   "execution_count": 61,
   "metadata": {},
   "outputs": [],
   "source": [
    "y_pred_test = pipe.predict(adfd)"
   ]
  },
  {
   "cell_type": "code",
   "execution_count": 78,
   "metadata": {},
   "outputs": [
    {
     "data": {
      "text/html": [
       "<div>\n",
       "<style scoped>\n",
       "    .dataframe tbody tr th:only-of-type {\n",
       "        vertical-align: middle;\n",
       "    }\n",
       "\n",
       "    .dataframe tbody tr th {\n",
       "        vertical-align: top;\n",
       "    }\n",
       "\n",
       "    .dataframe thead th {\n",
       "        text-align: right;\n",
       "    }\n",
       "</style>\n",
       "<table border=\"1\" class=\"dataframe\">\n",
       "  <thead>\n",
       "    <tr style=\"text-align: right;\">\n",
       "      <th></th>\n",
       "      <th>AppointmentID</th>\n",
       "      <th>No-show</th>\n",
       "    </tr>\n",
       "  </thead>\n",
       "  <tbody>\n",
       "    <tr>\n",
       "      <th>0</th>\n",
       "      <td>5620835</td>\n",
       "      <td>No</td>\n",
       "    </tr>\n",
       "    <tr>\n",
       "      <th>1</th>\n",
       "      <td>5741692</td>\n",
       "      <td>No</td>\n",
       "    </tr>\n",
       "    <tr>\n",
       "      <th>2</th>\n",
       "      <td>5673005</td>\n",
       "      <td>Yes</td>\n",
       "    </tr>\n",
       "    <tr>\n",
       "      <th>3</th>\n",
       "      <td>5579701</td>\n",
       "      <td>No</td>\n",
       "    </tr>\n",
       "    <tr>\n",
       "      <th>4</th>\n",
       "      <td>5652332</td>\n",
       "      <td>No</td>\n",
       "    </tr>\n",
       "  </tbody>\n",
       "</table>\n",
       "</div>"
      ],
      "text/plain": [
       "   AppointmentID No-show\n",
       "0        5620835      No\n",
       "1        5741692      No\n",
       "2        5673005     Yes\n",
       "3        5579701      No\n",
       "4        5652332      No"
      ]
     },
     "execution_count": 78,
     "metadata": {},
     "output_type": "execute_result"
    }
   ],
   "source": [
    "df_test[\"No-Show\"] = y_pred_test\n",
    "mapping = {0: 'No', 1: 'Yes'}\n",
    "df_test[\"No-show\"] = df_test[\"No-Show\"].replace(mapping)\n",
    "Submission = df_test[[\"AppointmentID\", \"No-show\"]]\n",
    "Submission.head()\n",
    "\n"
   ]
  },
  {
   "cell_type": "code",
   "execution_count": 79,
   "metadata": {},
   "outputs": [],
   "source": [
    "filepath = '/Users/ligiavergara/Documents/GitHub/BIPM/Data Science/Project/Submission2.csv'\n",
    "Submission.to_csv(filepath, index=False)"
   ]
  },
  {
   "cell_type": "markdown",
   "metadata": {},
   "source": [
    "### 9. Model Interpretation\n"
   ]
  },
  {
   "cell_type": "markdown",
   "metadata": {},
   "source": [
    "### 10. Fine-Tuning and Optimization"
   ]
  }
 ],
 "metadata": {
  "kernelspec": {
   "display_name": "Python 3",
   "language": "python",
   "name": "python3"
  },
  "language_info": {
   "codemirror_mode": {
    "name": "ipython",
    "version": 3
   },
   "file_extension": ".py",
   "mimetype": "text/x-python",
   "name": "python",
   "nbconvert_exporter": "python",
   "pygments_lexer": "ipython3",
   "version": "3.11.6"
  }
 },
 "nbformat": 4,
 "nbformat_minor": 2
}
