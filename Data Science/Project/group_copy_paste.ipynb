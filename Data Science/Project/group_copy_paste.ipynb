{
 "cells": [
  {
   "cell_type": "markdown",
   "metadata": {},
   "source": [
    "# Group: CopyPaste\n",
    "#### Dataset used: Dataset_Hospital_Vists.csv, test.csv\n",
    "#### Participants: Ligia, Gina, Raza"
   ]
  },
  {
   "cell_type": "markdown",
   "metadata": {},
   "source": [
    "### Contents Draft\n",
    "\n",
    "1. Defining the problem and goal\n",
    "2. Understanding the data\n",
    "\n",
    "        2.1 Dataset Description\n",
    "        2.2 Quick Analysis from Kaggle\n",
    "3. Data Quality Check\n",
    "4. Exploratory Data Analysis\n",
    "\n",
    "        4.1 Target Variable Distribution \n",
    "        4.2 Relationships between variables\n",
    "5. Data Cleaning and Preprocessing\n",
    "\n",
    "        5.1 Updating Existing Features\n",
    "        5.2 Adding new features\n",
    "6. Train-Test Split\n",
    "7. Model Selection\n",
    "8. Model Training\n",
    "9. Model Evaluation\n",
    "10. Model Interpretation\n",
    "11. Fine-Tuning and Optimization"
   ]
  },
  {
   "cell_type": "markdown",
   "metadata": {},
   "source": [
    "### 1. Defining the Problem and Goal\n",
    "Problem: Patients in a hospital miss their scheduled appointments.\n",
    "\n",
    "Goal: Develop a machine learning model that predicts if a patient will miss a future appointment."
   ]
  },
  {
   "cell_type": "markdown",
   "metadata": {},
   "source": [
    "### 2. Understanding the Data\n",
    "#### 2.1 Dataset Description\n",
    "\n",
    "- The dataset is at appointment level granularity and contains detail of each appointment and patient.\n",
    "\n",
    "- It has 14 columns of which 1 will be our target variable: No-show.\n",
    "\n",
    "- We mostly have information about an appointment's date and place and the patients' health details. A column also shows if a patient received an SMS before the appointment.\n",
    "\n",
    "#### 2.2 Quick Analysis from Kaggle\n",
    "\n",
    "- There is missing data in the columns Age, Community, Social Welfare, and some diseases.\n",
    "- Female to Male ratio is 65:35.\n",
    "- We have no NULLs in the target variable."
   ]
  },
  {
   "cell_type": "markdown",
   "metadata": {},
   "source": [
    "### 3. Data Quality Check\n",
    "\n",
    "- Missing Data: "
   ]
  },
  {
   "cell_type": "markdown",
   "metadata": {},
   "source": [
    "### 4. EDA questions\n",
    "\n",
    "#### Create heatmap of correlation\n",
    "#### How does the time affect the outcome?\n",
    "#### Is appointment date > scheduled data?\n",
    "#### Distribution of the target variable."
   ]
  },
  {
   "cell_type": "markdown",
   "metadata": {},
   "source": [
    "### 5. Pre processing ideas:\n",
    "#### Change the no show to show to make it more intuitive."
   ]
  }
 ],
 "metadata": {
  "kernelspec": {
   "display_name": "Python 3",
   "language": "python",
   "name": "python3"
  },
  "language_info": {
   "name": "python",
   "version": "3.10.11"
  }
 },
 "nbformat": 4,
 "nbformat_minor": 2
}
