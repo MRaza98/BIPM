{
 "cells": [
  {
   "cell_type": "markdown",
   "metadata": {},
   "source": [
    "# Group: CopyPaste\n",
    "#### Dataset used: Dataset_Hospital_Vists.csv, test.csv\n",
    "#### Participants: Ligia, Gina, Raza\n",
    "\n",
    "#### Next step: add yes/no no show split to the age distribution and then carry on with EDA."
   ]
  },
  {
   "cell_type": "markdown",
   "metadata": {},
   "source": [
    "### Contents Draft\n",
    "\n",
    "1. Problem and Goal Definition\n",
    "2. Data Understanding\n",
    "\n",
    "        2.1 Dataset Description\n",
    "        2.2 Quick Analysis from Kaggle\n",
    "3. Data Quality Check\n",
    "4. Exploratory Data Analysis\n",
    "\n",
    "        4.1 Target Variable Distribution \n",
    "        4.2 Relationships between variables\n",
    "5. Data Cleaning and Preprocessing\n",
    "\n",
    "        5.1 Updating Existing Features (note: see if we can extrapolate age of same patient from different row)\n",
    "        5.2 Adding new features\n",
    "6. Train-Test Split\n",
    "7. Model Selection\n",
    "8. Model Training\n",
    "9. Model Evaluation\n",
    "10. Model Interpretation\n",
    "11. Fine-Tuning and Optimization"
   ]
  },
  {
   "cell_type": "markdown",
   "metadata": {},
   "source": [
    "### 1. Problem and Goal Definition\n",
    "Problem: Patients in a hospital miss their scheduled appointments.\n",
    "\n",
    "Goal: Develop a machine learning model that predicts if a patient will miss a future appointment."
   ]
  },
  {
   "cell_type": "markdown",
   "metadata": {},
   "source": [
    "### 2. Data Understanding\n",
    "#### 2.1 Dataset Description\n",
    "\n",
    "- The dataset is at appointment level granularity and contains detail of each appointment and patient.\n",
    "\n",
    "- It has 14 columns of which 1 will be our target variable: No-show.\n",
    "\n",
    "- We mostly have information about an appointment's date and place and the patients' health details. A column also shows if a patient received an SMS before the appointment.\n",
    "\n",
    "#### 2.2 Quick Analysis from Kaggle\n",
    "\n",
    "- There is missing data in the columns Age, Community, Social Welfare, and some diseases.\n",
    "- Female to Male ratio is 65:35.\n",
    "- We have no NULLs in the target variable."
   ]
  },
  {
   "cell_type": "markdown",
   "metadata": {},
   "source": [
    "### 3. Data Quality Check\n",
    "\n",
    "- Uniqueness\n",
    "- Missing data\n",
    "- Data Type Consistency"
   ]
  },
  {
   "cell_type": "code",
   "execution_count": null,
   "metadata": {},
   "outputs": [],
   "source": [
    "# Setting up environment with packages\n",
    "\n",
    "import pandas as pd\n",
    "import matplotlib.pyplot as plt"
   ]
  },
  {
   "cell_type": "code",
   "execution_count": null,
   "metadata": {},
   "outputs": [],
   "source": [
    "# Importing the dataset\n",
    "\n",
    "df = pd.read_csv(\"/Users/muhammadraza/Documents/GitHub/BIPM/Data Science/Project/Dataset_Hospital_Visits.csv\")\n",
    "df.head()"
   ]
  },
  {
   "cell_type": "code",
   "execution_count": null,
   "metadata": {},
   "outputs": [],
   "source": [
    "## Uniqueness\n",
    "\n",
    "# Is each row unique?\n",
    "\n",
    "print(\"Duplicate rows: \" + str(df.duplicated().sum()))\n",
    "\n",
    "# Is each appointmentID unique?\n",
    "\n",
    "print(\"Duplicate appointments: \" + str(df['AppointmentID'].duplicated().sum()))"
   ]
  },
  {
   "cell_type": "markdown",
   "metadata": {},
   "source": [
    "We can conclude that the dataset only containts unique IDs and no duplicates."
   ]
  },
  {
   "cell_type": "code",
   "execution_count": null,
   "metadata": {},
   "outputs": [],
   "source": [
    "## Missing Data\n",
    "\n",
    "# Which columns have missing data?\n",
    "\n",
    "missing_data = df.isnull().sum()\n",
    "total_entries = len(df)\n",
    "percentage_missing = round((missing_data / total_entries) * 100, 2)\n",
    "\n",
    "missing_info = pd.DataFrame({\n",
    "    'Missing Count': missing_data,\n",
    "    'Percentage Missing': percentage_missing\n",
    "})\n",
    "\n",
    "print(missing_info)"
   ]
  },
  {
   "cell_type": "markdown",
   "metadata": {},
   "source": [
    "As seen from Kaggle, Age, Community, SocialWelfare, Hipertension, and Alcoholism have significant null values."
   ]
  },
  {
   "cell_type": "code",
   "execution_count": null,
   "metadata": {},
   "outputs": [],
   "source": [
    "## Data Type Consistency\n",
    "\n",
    "df.dtypes"
   ]
  },
  {
   "cell_type": "markdown",
   "metadata": {},
   "source": [
    "1. PatientId and Age are to be converted to int from float as IDs must be int/str and ages are usually considered in whole number terms.\n",
    "2. ScheduledDate and AppointmentDate must be timestamps and not objects."
   ]
  },
  {
   "cell_type": "markdown",
   "metadata": {},
   "source": [
    "### 4. Exploratory Data Analysis\n",
    "\n",
    "- Distribution of the target variable.\n",
    "- Distribution of age. Which age groups account for the most missing appointments?\n",
    "- Do males or females miss more appointments?\n",
    "- How does the time affect the outcome?\n",
    "- Is appointment date > scheduled data?"
   ]
  },
  {
   "cell_type": "code",
   "execution_count": null,
   "metadata": {},
   "outputs": [],
   "source": [
    "## Distribution of the target variable\n",
    "\n",
    "value_counts = df['No-show'].value_counts()\n",
    "\n",
    "labels = value_counts.index\n",
    "sizes = value_counts.values\n",
    "\n",
    "colors = ['#008000','#ff0000']  # Customize colors\n",
    "explode = (0.05, 0)  # Explode the 1st slice\n",
    "\n",
    "plt.pie(sizes, labels=labels, colors=colors, autopct='%1.1f%%', startangle=90, explode=explode)\n",
    "\n",
    "plt.title('Distribution of No-Show Variable')\n",
    "plt.axis('equal')  # Equal aspect ratio ensures the pie chart is circular\n",
    "\n",
    "plt.show()"
   ]
  },
  {
   "cell_type": "markdown",
   "metadata": {},
   "source": [
    "1 in 5 appointments are missed on average."
   ]
  },
  {
   "cell_type": "code",
   "execution_count": null,
   "metadata": {},
   "outputs": [],
   "source": [
    "## Distribution of age\n",
    "\n",
    "plt.hist(df['Age'], color='blue', alpha = 0.7, edgecolor='black')\n",
    "\n",
    "plt.title('Overall Age Distribution')\n",
    "plt.xlabel('Age')\n",
    "plt.ylabel('Count')\n",
    "\n",
    "plt.show()"
   ]
  },
  {
   "cell_type": "code",
   "execution_count": null,
   "metadata": {},
   "outputs": [],
   "source": [
    "## Which gender misses more appointments?\n",
    "\n",
    "# Group by 'gender' and 'no_show' and count occurrences\n",
    "grouped_data = df.groupby(['Sex', 'No-show']).size().unstack()\n",
    "\n",
    "# Calculate percentages\n",
    "percentages = grouped_data.div(grouped_data.sum(axis=1), axis=0) * 100\n",
    "\n",
    "# Plotting a grouped bar chart\n",
    "ax = percentages.plot(kind='bar', stacked=True, color=['#008000', '#ff0000'])\n",
    "\n",
    "# Annotate bars with percentages\n",
    "for p in ax.patches:\n",
    "    width, height = p.get_width(), p.get_height()\n",
    "    x, y = p.get_xy() \n",
    "    ax.annotate(f'{height:.1f}%', (x + width/2, y + height/2), ha='center', va='center')\n",
    "\n",
    "plt.title('Gender-wise No-show Distribution')\n",
    "plt.xlabel('Sex')\n",
    "plt.ylabel('# Appointments')\n",
    "plt.legend(title='No-show', loc='upper right')\n",
    "\n",
    "plt.show()"
   ]
  },
  {
   "cell_type": "markdown",
   "metadata": {},
   "source": [
    "There seems to be 1 in 5 appointments missed for both genders."
   ]
  },
  {
   "cell_type": "markdown",
   "metadata": {},
   "source": [
    "### 5. Data Cleaning and Preprocessing\n",
    "- Change the no show to show to make it more intuitive."
   ]
  },
  {
   "cell_type": "markdown",
   "metadata": {},
   "source": [
    "### 6. Train-Test Split"
   ]
  },
  {
   "cell_type": "markdown",
   "metadata": {},
   "source": [
    "### 7. Model Selection\n"
   ]
  },
  {
   "cell_type": "markdown",
   "metadata": {},
   "source": [
    "### 8. Model Training\n"
   ]
  },
  {
   "cell_type": "markdown",
   "metadata": {},
   "source": [
    "### 9. Model Evaluation"
   ]
  },
  {
   "cell_type": "markdown",
   "metadata": {},
   "source": [
    "### 10. Model Interpretation\n"
   ]
  },
  {
   "cell_type": "markdown",
   "metadata": {},
   "source": [
    "### 11. Fine-Tuning and Optimization"
   ]
  }
 ],
 "metadata": {
  "kernelspec": {
   "display_name": "Python 3",
   "language": "python",
   "name": "python3"
  },
  "language_info": {
   "codemirror_mode": {
    "name": "ipython",
    "version": 3
   },
   "file_extension": ".py",
   "mimetype": "text/x-python",
   "name": "python",
   "nbconvert_exporter": "python",
   "pygments_lexer": "ipython3",
   "version": "3.10.11"
  }
 },
 "nbformat": 4,
 "nbformat_minor": 2
}
