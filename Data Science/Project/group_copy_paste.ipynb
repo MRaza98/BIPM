{
 "cells": [
  {
   "cell_type": "markdown",
   "metadata": {},
   "source": [
    "# Group: CopyPaste\n",
    "#### Dataset used: Dataset_Hospital_Vists.csv, test.csv\n",
    "#### Participants: Ligia, Gina, Raza"
   ]
  },
  {
   "cell_type": "markdown",
   "metadata": {},
   "source": [
    "### Problem\n",
    "#### Many patients miss their scheduled appointments.\n",
    "\n",
    "### Goal \n",
    "#### Develop a machine learning model that predicts if a patient will miss a future appointment."
   ]
  },
  {
   "cell_type": "markdown",
   "metadata": {},
   "source": [
    "# Still need to check\n",
    "\n",
    "#### Duplicates in appointment id: follow ups?\n",
    "#### Create heatmap of correlation\n",
    "#### How does the time affect the outcome?\n",
    "#### Is appointment date > scheduled data?\n",
    "#### Distribution of the target variable."
   ]
  },
  {
   "cell_type": "markdown",
   "metadata": {},
   "source": [
    "# Thoughts on pre processing:\n",
    "#### Change the no show to show to make it more intuitive."
   ]
  },
  {
   "cell_type": "markdown",
   "metadata": {},
   "source": [
    "# Preprocessing\n",
    "\n",
    "### Missing Data:\n",
    "\n",
    "#### Age, community, social welfare + disease info has missing data\n"
   ]
  },
  {
   "cell_type": "code",
   "execution_count": null,
   "metadata": {
    "vscode": {
     "languageId": "plaintext"
    }
   },
   "outputs": [],
   "source": []
  }
 ],
 "metadata": {
  "language_info": {
   "name": "python"
  }
 },
 "nbformat": 4,
 "nbformat_minor": 2
}
