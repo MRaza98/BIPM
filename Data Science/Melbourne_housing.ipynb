{
 "cells": [
  {
   "cell_type": "code",
   "execution_count": null,
   "metadata": {},
   "outputs": [],
   "source": [
    "# Improvements:\n",
    "# Replace msising values with median or average and then see the impact on the metrics.\n",
    "# Adding categerocial data"
   ]
  },
  {
   "cell_type": "code",
   "execution_count": null,
   "metadata": {},
   "outputs": [],
   "source": [
    "# Group 3"
   ]
  },
  {
   "cell_type": "code",
   "execution_count": 29,
   "metadata": {},
   "outputs": [],
   "source": [
    "import pandas as pd\n",
    "import numpy as np\n",
    "import statsmodels as sm\n",
    "import matplotlib.pyplot as plt\n",
    "import seaborn as sns\n",
    "from imblearn.over_sampling import SMOTE\n",
    "\n",
    "from sklearn.model_selection import train_test_split\n",
    "\n",
    "from sklearn.compose import ColumnTransformer\n",
    "from sklearn.impute import SimpleImputer"
   ]
  },
  {
   "cell_type": "code",
   "execution_count": 36,
   "metadata": {},
   "outputs": [],
   "source": [
    "# load dataset\n",
    "df = pd.read_csv('/Users/muhammadraza/Documents/GitHub/BIPM/Data Science/data/Dataset_Melbourne.csv', index_col=None)"
   ]
  },
  {
   "cell_type": "code",
   "execution_count": 31,
   "metadata": {},
   "outputs": [
    {
     "name": "stdout",
     "output_type": "stream",
     "text": [
      "<class 'pandas.core.frame.DataFrame'>\n",
      "RangeIndex: 34857 entries, 0 to 34856\n",
      "Data columns (total 21 columns):\n",
      " #   Column         Non-Null Count  Dtype  \n",
      "---  ------         --------------  -----  \n",
      " 0   Suburb         34857 non-null  object \n",
      " 1   Address        34857 non-null  object \n",
      " 2   Rooms          34857 non-null  int64  \n",
      " 3   Type           34857 non-null  object \n",
      " 4   Price          27247 non-null  float64\n",
      " 5   Method         34857 non-null  object \n",
      " 6   SellerG        34857 non-null  object \n",
      " 7   Date           34857 non-null  object \n",
      " 8   Distance       34856 non-null  float64\n",
      " 9   Postcode       34856 non-null  float64\n",
      " 10  Bedroom2       26640 non-null  float64\n",
      " 11  Bathroom       26631 non-null  float64\n",
      " 12  Car            26129 non-null  float64\n",
      " 13  Landsize       23047 non-null  float64\n",
      " 14  BuildingArea   13742 non-null  float64\n",
      " 15  YearBuilt      15551 non-null  float64\n",
      " 16  CouncilArea    34854 non-null  object \n",
      " 17  Lattitude      26881 non-null  float64\n",
      " 18  Longtitude     26881 non-null  float64\n",
      " 19  Regionname     34854 non-null  object \n",
      " 20  Propertycount  34854 non-null  float64\n",
      "dtypes: float64(12), int64(1), object(8)\n",
      "memory usage: 5.6+ MB\n"
     ]
    }
   ],
   "source": [
    "df.info()"
   ]
  },
  {
   "cell_type": "code",
   "execution_count": null,
   "metadata": {},
   "outputs": [],
   "source": [
    "# Some features are missing for a lot of the data.\n",
    "# Most are floats and some are objects"
   ]
  },
  {
   "cell_type": "code",
   "execution_count": 37,
   "metadata": {},
   "outputs": [],
   "source": [
    "from sklearn import set_config\n",
    "from sklearn.linear_model import LinearRegression\n",
    "from sklearn.pipeline import Pipeline\n",
    "\n",
    "## Instantiating the Linear Regression\n",
    "\n",
    "lm = LinearRegression()\n",
    "set_config(transform_output=\"pandas\")\n",
    "\n",
    "X = df[['Rooms', 'Distance', 'Bedroom2', 'Bathroom', 'Car', 'Landsize', 'BuildingArea', 'YearBuilt']]\n",
    "y = df['Price']\n",
    "\n"
   ]
  },
  {
   "cell_type": "code",
   "execution_count": 38,
   "metadata": {},
   "outputs": [],
   "source": [
    "imputer_median = SimpleImputer(strategy='median', add_indicator=True)\n",
    "imputer_median.fit(np.array(df['Price']).reshape(-1, 1))  # Impute missing values in y\n",
    "df[['Price', 'Imputer Price']] = imputer_median.transform(np.array(df['Price']).reshape(-1, 1))\n",
    "\n",
    "y = df['Price']\n"
   ]
  },
  {
   "cell_type": "code",
   "execution_count": 39,
   "metadata": {},
   "outputs": [
    {
     "name": "stdout",
     "output_type": "stream",
     "text": [
      "MAE: 319031.1196573668\n",
      "RMSE: 474822.6324385042\n"
     ]
    }
   ],
   "source": [
    "# Stratify was taken out since its not relevant to regression.\n",
    "\n",
    "X_train, X_test, y_train, y_test = train_test_split(X, y, test_size = 0.2, random_state=1)\n",
    "\n",
    "ct = ColumnTransformer(\n",
    "    transformers=[\n",
    "    ('imputer_x', imputer_median, ['Bedroom2', 'Bathroom', 'Car', 'Landsize', 'BuildingArea', 'YearBuilt', 'Distance'])\n",
    "    ],\n",
    "    remainder='passthrough'\n",
    ")\n",
    "\n",
    "pipe_lm = Pipeline([\n",
    "    ('preprocessor', ct),\n",
    "    ('classifier', lm)]\n",
    ")\n",
    "\n",
    "pipe_lm.fit(X_train, y_train)\n",
    "\n",
    "predictions = pipe_lm.predict(X_test)\n",
    "\n",
    "# EVALUATION METRICS\n",
    "# ==================\n",
    "\n",
    "from sklearn.metrics import r2_score\n",
    "from sklearn.metrics import mean_absolute_error\n",
    "from sklearn.metrics import mean_squared_error\n",
    "\n",
    "print(\"MAE:\", mean_absolute_error(y_test, predictions))\n",
    "print(\"RMSE:\", mean_squared_error(y_test, predictions, squared=False))"
   ]
  },
  {
   "cell_type": "code",
   "execution_count": 42,
   "metadata": {},
   "outputs": [
    {
     "name": "stdout",
     "output_type": "stream",
     "text": [
      "MAE: 339198.2873858612\n",
      "RMSE: 577957.5173757244\n"
     ]
    }
   ],
   "source": [
    "## RegressionTreeRegressor\n",
    "\n",
    "from sklearn.tree import DecisionTreeRegressor\n",
    "\n",
    "dtr = DecisionTreeRegressor()\n",
    "\n",
    "pipe_dtr = Pipeline([\n",
    "    ('preprocessor', ct),\n",
    "    ('classifier', dtr)]\n",
    ")\n",
    "\n",
    "pipe_dtr.fit(X_train, y_train)\n",
    "predictions = pipe_dtr.predict(X_test)\n",
    "\n",
    "print(\"MAE:\", mean_absolute_error(y_test, predictions))\n",
    "print(\"RMSE:\", mean_squared_error(y_test, predictions, squared=False))\n"
   ]
  },
  {
   "cell_type": "code",
   "execution_count": 44,
   "metadata": {},
   "outputs": [
    {
     "name": "stdout",
     "output_type": "stream",
     "text": [
      "MAE: 282066.30547410774\n",
      "RMSE: 455244.8136687109\n"
     ]
    }
   ],
   "source": [
    "## RandomForestRegressor\n",
    "\n",
    "from sklearn.ensemble import RandomForestRegressor\n",
    "\n",
    "rf = RandomForestRegressor()\n",
    "\n",
    "pipe_rf = Pipeline([\n",
    "    ('preprocessor', ct),\n",
    "    ('classifier', rf)]\n",
    ")\n",
    "\n",
    "pipe_rf.fit(X_train, y_train)\n",
    "predictions = pipe_rf.predict(X_test)\n",
    "\n",
    "print(\"MAE:\", mean_absolute_error(y_test, predictions))\n",
    "print(\"RMSE:\", mean_squared_error(y_test, predictions, squared=False))\n"
   ]
  },
  {
   "cell_type": "code",
   "execution_count": 49,
   "metadata": {},
   "outputs": [],
   "source": [
    "from sklearn.model_selection import GridSearchCV\n",
    "\n",
    "params = {\n",
    "    \"classifier__max_depth\": range(1, 12),\n",
    "    \"classifier__criterion\": ['absolute_error', 'friedman_mse', 'poisson', 'squared_error']\n",
    "}\n",
    "\n",
    "opt_rf = GridSearchCV(pipe_rf, params, scoring = 'accuracy', n_jobs = -1, cv = 10, verbose=1, return_train_score=True)"
   ]
  },
  {
   "cell_type": "code",
   "execution_count": 50,
   "metadata": {},
   "outputs": [
    {
     "name": "stdout",
     "output_type": "stream",
     "text": [
      "Fitting 10 folds for each of 44 candidates, totalling 440 fits\n"
     ]
    }
   ],
   "source": [
    "opt_rf.fit(X_train, y_train)\n",
    "# predictions = opt_rf.predict(X_test)\n",
    "# print(\"MAE:\", mean_absolute_error(y_test, predictions))\n",
    "# print(\"RMSE:\", mean_squared_error(y_test, predictions, squared=False))"
   ]
  },
  {
   "cell_type": "code",
   "execution_count": null,
   "metadata": {},
   "outputs": [],
   "source": []
  }
 ],
 "metadata": {
  "kernelspec": {
   "display_name": "Python 3",
   "language": "python",
   "name": "python3"
  },
  "language_info": {
   "codemirror_mode": {
    "name": "ipython",
    "version": 3
   },
   "file_extension": ".py",
   "mimetype": "text/x-python",
   "name": "python",
   "nbconvert_exporter": "python",
   "pygments_lexer": "ipython3",
   "version": "3.10.11"
  }
 },
 "nbformat": 4,
 "nbformat_minor": 2
}
