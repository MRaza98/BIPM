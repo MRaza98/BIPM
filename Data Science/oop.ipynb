{
 "cells": [
  {
   "cell_type": "markdown",
   "metadata": {},
   "source": [
    "# Object-Oriented Programming\n",
    "\n",
    "* Python is multi-paradigm programming language that supports imperative and object-oriented styles of programming.\n",
    "* Nearly everything in Python is an object. \n",
    "* There are no strict private states of objects in Python.\n",
    "* Existing data structures like lists and dictionaries are classes.\n",
    "* Pandas data frames or Numpy matrix are classes."
   ]
  },
  {
   "cell_type": "markdown",
   "metadata": {},
   "source": [
    "### Class"
   ]
  },
  {
   "cell_type": "markdown",
   "metadata": {},
   "source": [
    "A Class can have\n",
    "1. a constructor: `__init__()`\n",
    "2. methods: `def ...`\n",
    "3. attributes: `self.value`\n",
    "\n",
    "In a method, the first parameter is *self* that refers to the object. Naming it *self* is just a convention, it could also have a different name. But you should stick with self."
   ]
  },
  {
   "cell_type": "code",
   "execution_count": 1,
   "metadata": {},
   "outputs": [
    {
     "name": "stdout",
     "output_type": "stream",
     "text": [
      "Item: 1\n",
      "Item: 2\n",
      "Item: 3\n"
     ]
    }
   ],
   "source": [
    "\n",
    "class PrintList:\n",
    "    def __init__(self, itemlist):\n",
    "        self.itemlist = itemlist\n",
    "    def print(self):\n",
    "        for item in self.itemlist:\n",
    "            print(f\"Item: {item}\")\n",
    "\n",
    "l = PrintList([1, 2, 3])\n",
    "l.print()\n"
   ]
  },
  {
   "cell_type": "code",
   "execution_count": 1,
   "metadata": {
    "collapsed": true
   },
   "outputs": [],
   "source": [
    "class Animal:\n",
    "    def __init__(self, name, sound):\n",
    "        self.name = name\n",
    "        self.sound = sound\n",
    "\n",
    "\n",
    "    def explain(self):\n",
    "        print(f\"A {self.name} is making '{self.sound}'.\")"
   ]
  },
  {
   "cell_type": "code",
   "execution_count": 2,
   "metadata": {
    "collapsed": true
   },
   "outputs": [],
   "source": [
    "cow = Animal(\"Cow\", \"Moo\")"
   ]
  },
  {
   "cell_type": "code",
   "execution_count": 3,
   "metadata": {},
   "outputs": [
    {
     "data": {
      "text/plain": [
       "'Cow'"
      ]
     },
     "execution_count": 3,
     "metadata": {},
     "output_type": "execute_result"
    }
   ],
   "source": [
    "cow.name"
   ]
  },
  {
   "cell_type": "code",
   "execution_count": 4,
   "metadata": {
    "collapsed": true
   },
   "outputs": [],
   "source": [
    "cow.name = \"Cattle\""
   ]
  },
  {
   "cell_type": "code",
   "execution_count": 5,
   "metadata": {},
   "outputs": [
    {
     "data": {
      "text/plain": [
       "'Cattle'"
      ]
     },
     "execution_count": 5,
     "metadata": {},
     "output_type": "execute_result"
    }
   ],
   "source": [
    "cow.name"
   ]
  },
  {
   "cell_type": "code",
   "execution_count": 6,
   "metadata": {},
   "outputs": [
    {
     "data": {
      "text/plain": [
       "'Moo'"
      ]
     },
     "execution_count": 6,
     "metadata": {},
     "output_type": "execute_result"
    }
   ],
   "source": [
    "cow.sound"
   ]
  },
  {
   "cell_type": "code",
   "execution_count": 7,
   "metadata": {},
   "outputs": [
    {
     "name": "stdout",
     "output_type": "stream",
     "text": [
      "A Cattle is making 'Moo'.\n"
     ]
    }
   ],
   "source": [
    "cow.explain()"
   ]
  },
  {
   "cell_type": "code",
   "execution_count": 8,
   "metadata": {},
   "outputs": [
    {
     "name": "stdout",
     "output_type": "stream",
     "text": [
      "A Cat is making 'Miau'.\n"
     ]
    }
   ],
   "source": [
    "cat = Animal(\"Cat\", \"Miau\")\n",
    "cat.explain()"
   ]
  },
  {
   "cell_type": "code",
   "execution_count": 9,
   "metadata": {
    "collapsed": true
   },
   "outputs": [],
   "source": [
    "cow.nickname = \"Sussi\""
   ]
  },
  {
   "cell_type": "code",
   "execution_count": 11,
   "metadata": {},
   "outputs": [
    {
     "data": {
      "text/plain": [
       "'Sussi'"
      ]
     },
     "execution_count": 11,
     "metadata": {},
     "output_type": "execute_result"
    }
   ],
   "source": [
    "cow.nickname"
   ]
  },
  {
   "cell_type": "markdown",
   "metadata": {},
   "source": [
    "### Inheritence\n",
    "\n",
    "Classes can inherit characteristics like methods from other classes. \n",
    "The parent-class that a child-class is inheriting from, is called `super` class.\n",
    "An class can call the constructor from the super class with `super().__init__`"
   ]
  },
  {
   "cell_type": "code",
   "execution_count": 12,
   "metadata": {
    "collapsed": true
   },
   "outputs": [],
   "source": [
    "class Mammal(Animal):\n",
    "    def __init__(self, name, sound):\n",
    "        self.temperature_regulation = True\n",
    "        super().__init__(name, sound)"
   ]
  },
  {
   "cell_type": "code",
   "execution_count": 13,
   "metadata": {
    "collapsed": true
   },
   "outputs": [],
   "source": [
    "dog = Mammal(\"Dog\", \"Wuff\")"
   ]
  },
  {
   "cell_type": "code",
   "execution_count": 14,
   "metadata": {},
   "outputs": [
    {
     "name": "stdout",
     "output_type": "stream",
     "text": [
      "A Dog is making 'Wuff'.\n"
     ]
    }
   ],
   "source": [
    "dog.explain()"
   ]
  },
  {
   "cell_type": "code",
   "execution_count": 15,
   "metadata": {},
   "outputs": [
    {
     "data": {
      "text/plain": [
       "True"
      ]
     },
     "execution_count": 15,
     "metadata": {},
     "output_type": "execute_result"
    }
   ],
   "source": [
    "dog.temperature_regulation"
   ]
  },
  {
   "cell_type": "code",
   "execution_count": 16,
   "metadata": {},
   "outputs": [
    {
     "ename": "AttributeError",
     "evalue": "'Animal' object has no attribute 'temperature_regulation'",
     "output_type": "error",
     "traceback": [
      "\u001b[0;31m---------------------------------------------------------------------------\u001b[0m",
      "\u001b[0;31mAttributeError\u001b[0m                            Traceback (most recent call last)",
      "\u001b[0;32m<ipython-input-16-88f49765583a>\u001b[0m in \u001b[0;36m<module>\u001b[0;34m()\u001b[0m\n\u001b[0;32m----> 1\u001b[0;31m \u001b[0mcow\u001b[0m\u001b[0;34m.\u001b[0m\u001b[0mtemperature_regulation\u001b[0m\u001b[0;34m\u001b[0m\u001b[0m\n\u001b[0m",
      "\u001b[0;31mAttributeError\u001b[0m: 'Animal' object has no attribute 'temperature_regulation'"
     ]
    }
   ],
   "source": [
    "cow.temperature_regulation"
   ]
  },
  {
   "cell_type": "code",
   "execution_count": 17,
   "metadata": {
    "collapsed": true
   },
   "outputs": [],
   "source": [
    "cow.temperature_regulation = True"
   ]
  },
  {
   "cell_type": "code",
   "execution_count": 18,
   "metadata": {},
   "outputs": [
    {
     "data": {
      "text/plain": [
       "True"
      ]
     },
     "execution_count": 18,
     "metadata": {},
     "output_type": "execute_result"
    }
   ],
   "source": [
    "cow.temperature_regulation"
   ]
  },
  {
   "cell_type": "markdown",
   "metadata": {},
   "source": [
    "### Composition\n",
    "\n",
    "Objects can have other objects as their attributes."
   ]
  },
  {
   "cell_type": "code",
   "execution_count": 19,
   "metadata": {
    "collapsed": true
   },
   "outputs": [],
   "source": [
    "class Zoo:\n",
    "    def __init__(self):\n",
    "        self.list_of_animals = []\n",
    "\n",
    "    def add_animal(self, animal):\n",
    "        self.list_of_animals.append(animal)\n",
    "\n",
    "    def show(self):\n",
    "        print(\"Our zoo has the following animals:\")\n",
    "        for animal in self.list_of_animals:\n",
    "            print(animal.name)"
   ]
  },
  {
   "cell_type": "code",
   "execution_count": 20,
   "metadata": {},
   "outputs": [
    {
     "name": "stdout",
     "output_type": "stream",
     "text": [
      "Our zoo has the following animals:\n",
      "Cat\n",
      "Dog\n",
      "Cattle\n"
     ]
    }
   ],
   "source": [
    "myzoo = Zoo()\n",
    "myzoo.add_animal(cat)\n",
    "myzoo.add_animal(dog)\n",
    "myzoo.add_animal(cow)\n",
    "myzoo.show()"
   ]
  },
  {
   "cell_type": "markdown",
   "metadata": {},
   "source": [
    "## Polymorphism\n",
    "\n",
    "* Same interface (same method name) but with different behavior\n",
    "* Duck typing: \"If it walks like a duck and it quacks like a duck, then it must be a duck\"\n",
    "\n",
    "https://www.quora.com/What-is-Duck-typing-in-Python"
   ]
  },
  {
   "cell_type": "code",
   "execution_count": 21,
   "metadata": {},
   "outputs": [
    {
     "name": "stdout",
     "output_type": "stream",
     "text": [
      "Quack\n",
      "Quack Quack\n"
     ]
    }
   ],
   "source": [
    "class Duck:\n",
    "    def quack(self):\n",
    "        print(\"Quack\")\n",
    "\n",
    "class Mallard:\n",
    "    def quack(self):\n",
    "        print(\"Quack Quack\")\n",
    "\n",
    "donald = Duck()\n",
    "dagobert = Mallard()\n",
    "\n",
    "birds = [donald, dagobert]\n",
    "for bird in birds:\n",
    "    bird.quack()"
   ]
  },
  {
   "cell_type": "markdown",
   "metadata": {},
   "source": [
    "# OOP Kata\n",
    "\n",
    "## Create a class Position \n",
    "\n",
    "The class `Position` should have attributes `stock` (name of the company), `shares` (number of shares purchased), and `price` (stock price at the time of the purchase) that should be initialized during the construction of the object, e.g.:\n",
    "\n",
    "`g = Position(“Google”, 10, 1600.00)`\n",
    "\n",
    "Add a method `purchase_value`` that returns the value of this position at the time of the purchase."
   ]
  },
  {
   "cell_type": "code",
   "execution_count": 12,
   "metadata": {},
   "outputs": [],
   "source": [
    "# Define the class Position here:\n",
    "\n",
    "class Position:\n",
    "    def __init__(self, stock, shares, price):\n",
    "        self.stock = stock\n",
    "        self.shares = shares\n",
    "        self.price = price\n",
    "    \n",
    "    def purchase_value(self):\n",
    "        return self.price * self.shares"
   ]
  },
  {
   "cell_type": "code",
   "execution_count": 13,
   "metadata": {},
   "outputs": [
    {
     "name": "stdout",
     "output_type": "stream",
     "text": [
      "<__main__.Position object at 0x118197bd0>\n",
      "16000.0\n"
     ]
    }
   ],
   "source": [
    "# Try out the class Position here:\n",
    "google = Position('Google', 10, 1600.00)\n",
    "print(google)\n",
    "print(google.purchase_value())"
   ]
  },
  {
   "cell_type": "markdown",
   "metadata": {},
   "source": [
    "## Create a class Portfolio\n",
    "\n",
    "Create a class `Portfolio`. Add a constructor to create an empty portfolio\n",
    "Use Composition so that a portfolio can consist of many positions \n",
    "Add a method `buy` for adding a position (An Object of the Class Position)\n",
    "Add a method `purchase_value` that returns the value of all positions at the time of the purchase.\n"
   ]
  },
  {
   "cell_type": "code",
   "execution_count": 15,
   "metadata": {},
   "outputs": [],
   "source": [
    "# Define the class Portfolio here:\n",
    "class Portfolio(Position):\n",
    "    def __init__(self):\n",
    "        self.positions = []\n",
    "    def buy(self, position):\n",
    "        self.positions.append(position)\n",
    "    def purchase_value(self):\n",
    "        sum = 0\n",
    "        for positition in self.positions:\n",
    "            sum += positition.purchase_value()\n",
    "        return sum\n",
    "    "
   ]
  },
  {
   "cell_type": "markdown",
   "metadata": {},
   "source": [
    "## Test your classes\n",
    "\n",
    "- Create two portfolios with different stocks. \n",
    "- Let the first portfolio buy the second portfolio. \n",
    "- Show the purchase value of the first portfolio. Why does this work?"
   ]
  },
  {
   "cell_type": "code",
   "execution_count": null,
   "metadata": {},
   "outputs": [],
   "source": [
    "# Try out the classes here:\n"
   ]
  }
 ],
 "metadata": {
  "kernelspec": {
   "display_name": "Python 3",
   "language": "python",
   "name": "python3"
  },
  "language_info": {
   "codemirror_mode": {
    "name": "ipython",
    "version": 3
   },
   "file_extension": ".py",
   "mimetype": "text/x-python",
   "name": "python",
   "nbconvert_exporter": "python",
   "pygments_lexer": "ipython3",
   "version": "3.11.6"
  },
  "varInspector": {
   "cols": {
    "lenName": 16,
    "lenType": 16,
    "lenVar": 40
   },
   "kernels_config": {
    "python": {
     "delete_cmd_postfix": "",
     "delete_cmd_prefix": "del ",
     "library": "var_list.py",
     "varRefreshCmd": "print(var_dic_list())"
    },
    "r": {
     "delete_cmd_postfix": ") ",
     "delete_cmd_prefix": "rm(",
     "library": "var_list.r",
     "varRefreshCmd": "cat(var_dic_list()) "
    }
   },
   "types_to_exclude": [
    "module",
    "function",
    "builtin_function_or_method",
    "instance",
    "_Feature"
   ],
   "window_display": false
  }
 },
 "nbformat": 4,
 "nbformat_minor": 2
}
