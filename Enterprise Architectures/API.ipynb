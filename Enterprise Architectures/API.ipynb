{
 "cells": [
  {
   "cell_type": "code",
   "execution_count": 84,
   "metadata": {},
   "outputs": [],
   "source": [
    "import requests\n",
    "import json\n",
    "from pprint import pprint"
   ]
  },
  {
   "cell_type": "code",
   "execution_count": 42,
   "metadata": {},
   "outputs": [],
   "source": [
    "parameters = {\"gender\": \"male\", \"nat\": \"US\", \"results\": 10}"
   ]
  },
  {
   "cell_type": "code",
   "execution_count": 43,
   "metadata": {},
   "outputs": [],
   "source": [
    "response = requests.get(\"https://api.randomuser.me/\", params=parameters)"
   ]
  },
  {
   "cell_type": "code",
   "execution_count": 36,
   "metadata": {},
   "outputs": [
    {
     "name": "stdout",
     "output_type": "stream",
     "text": [
      "200\n"
     ]
    }
   ],
   "source": [
    "print(response.status_code)"
   ]
  },
  {
   "cell_type": "code",
   "execution_count": 44,
   "metadata": {},
   "outputs": [
    {
     "data": {
      "text/plain": [
       "'{\"results\":[{\"gender\":\"male\",\"name\":{\"title\":\"Mr\",\"first\":\"Alfredo\",\"last\":\"Hall\"},\"location\":{\"street\":{\"number\":3439,\"name\":\"Blossom Hill Rd\"},\"city\":\"Cleveland\",\"state\":\"Oklahoma\",\"country\":\"United States\",\"postcode\":58329,\"coordinates\":{\"latitude\":\"-12.0848\",\"longitude\":\"-168.4058\"},\"timezone\":{\"offset\":\"-12:00\",\"description\":\"Eniwetok, Kwajalein\"}},\"email\":\"alfredo.hall@example.com\",\"login\":{\"uuid\":\"50502b87-80ab-4579-af13-3ed2059c8e16\",\"username\":\"yellowbird296\",\"password\":\"bowtie\",\"salt\":\"BIcPRvBK\",\"md5\":\"6955154f551d0883299ca2219a231a41\",\"sha1\":\"a985cf313713321279d37f8e4fb22ea98307606c\",\"sha256\":\"0fa670a8ef10885f881cf76e465d68fd96f71bdc77a7603b8c043e0c923c0520\"},\"dob\":{\"date\":\"1956-08-27T18:57:23.191Z\",\"age\":67},\"registered\":{\"date\":\"2020-07-20T10:28:24.209Z\",\"age\":3},\"phone\":\"(303) 675-9146\",\"cell\":\"(537) 431-5389\",\"id\":{\"name\":\"SSN\",\"value\":\"807-11-9623\"},\"picture\":{\"large\":\"https://randomuser.me/api/portraits/men/84.jpg\",\"medium\":\"https://randomuser.me/api/portraits/med/men/84.jpg\",\"thumbnail\":\"https://randomuser.me/api/portraits/thumb/men/84.jpg\"},\"nat\":\"US\"},{\"gender\":\"male\",\"name\":{\"title\":\"Mr\",\"first\":\"Adam\",\"last\":\"Kuhn\"},\"location\":{\"street\":{\"number\":472,\"name\":\"Railroad St\"},\"city\":\"Palmdale\",\"state\":\"North Carolina\",\"country\":\"United States\",\"postcode\":59843,\"coordinates\":{\"latitude\":\"18.4374\",\"longitude\":\"-4.6188\"},\"timezone\":{\"offset\":\"-8:00\",\"description\":\"Pacific Time (US & Canada)\"}},\"email\":\"adam.kuhn@example.com\",\"login\":{\"uuid\":\"5c46195c-fd1c-422f-a461-0820aaa8e62c\",\"username\":\"bigbutterfly252\",\"password\":\"studly\",\"salt\":\"5AlVNjnJ\",\"md5\":\"1628af8a092113ab409cfabe94830050\",\"sha1\":\"689e4572a064804016cbed63ee46c542651fae74\",\"sha256\":\"49693b35e61f29f83e2d4c340efe81eac7cb48c9c205e6d7bee8bd893e42c72d\"},\"dob\":{\"date\":\"1982-10-20T22:00:14.867Z\",\"age\":41},\"registered\":{\"date\":\"2022-03-18T02:16:18.969Z\",\"age\":2},\"phone\":\"(845) 933-4398\",\"cell\":\"(463) 568-5281\",\"id\":{\"name\":\"SSN\",\"value\":\"841-38-9589\"},\"picture\":{\"large\":\"https://randomuser.me/api/portraits/men/86.jpg\",\"medium\":\"https://randomuser.me/api/portraits/med/men/86.jpg\",\"thumbnail\":\"https://randomuser.me/api/portraits/thumb/men/86.jpg\"},\"nat\":\"US\"},{\"gender\":\"male\",\"name\":{\"title\":\"Mr\",\"first\":\"Miguel\",\"last\":\"Day\"},\"location\":{\"street\":{\"number\":3086,\"name\":\"Woodland St\"},\"city\":\"Chandler\",\"state\":\"Minnesota\",\"country\":\"United States\",\"postcode\":78378,\"coordinates\":{\"latitude\":\"24.1372\",\"longitude\":\"-126.1970\"},\"timezone\":{\"offset\":\"+4:30\",\"description\":\"Kabul\"}},\"email\":\"miguel.day@example.com\",\"login\":{\"uuid\":\"39d112af-dd78-4e65-a5fd-4a56ac83d2d7\",\"username\":\"goldenwolf203\",\"password\":\"hurley\",\"salt\":\"nq85TgoW\",\"md5\":\"035458120920a3d42ec09ea941e35ed2\",\"sha1\":\"ee3aa7f8f2a291c5a1d7916854f73d9a5ef01208\",\"sha256\":\"f5403696d20c1a27df369a66792017b904041237bb28951a27b9ea4f9968c426\"},\"dob\":{\"date\":\"1968-06-20T16:59:58.492Z\",\"age\":55},\"registered\":{\"date\":\"2008-10-09T20:08:53.461Z\",\"age\":15},\"phone\":\"(423) 804-6152\",\"cell\":\"(711) 707-2457\",\"id\":{\"name\":\"SSN\",\"value\":\"265-62-7338\"},\"picture\":{\"large\":\"https://randomuser.me/api/portraits/men/42.jpg\",\"medium\":\"https://randomuser.me/api/portraits/med/men/42.jpg\",\"thumbnail\":\"https://randomuser.me/api/portraits/thumb/men/42.jpg\"},\"nat\":\"US\"},{\"gender\":\"male\",\"name\":{\"title\":\"Mr\",\"first\":\"Terrance\",\"last\":\"Barrett\"},\"location\":{\"street\":{\"number\":3667,\"name\":\"Saddle Dr\"},\"city\":\"Antioch\",\"state\":\"Missouri\",\"country\":\"United States\",\"postcode\":59716,\"coordinates\":{\"latitude\":\"-69.2094\",\"longitude\":\"-68.2614\"},\"timezone\":{\"offset\":\"+5:45\",\"description\":\"Kathmandu\"}},\"email\":\"terrance.barrett@example.com\",\"login\":{\"uuid\":\"df8cf0b3-a4f2-47c3-8feb-13c75e165653\",\"username\":\"crazylion938\",\"password\":\"limewire\",\"salt\":\"JRJKO7Ho\",\"md5\":\"51c0683455e27a77372c028a241d22b6\",\"sha1\":\"d3f776af1d4c770c9c30f48af4b368634c71c263\",\"sha256\":\"00334bdc44f9195db04906c29c1908c9ac3c06b73c56ac6b8ef60b9e98445ac7\"},\"dob\":{\"date\":\"1981-06-16T01:50:44.350Z\",\"age\":42},\"registered\":{\"date\":\"2014-01-23T05:14:01.664Z\",\"age\":10},\"phone\":\"(895) 931-8333\",\"cell\":\"(735) 923-7247\",\"id\":{\"name\":\"SSN\",\"value\":\"119-30-5162\"},\"picture\":{\"large\":\"https://randomuser.me/api/portraits/men/30.jpg\",\"medium\":\"https://randomuser.me/api/portraits/med/men/30.jpg\",\"thumbnail\":\"https://randomuser.me/api/portraits/thumb/men/30.jpg\"},\"nat\":\"US\"},{\"gender\":\"male\",\"name\":{\"title\":\"Mr\",\"first\":\"Gordon\",\"last\":\"Jimenez\"},\"location\":{\"street\":{\"number\":6074,\"name\":\"Mcgowen St\"},\"city\":\"Moreno Valley\",\"state\":\"South Carolina\",\"country\":\"United States\",\"postcode\":47861,\"coordinates\":{\"latitude\":\"-28.7025\",\"longitude\":\"93.0012\"},\"timezone\":{\"offset\":\"+1:00\",\"description\":\"Brussels, Copenhagen, Madrid, Paris\"}},\"email\":\"gordon.jimenez@example.com\",\"login\":{\"uuid\":\"179283b1-3a1b-4478-84b8-a4b55eee0c5b\",\"username\":\"happygoose667\",\"password\":\"foolish\",\"salt\":\"arAr33vH\",\"md5\":\"4f4e326a32a42933b117d1e38d013a90\",\"sha1\":\"2b53e38ce2f06473b21bfeed7ab64e8c0122ce54\",\"sha256\":\"d2cbb4ce8cc6e05903aaf09b840daba9977a9f07cccc75e35d03d6d4ee5dcea5\"},\"dob\":{\"date\":\"1969-08-06T02:35:23.435Z\",\"age\":54},\"registered\":{\"date\":\"2022-02-13T06:22:51.611Z\",\"age\":2},\"phone\":\"(596) 211-9239\",\"cell\":\"(849) 646-5639\",\"id\":{\"name\":\"SSN\",\"value\":\"128-74-0564\"},\"picture\":{\"large\":\"https://randomuser.me/api/portraits/men/25.jpg\",\"medium\":\"https://randomuser.me/api/portraits/med/men/25.jpg\",\"thumbnail\":\"https://randomuser.me/api/portraits/thumb/men/25.jpg\"},\"nat\":\"US\"},{\"gender\":\"male\",\"name\":{\"title\":\"Mr\",\"first\":\"Tracy\",\"last\":\"Morgan\"},\"location\":{\"street\":{\"number\":3467,\"name\":\"E Center St\"},\"city\":\"Mcallen\",\"state\":\"Montana\",\"country\":\"United States\",\"postcode\":62597,\"coordinates\":{\"latitude\":\"-82.4634\",\"longitude\":\"-6.7739\"},\"timezone\":{\"offset\":\"+9:00\",\"description\":\"Tokyo, Seoul, Osaka, Sapporo, Yakutsk\"}},\"email\":\"tracy.morgan@example.com\",\"login\":{\"uuid\":\"89b99af8-3848-4ea9-8cf9-e53d556b59e3\",\"username\":\"beautifuldog186\",\"password\":\"bummer\",\"salt\":\"791UH27D\",\"md5\":\"bc1ace958ee27080a93dc5fa1a1afa81\",\"sha1\":\"1378172e1557f13642790cd24c48f4e62172ee4d\",\"sha256\":\"9c38ca6e03654700f8e6fd63d215cbf4c4169df73ac0ece3af02ed0498ac5dfa\"},\"dob\":{\"date\":\"1997-10-19T19:55:52.262Z\",\"age\":26},\"registered\":{\"date\":\"2021-03-23T07:16:58.519Z\",\"age\":3},\"phone\":\"(680) 256-7630\",\"cell\":\"(838) 894-0096\",\"id\":{\"name\":\"SSN\",\"value\":\"674-92-8451\"},\"picture\":{\"large\":\"https://randomuser.me/api/portraits/men/8.jpg\",\"medium\":\"https://randomuser.me/api/portraits/med/men/8.jpg\",\"thumbnail\":\"https://randomuser.me/api/portraits/thumb/men/8.jpg\"},\"nat\":\"US\"},{\"gender\":\"male\",\"name\":{\"title\":\"Mr\",\"first\":\"Thomas\",\"last\":\"Ruiz\"},\"location\":{\"street\":{\"number\":2554,\"name\":\"Cackson St\"},\"city\":\"Lewiston\",\"state\":\"Pennsylvania\",\"country\":\"United States\",\"postcode\":74344,\"coordinates\":{\"latitude\":\"-27.2034\",\"longitude\":\"84.0826\"},\"timezone\":{\"offset\":\"-4:00\",\"description\":\"Atlantic Time (Canada), Caracas, La Paz\"}},\"email\":\"thomas.ruiz@example.com\",\"login\":{\"uuid\":\"47b11f60-8293-4f67-b979-c60464ee5856\",\"username\":\"redostrich938\",\"password\":\"scout\",\"salt\":\"4IGYfOiD\",\"md5\":\"f6a9785b133bcb51d233d7a4462f406e\",\"sha1\":\"ccab996e41b279c7fda5d56481dcea25c5d06330\",\"sha256\":\"47a1b882dc678da65c478baa7ca50fdd03bb69fd6afe92825303a517a47aad2f\"},\"dob\":{\"date\":\"1978-07-15T06:42:29.141Z\",\"age\":45},\"registered\":{\"date\":\"2003-03-02T17:10:32.542Z\",\"age\":21},\"phone\":\"(507) 789-6434\",\"cell\":\"(218) 309-8732\",\"id\":{\"name\":\"SSN\",\"value\":\"080-61-0390\"},\"picture\":{\"large\":\"https://randomuser.me/api/portraits/men/25.jpg\",\"medium\":\"https://randomuser.me/api/portraits/med/men/25.jpg\",\"thumbnail\":\"https://randomuser.me/api/portraits/thumb/men/25.jpg\"},\"nat\":\"US\"},{\"gender\":\"male\",\"name\":{\"title\":\"Mr\",\"first\":\"Ricky\",\"last\":\"Lee\"},\"location\":{\"street\":{\"number\":8065,\"name\":\"Pecan Acres Ln\"},\"city\":\"Memphis\",\"state\":\"Georgia\",\"country\":\"United States\",\"postcode\":50094,\"coordinates\":{\"latitude\":\"-23.2481\",\"longitude\":\"46.9280\"},\"timezone\":{\"offset\":\"+6:00\",\"description\":\"Almaty, Dhaka, Colombo\"}},\"email\":\"ricky.lee@example.com\",\"login\":{\"uuid\":\"7f46ea13-2f45-4fc7-a97a-8a6f14db6089\",\"username\":\"tinysnake404\",\"password\":\"rascal\",\"salt\":\"P72dLk1J\",\"md5\":\"9936bae532dff28525bd60addb671f4a\",\"sha1\":\"4e5d5a3cb794ec167b2935065c5b01ad9163a9e0\",\"sha256\":\"bcf25993a66f929098b22efdb7523ab15d535495443cfeb39663e45cbca77ea5\"},\"dob\":{\"date\":\"1962-11-01T20:07:49.100Z\",\"age\":61},\"registered\":{\"date\":\"2007-11-18T23:02:28.425Z\",\"age\":16},\"phone\":\"(578) 769-6891\",\"cell\":\"(386) 394-8354\",\"id\":{\"name\":\"SSN\",\"value\":\"068-70-5011\"},\"picture\":{\"large\":\"https://randomuser.me/api/portraits/men/35.jpg\",\"medium\":\"https://randomuser.me/api/portraits/med/men/35.jpg\",\"thumbnail\":\"https://randomuser.me/api/portraits/thumb/men/35.jpg\"},\"nat\":\"US\"},{\"gender\":\"male\",\"name\":{\"title\":\"Mr\",\"first\":\"Andy\",\"last\":\"Lee\"},\"location\":{\"street\":{\"number\":9015,\"name\":\"E Sandy Lake Rd\"},\"city\":\"San Francisco\",\"state\":\"Kansas\",\"country\":\"United States\",\"postcode\":20939,\"coordinates\":{\"latitude\":\"-11.4860\",\"longitude\":\"104.4973\"},\"timezone\":{\"offset\":\"+7:00\",\"description\":\"Bangkok, Hanoi, Jakarta\"}},\"email\":\"andy.lee@example.com\",\"login\":{\"uuid\":\"e9d52889-ffdc-48df-b212-1ef18d018aba\",\"username\":\"orangeostrich778\",\"password\":\"eureka\",\"salt\":\"inwQSHxw\",\"md5\":\"7884a4e6d995829670b9ea2bf31dc22d\",\"sha1\":\"5bbc1170982234457150f782f7744fee58d8ad82\",\"sha256\":\"b94e30965432378b9530a16d6c492532d059be2f12bbc7b981dc3900cecbaa03\"},\"dob\":{\"date\":\"1993-02-01T03:11:05.724Z\",\"age\":31},\"registered\":{\"date\":\"2010-10-05T09:52:54.916Z\",\"age\":13},\"phone\":\"(696) 241-4469\",\"cell\":\"(351) 914-8500\",\"id\":{\"name\":\"SSN\",\"value\":\"118-84-7014\"},\"picture\":{\"large\":\"https://randomuser.me/api/portraits/men/79.jpg\",\"medium\":\"https://randomuser.me/api/portraits/med/men/79.jpg\",\"thumbnail\":\"https://randomuser.me/api/portraits/thumb/men/79.jpg\"},\"nat\":\"US\"},{\"gender\":\"male\",\"name\":{\"title\":\"Mr\",\"first\":\"Neil\",\"last\":\"Burton\"},\"location\":{\"street\":{\"number\":4995,\"name\":\"White Oak Dr\"},\"city\":\"Anaheim\",\"state\":\"South Dakota\",\"country\":\"United States\",\"postcode\":38349,\"coordinates\":{\"latitude\":\"-24.2281\",\"longitude\":\"-178.3611\"},\"timezone\":{\"offset\":\"-4:00\",\"description\":\"Atlantic Time (Canada), Caracas, La Paz\"}},\"email\":\"neil.burton@example.com\",\"login\":{\"uuid\":\"d5dde700-f9ac-46f3-9791-2ec4417bbe98\",\"username\":\"orangefish558\",\"password\":\"roberto\",\"salt\":\"Ypt4pgM6\",\"md5\":\"e6edd06876adfaaf1fb189cd81775018\",\"sha1\":\"32b8b4a9e3a995456b47cdfae9ba633b0422129a\",\"sha256\":\"6c726a3b3793e528080ddf6a57b65ebb23d38c1886d853edcf027a53a8b0e72d\"},\"dob\":{\"date\":\"1965-01-17T22:05:44.280Z\",\"age\":59},\"registered\":{\"date\":\"2003-10-06T15:20:54.646Z\",\"age\":20},\"phone\":\"(498) 622-1467\",\"cell\":\"(524) 277-4455\",\"id\":{\"name\":\"SSN\",\"value\":\"730-87-8888\"},\"picture\":{\"large\":\"https://randomuser.me/api/portraits/men/65.jpg\",\"medium\":\"https://randomuser.me/api/portraits/med/men/65.jpg\",\"thumbnail\":\"https://randomuser.me/api/portraits/thumb/men/65.jpg\"},\"nat\":\"US\"}],\"info\":{\"seed\":\"4893020dd53208ee\",\"results\":10,\"page\":1,\"version\":\"1.4\"}}'"
      ]
     },
     "execution_count": 44,
     "metadata": {},
     "output_type": "execute_result"
    }
   ],
   "source": [
    "response.text"
   ]
  },
  {
   "cell_type": "code",
   "execution_count": 45,
   "metadata": {},
   "outputs": [],
   "source": [
    "data = json.loads(response.text)"
   ]
  },
  {
   "cell_type": "code",
   "execution_count": 46,
   "metadata": {},
   "outputs": [
    {
     "data": {
      "text/plain": [
       "dict"
      ]
     },
     "execution_count": 46,
     "metadata": {},
     "output_type": "execute_result"
    }
   ],
   "source": [
    "type(data)"
   ]
  },
  {
   "cell_type": "code",
   "execution_count": 62,
   "metadata": {},
   "outputs": [
    {
     "name": "stdout",
     "output_type": "stream",
     "text": [
      "Alfredo\n",
      "Adam\n",
      "Miguel\n",
      "Terrance\n",
      "Gordon\n",
      "Tracy\n",
      "Thomas\n",
      "Ricky\n",
      "Andy\n",
      "Neil\n"
     ]
    }
   ],
   "source": [
    "for user in data['results']:\n",
    "    print(user['name']['first'])"
   ]
  },
  {
   "cell_type": "code",
   "execution_count": 68,
   "metadata": {},
   "outputs": [],
   "source": [
    "response1 = requests.get(\"http://api.open-notify.org/astros.json\")"
   ]
  },
  {
   "cell_type": "code",
   "execution_count": 69,
   "metadata": {},
   "outputs": [
    {
     "data": {
      "text/plain": [
       "'{\"message\": \"success\", \"people\": [{\"name\": \"Jasmin Moghbeli\", \"craft\": \"ISS\"}, {\"name\": \"Andreas Mogensen\", \"craft\": \"ISS\"}, {\"name\": \"Satoshi Furukawa\", \"craft\": \"ISS\"}, {\"name\": \"Konstantin Borisov\", \"craft\": \"ISS\"}, {\"name\": \"Oleg Kononenko\", \"craft\": \"ISS\"}, {\"name\": \"Nikolai Chub\", \"craft\": \"ISS\"}, {\"name\": \"Loral O\\'Hara\", \"craft\": \"ISS\"}], \"number\": 7}'"
      ]
     },
     "execution_count": 69,
     "metadata": {},
     "output_type": "execute_result"
    }
   ],
   "source": [
    "response1.text"
   ]
  },
  {
   "cell_type": "code",
   "execution_count": 70,
   "metadata": {},
   "outputs": [],
   "source": [
    "data1 = json.loads(response1.text)"
   ]
  },
  {
   "cell_type": "code",
   "execution_count": 79,
   "metadata": {},
   "outputs": [
    {
     "name": "stdout",
     "output_type": "stream",
     "text": [
      "Number of people in scpace right now: 7\n"
     ]
    }
   ],
   "source": [
    "number = data1['number']\n",
    "print(f'Number of people in scpace right now: {number}')"
   ]
  },
  {
   "cell_type": "code",
   "execution_count": 85,
   "metadata": {},
   "outputs": [
    {
     "name": "stdout",
     "output_type": "stream",
     "text": [
      "'Jasmin Moghbeli'\n",
      "'Andreas Mogensen'\n",
      "'Satoshi Furukawa'\n",
      "'Konstantin Borisov'\n",
      "'Oleg Kononenko'\n",
      "'Nikolai Chub'\n",
      "\"Loral O'Hara\"\n"
     ]
    }
   ],
   "source": [
    "for astro in data1['people']:\n",
    "    pprint(astro['name'])"
   ]
  },
  {
   "cell_type": "code",
   "execution_count": 25,
   "metadata": {},
   "outputs": [],
   "source": [
    "import requests\n",
    "import json\n",
    "from pprint import pprint\n",
    "import streamlit as st\n",
    "import pandas as pd\n",
    "\n",
    "astronaut_url = \"http://api.open-notify.org/astros.json\"\n",
    "astro_response = requests.get(url=astronaut_url)\n",
    "astro_json = astro_response.text\n",
    "astro_data = json.loads(astro_json)\n",
    "number = astro_data['number']\n",
    "location_url = \"http://api.open-notify.org/iss-now.json\"\n",
    "location_response = requests.get(url=location_url)\n",
    "location_json = location_response.text\n",
    "location_data = json.loads(location_json)\n",
    "location_dataframe = pd.DataFrame(location_data)\n",
    "latitude = location_data['iss_position']['latitude']\n",
    "longitude = location_data['iss_position']['longitude']"
   ]
  },
  {
   "cell_type": "code",
   "execution_count": 26,
   "metadata": {},
   "outputs": [],
   "source": [
    "location_dataframe = location_dataframe.drop(columns=['message'])"
   ]
  },
  {
   "cell_type": "code",
   "execution_count": 27,
   "metadata": {},
   "outputs": [],
   "source": [
    "transposed_dataframe = location_dataframe.T"
   ]
  },
  {
   "cell_type": "code",
   "execution_count": 28,
   "metadata": {},
   "outputs": [
    {
     "name": "stdout",
     "output_type": "stream",
     "text": [
      "                latitude   longitude\n",
      "timestamp     1716194506  1716194506\n",
      "iss_position     13.1492     94.9916\n"
     ]
    }
   ],
   "source": [
    "print(transposed_dataframe)"
   ]
  },
  {
   "cell_type": "code",
   "execution_count": 29,
   "metadata": {},
   "outputs": [],
   "source": [
    "transposed_dataframe = transposed_dataframe.drop(transposed_dataframe.index[0])"
   ]
  },
  {
   "cell_type": "code",
   "execution_count": 30,
   "metadata": {},
   "outputs": [
    {
     "data": {
      "text/html": [
       "<div>\n",
       "<style scoped>\n",
       "    .dataframe tbody tr th:only-of-type {\n",
       "        vertical-align: middle;\n",
       "    }\n",
       "\n",
       "    .dataframe tbody tr th {\n",
       "        vertical-align: top;\n",
       "    }\n",
       "\n",
       "    .dataframe thead th {\n",
       "        text-align: right;\n",
       "    }\n",
       "</style>\n",
       "<table border=\"1\" class=\"dataframe\">\n",
       "  <thead>\n",
       "    <tr style=\"text-align: right;\">\n",
       "      <th></th>\n",
       "      <th>latitude</th>\n",
       "      <th>longitude</th>\n",
       "    </tr>\n",
       "  </thead>\n",
       "  <tbody>\n",
       "    <tr>\n",
       "      <th>iss_position</th>\n",
       "      <td>13.1492</td>\n",
       "      <td>94.9916</td>\n",
       "    </tr>\n",
       "  </tbody>\n",
       "</table>\n",
       "</div>"
      ],
      "text/plain": [
       "             latitude longitude\n",
       "iss_position  13.1492   94.9916"
      ]
     },
     "execution_count": 30,
     "metadata": {},
     "output_type": "execute_result"
    }
   ],
   "source": [
    "transposed_dataframe\n"
   ]
  },
  {
   "cell_type": "code",
   "execution_count": 32,
   "metadata": {},
   "outputs": [
    {
     "data": {
      "text/html": [
       "<div>\n",
       "<style scoped>\n",
       "    .dataframe tbody tr th:only-of-type {\n",
       "        vertical-align: middle;\n",
       "    }\n",
       "\n",
       "    .dataframe tbody tr th {\n",
       "        vertical-align: top;\n",
       "    }\n",
       "\n",
       "    .dataframe thead th {\n",
       "        text-align: right;\n",
       "    }\n",
       "</style>\n",
       "<table border=\"1\" class=\"dataframe\">\n",
       "  <thead>\n",
       "    <tr style=\"text-align: right;\">\n",
       "      <th></th>\n",
       "      <th>latitude</th>\n",
       "      <th>longitude</th>\n",
       "    </tr>\n",
       "  </thead>\n",
       "  <tbody>\n",
       "    <tr>\n",
       "      <th>iss_position</th>\n",
       "      <td>13.1492</td>\n",
       "      <td>94.9916</td>\n",
       "    </tr>\n",
       "  </tbody>\n",
       "</table>\n",
       "</div>"
      ],
      "text/plain": [
       "             latitude longitude\n",
       "iss_position  13.1492   94.9916"
      ]
     },
     "execution_count": 32,
     "metadata": {},
     "output_type": "execute_result"
    }
   ],
   "source": [
    "transposed_dataframe = transposed_dataframe.rename(columns={'latitude': 'lat', 'longitude': 'lon'})\n",
    "\n",
    "transposed_dataframe"
   ]
  },
  {
   "cell_type": "code",
   "execution_count": 17,
   "metadata": {},
   "outputs": [
    {
     "name": "stdout",
     "output_type": "stream",
     "text": [
      "           lat         lon\n",
      "0    37.780782 -122.392146\n",
      "1    37.789693 -122.400504\n",
      "2    37.768177 -122.462786\n",
      "3    37.771565 -122.383092\n",
      "4    37.745910 -122.384086\n",
      "..         ...         ...\n",
      "995  37.784277 -122.386888\n",
      "996  37.795351 -122.391406\n",
      "997  37.754897 -122.420388\n",
      "998  37.801696 -122.428187\n",
      "999  37.724421 -122.428665\n",
      "\n",
      "[1000 rows x 2 columns]\n"
     ]
    }
   ],
   "source": [
    "import streamlit as st\n",
    "import pandas as pd\n",
    "import numpy as np\n",
    "\n",
    "df = pd.DataFrame(\n",
    "    np.random.randn(1000, 2) / [50, 50] + [37.76, -122.4],\n",
    "    columns=['lat', 'lon'])\n",
    "\n",
    "print(df)"
   ]
  },
  {
   "cell_type": "code",
   "execution_count": 18,
   "metadata": {},
   "outputs": [
    {
     "data": {
      "text/plain": [
       "DeltaGenerator()"
      ]
     },
     "execution_count": 18,
     "metadata": {},
     "output_type": "execute_result"
    }
   ],
   "source": [
    "st.map(df)"
   ]
  },
  {
   "cell_type": "code",
   "execution_count": null,
   "metadata": {},
   "outputs": [],
   "source": []
  }
 ],
 "metadata": {
  "kernelspec": {
   "display_name": "Python 3",
   "language": "python",
   "name": "python3"
  },
  "language_info": {
   "codemirror_mode": {
    "name": "ipython",
    "version": 3
   },
   "file_extension": ".py",
   "mimetype": "text/x-python",
   "name": "python",
   "nbconvert_exporter": "python",
   "pygments_lexer": "ipython3",
   "version": "3.10.11"
  }
 },
 "nbformat": 4,
 "nbformat_minor": 2
}
