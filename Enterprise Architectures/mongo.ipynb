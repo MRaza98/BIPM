{
 "cells": [
  {
   "cell_type": "code",
   "execution_count": 1,
   "metadata": {},
   "outputs": [],
   "source": [
    "from pymongo import MongoClient\n",
    "from pprint import pprint\n",
    "import requests\n",
    "import json"
   ]
  },
  {
   "cell_type": "code",
   "execution_count": 2,
   "metadata": {},
   "outputs": [],
   "source": [
    "client=MongoClient()"
   ]
  },
  {
   "cell_type": "code",
   "execution_count": 3,
   "metadata": {},
   "outputs": [],
   "source": [
    "db=client['test-database']"
   ]
  },
  {
   "cell_type": "code",
   "execution_count": 4,
   "metadata": {},
   "outputs": [],
   "source": [
    "db.courses.drop()"
   ]
  },
  {
   "cell_type": "code",
   "execution_count": 5,
   "metadata": {},
   "outputs": [],
   "source": [
    "courses = [\n",
    "    {'title': 'Data Science',\n",
    "     'lecturer': {\n",
    "         'name': 'Markus Löcher',\n",
    "         'department': 'Math',\n",
    "         'status': 'Professor'\n",
    "     },\n",
    "     'semester': 1},\n",
    "    {'title': 'Data Warehousing',\n",
    "     'lecturer': {\n",
    "         'name': 'Roland M. Mueller',\n",
    "         'department': 'Information Systems',\n",
    "         'status': 'Professor'\n",
    "     },\n",
    "     'semester': 1},\n",
    "    {'title': 'Business Process Management',\n",
    "     'lecturer': {\n",
    "         'name': 'Frank Habermann',\n",
    "         'department': 'Information Systems',\n",
    "         'status': 'Professor'\n",
    "     },\n",
    "     'semester': 1},\n",
    "    {'title': 'Stratigic Issues of IT',\n",
    "     'lecturer': {\n",
    "         'name': 'Sven Pohland',\n",
    "         'department': 'Information Systems',\n",
    "         'status': 'Professor'\n",
    "     },\n",
    "     'semester': 1},\n",
    "    {'title': 'Text, Web and Social Media Analytics Lab',\n",
    "     'lecturer': {\n",
    "         'name': 'Markus Löcher',\n",
    "         'department': 'Math',\n",
    "         'status': 'Professor'\n",
    "     },\n",
    "     'semester': 2},\n",
    "    {'title': 'Enterprise Architectures for Big Data',\n",
    "     'lecturer': {\n",
    "         'name': 'Roland M. Mueller',\n",
    "         'department': 'Information Systems',\n",
    "         'status': 'Professor'\n",
    "     },\n",
    "     'semester': 2},\n",
    "    {'title': 'Business Process Integration Lab',\n",
    "     'lecturer': {\n",
    "         'name': 'Frank Habermann',\n",
    "         'department': 'Information Systems',\n",
    "         'status': 'Professor'\n",
    "     },\n",
    "     'semester': 2},\n",
    "    {'title': 'IT-Security and Privacy',\n",
    "     'lecturer': {\n",
    "         'name': 'Dennis Uckel',\n",
    "         'department': 'Information Systems',\n",
    "         'status': 'External'\n",
    "     },\n",
    "     'semester': 2},\n",
    "    {'title': 'Research Methods',\n",
    "     'lecturer': {\n",
    "         'name': 'Marcus Birkenkrahe',\n",
    "         'department': 'Information Systems',\n",
    "         'status': 'Professor'\n",
    "     },\n",
    "     'semester': 2},\n",
    "]"
   ]
  },
  {
   "cell_type": "code",
   "execution_count": 6,
   "metadata": {},
   "outputs": [
    {
     "name": "stdout",
     "output_type": "stream",
     "text": [
      "[{'lecturer': {'department': 'Math',\n",
      "               'name': 'Markus Löcher',\n",
      "               'status': 'Professor'},\n",
      "  'semester': 1,\n",
      "  'title': 'Data Science'},\n",
      " {'lecturer': {'department': 'Information Systems',\n",
      "               'name': 'Roland M. Mueller',\n",
      "               'status': 'Professor'},\n",
      "  'semester': 1,\n",
      "  'title': 'Data Warehousing'},\n",
      " {'lecturer': {'department': 'Information Systems',\n",
      "               'name': 'Frank Habermann',\n",
      "               'status': 'Professor'},\n",
      "  'semester': 1,\n",
      "  'title': 'Business Process Management'},\n",
      " {'lecturer': {'department': 'Information Systems',\n",
      "               'name': 'Sven Pohland',\n",
      "               'status': 'Professor'},\n",
      "  'semester': 1,\n",
      "  'title': 'Stratigic Issues of IT'},\n",
      " {'lecturer': {'department': 'Math',\n",
      "               'name': 'Markus Löcher',\n",
      "               'status': 'Professor'},\n",
      "  'semester': 2,\n",
      "  'title': 'Text, Web and Social Media Analytics Lab'},\n",
      " {'lecturer': {'department': 'Information Systems',\n",
      "               'name': 'Roland M. Mueller',\n",
      "               'status': 'Professor'},\n",
      "  'semester': 2,\n",
      "  'title': 'Enterprise Architectures for Big Data'},\n",
      " {'lecturer': {'department': 'Information Systems',\n",
      "               'name': 'Frank Habermann',\n",
      "               'status': 'Professor'},\n",
      "  'semester': 2,\n",
      "  'title': 'Business Process Integration Lab'},\n",
      " {'lecturer': {'department': 'Information Systems',\n",
      "               'name': 'Dennis Uckel',\n",
      "               'status': 'External'},\n",
      "  'semester': 2,\n",
      "  'title': 'IT-Security and Privacy'},\n",
      " {'lecturer': {'department': 'Information Systems',\n",
      "               'name': 'Marcus Birkenkrahe',\n",
      "               'status': 'Professor'},\n",
      "  'semester': 2,\n",
      "  'title': 'Research Methods'}]\n"
     ]
    }
   ],
   "source": [
    "pprint(courses)"
   ]
  },
  {
   "cell_type": "code",
   "execution_count": 7,
   "metadata": {},
   "outputs": [
    {
     "data": {
      "text/plain": [
       "InsertManyResult([ObjectId('6654c7ad7d68436436405bea'), ObjectId('6654c7ad7d68436436405beb'), ObjectId('6654c7ad7d68436436405bec'), ObjectId('6654c7ad7d68436436405bed'), ObjectId('6654c7ad7d68436436405bee'), ObjectId('6654c7ad7d68436436405bef'), ObjectId('6654c7ad7d68436436405bf0'), ObjectId('6654c7ad7d68436436405bf1'), ObjectId('6654c7ad7d68436436405bf2')], acknowledged=True)"
      ]
     },
     "execution_count": 7,
     "metadata": {},
     "output_type": "execute_result"
    }
   ],
   "source": [
    "db.courses.insert_many(courses)"
   ]
  },
  {
   "cell_type": "code",
   "execution_count": 8,
   "metadata": {},
   "outputs": [
    {
     "name": "stdout",
     "output_type": "stream",
     "text": [
      "{'_id': ObjectId('6654c7ad7d68436436405bea'),\n",
      " 'lecturer': {'department': 'Math',\n",
      "              'name': 'Markus Löcher',\n",
      "              'status': 'Professor'},\n",
      " 'semester': 1,\n",
      " 'title': 'Data Science'}\n",
      "{'_id': ObjectId('6654c7ad7d68436436405beb'),\n",
      " 'lecturer': {'department': 'Information Systems',\n",
      "              'name': 'Roland M. Mueller',\n",
      "              'status': 'Professor'},\n",
      " 'semester': 1,\n",
      " 'title': 'Data Warehousing'}\n",
      "{'_id': ObjectId('6654c7ad7d68436436405bec'),\n",
      " 'lecturer': {'department': 'Information Systems',\n",
      "              'name': 'Frank Habermann',\n",
      "              'status': 'Professor'},\n",
      " 'semester': 1,\n",
      " 'title': 'Business Process Management'}\n",
      "{'_id': ObjectId('6654c7ad7d68436436405bed'),\n",
      " 'lecturer': {'department': 'Information Systems',\n",
      "              'name': 'Sven Pohland',\n",
      "              'status': 'Professor'},\n",
      " 'semester': 1,\n",
      " 'title': 'Stratigic Issues of IT'}\n",
      "{'_id': ObjectId('6654c7ad7d68436436405bee'),\n",
      " 'lecturer': {'department': 'Math',\n",
      "              'name': 'Markus Löcher',\n",
      "              'status': 'Professor'},\n",
      " 'semester': 2,\n",
      " 'title': 'Text, Web and Social Media Analytics Lab'}\n",
      "{'_id': ObjectId('6654c7ad7d68436436405bef'),\n",
      " 'lecturer': {'department': 'Information Systems',\n",
      "              'name': 'Roland M. Mueller',\n",
      "              'status': 'Professor'},\n",
      " 'semester': 2,\n",
      " 'title': 'Enterprise Architectures for Big Data'}\n",
      "{'_id': ObjectId('6654c7ad7d68436436405bf0'),\n",
      " 'lecturer': {'department': 'Information Systems',\n",
      "              'name': 'Frank Habermann',\n",
      "              'status': 'Professor'},\n",
      " 'semester': 2,\n",
      " 'title': 'Business Process Integration Lab'}\n",
      "{'_id': ObjectId('6654c7ad7d68436436405bf1'),\n",
      " 'lecturer': {'department': 'Information Systems',\n",
      "              'name': 'Dennis Uckel',\n",
      "              'status': 'External'},\n",
      " 'semester': 2,\n",
      " 'title': 'IT-Security and Privacy'}\n",
      "{'_id': ObjectId('6654c7ad7d68436436405bf2'),\n",
      " 'lecturer': {'department': 'Information Systems',\n",
      "              'name': 'Marcus Birkenkrahe',\n",
      "              'status': 'Professor'},\n",
      " 'semester': 2,\n",
      " 'title': 'Research Methods'}\n"
     ]
    }
   ],
   "source": [
    "cursor = db.courses.find()\n",
    "for document in cursor:\n",
    "    pprint(document)"
   ]
  },
  {
   "cell_type": "code",
   "execution_count": 9,
   "metadata": {},
   "outputs": [
    {
     "data": {
      "text/plain": [
       "{'title': 'Master Thesis', 'semester': 3}"
      ]
     },
     "execution_count": 9,
     "metadata": {},
     "output_type": "execute_result"
    }
   ],
   "source": [
    "my_json = '{\"title\": \"Master Thesis\", \"semester\": 3}'\n",
    "another_course = json.loads(my_json)\n",
    "another_course"
   ]
  },
  {
   "cell_type": "code",
   "execution_count": 10,
   "metadata": {},
   "outputs": [],
   "source": [
    "inserted_course = db.courses.insert_one(another_course).inserted_id"
   ]
  },
  {
   "cell_type": "code",
   "execution_count": 11,
   "metadata": {},
   "outputs": [
    {
     "name": "stdout",
     "output_type": "stream",
     "text": [
      "{'_id': ObjectId('6654c7ad7d68436436405bea'),\n",
      " 'lecturer': {'department': 'Math',\n",
      "              'name': 'Markus Löcher',\n",
      "              'status': 'Professor'},\n",
      " 'semester': 1,\n",
      " 'title': 'Data Science'}\n",
      "{'_id': ObjectId('6654c7ad7d68436436405beb'),\n",
      " 'lecturer': {'department': 'Information Systems',\n",
      "              'name': 'Roland M. Mueller',\n",
      "              'status': 'Professor'},\n",
      " 'semester': 1,\n",
      " 'title': 'Data Warehousing'}\n",
      "{'_id': ObjectId('6654c7ad7d68436436405bec'),\n",
      " 'lecturer': {'department': 'Information Systems',\n",
      "              'name': 'Frank Habermann',\n",
      "              'status': 'Professor'},\n",
      " 'semester': 1,\n",
      " 'title': 'Business Process Management'}\n",
      "{'_id': ObjectId('6654c7ad7d68436436405bed'),\n",
      " 'lecturer': {'department': 'Information Systems',\n",
      "              'name': 'Sven Pohland',\n",
      "              'status': 'Professor'},\n",
      " 'semester': 1,\n",
      " 'title': 'Stratigic Issues of IT'}\n",
      "{'_id': ObjectId('6654c7ad7d68436436405bee'),\n",
      " 'lecturer': {'department': 'Math',\n",
      "              'name': 'Markus Löcher',\n",
      "              'status': 'Professor'},\n",
      " 'semester': 2,\n",
      " 'title': 'Text, Web and Social Media Analytics Lab'}\n",
      "{'_id': ObjectId('6654c7ad7d68436436405bef'),\n",
      " 'lecturer': {'department': 'Information Systems',\n",
      "              'name': 'Roland M. Mueller',\n",
      "              'status': 'Professor'},\n",
      " 'semester': 2,\n",
      " 'title': 'Enterprise Architectures for Big Data'}\n",
      "{'_id': ObjectId('6654c7ad7d68436436405bf0'),\n",
      " 'lecturer': {'department': 'Information Systems',\n",
      "              'name': 'Frank Habermann',\n",
      "              'status': 'Professor'},\n",
      " 'semester': 2,\n",
      " 'title': 'Business Process Integration Lab'}\n",
      "{'_id': ObjectId('6654c7ad7d68436436405bf1'),\n",
      " 'lecturer': {'department': 'Information Systems',\n",
      "              'name': 'Dennis Uckel',\n",
      "              'status': 'External'},\n",
      " 'semester': 2,\n",
      " 'title': 'IT-Security and Privacy'}\n",
      "{'_id': ObjectId('6654c7ad7d68436436405bf2'),\n",
      " 'lecturer': {'department': 'Information Systems',\n",
      "              'name': 'Marcus Birkenkrahe',\n",
      "              'status': 'Professor'},\n",
      " 'semester': 2,\n",
      " 'title': 'Research Methods'}\n",
      "{'_id': ObjectId('6654c7ad7d68436436405bf3'),\n",
      " 'semester': 3,\n",
      " 'title': 'Master Thesis'}\n"
     ]
    }
   ],
   "source": [
    "cursor = db.courses.find()\n",
    "for document in cursor:\n",
    "    pprint(document)"
   ]
  },
  {
   "cell_type": "code",
   "execution_count": 12,
   "metadata": {},
   "outputs": [
    {
     "name": "stdout",
     "output_type": "stream",
     "text": [
      "{'_id': ObjectId('6654c7ad7d68436436405bea'),\n",
      " 'lecturer': {'department': 'Math',\n",
      "              'name': 'Markus Löcher',\n",
      "              'status': 'Professor'},\n",
      " 'semester': 1,\n",
      " 'title': 'Data Science'}\n"
     ]
    }
   ],
   "source": [
    "result = db.courses.find_one({\"title\": \"Data Science\"})\n",
    "pprint(result)"
   ]
  },
  {
   "cell_type": "code",
   "execution_count": 13,
   "metadata": {},
   "outputs": [
    {
     "name": "stdout",
     "output_type": "stream",
     "text": [
      "6654c7ad7d68436436405bea\n",
      "Markus Löcher\n"
     ]
    }
   ],
   "source": [
    "print(result[\"_id\"])\n",
    "print(result[\"lecturer\"][\"name\"])"
   ]
  },
  {
   "cell_type": "code",
   "execution_count": 14,
   "metadata": {},
   "outputs": [
    {
     "name": "stdout",
     "output_type": "stream",
     "text": [
      "{'_id': ObjectId('6654c7ad7d68436436405bee'),\n",
      " 'lecturer': {'department': 'Math',\n",
      "              'name': 'Markus Löcher',\n",
      "              'status': 'Professor'},\n",
      " 'semester': 2,\n",
      " 'title': 'Text, Web and Social Media Analytics Lab'}\n"
     ]
    }
   ],
   "source": [
    "result1 = db.courses.find_one({\"semester\": 2})\n",
    "pprint(result1)"
   ]
  },
  {
   "cell_type": "code",
   "execution_count": 15,
   "metadata": {},
   "outputs": [
    {
     "name": "stdout",
     "output_type": "stream",
     "text": [
      "'Text, Web and Social Media Analytics Lab'\n",
      "'Enterprise Architectures for Big Data'\n",
      "'Business Process Integration Lab'\n",
      "'IT-Security and Privacy'\n",
      "'Research Methods'\n"
     ]
    }
   ],
   "source": [
    "result2 = db.courses.find({\"semester\": 2})\n",
    "for document in result2:\n",
    "    pprint(document['title'])"
   ]
  },
  {
   "cell_type": "code",
   "execution_count": 16,
   "metadata": {},
   "outputs": [
    {
     "name": "stdout",
     "output_type": "stream",
     "text": [
      "'Markus Löcher'\n",
      "'Roland M. Mueller'\n",
      "'Frank Habermann'\n",
      "'Dennis Uckel'\n",
      "'Marcus Birkenkrahe'\n"
     ]
    }
   ],
   "source": [
    "result2 = db.courses.find({\"semester\": 2})\n",
    "for document in result2:\n",
    "    pprint(document['lecturer']['name'])"
   ]
  },
  {
   "cell_type": "code",
   "execution_count": 17,
   "metadata": {},
   "outputs": [
    {
     "name": "stdout",
     "output_type": "stream",
     "text": [
      "'Business Process Management'\n",
      "1\n",
      "'Business Process Integration Lab'\n",
      "2\n"
     ]
    }
   ],
   "source": [
    "frank_courses = db.courses.find({\"lecturer.name\": \"Frank Habermann\"})\n",
    "for course in frank_courses:\n",
    "    pprint(course['title'])\n",
    "    pprint(course['semester'])"
   ]
  },
  {
   "cell_type": "code",
   "execution_count": 18,
   "metadata": {},
   "outputs": [
    {
     "name": "stdout",
     "output_type": "stream",
     "text": [
      "'Business Process Integration Lab'\n",
      "2\n"
     ]
    }
   ],
   "source": [
    "frank_courses_sem_two = db.courses.find({\"lecturer.name\": \"Frank Habermann\", \"semester\": 2})\n",
    "for course in frank_courses_sem_two:\n",
    "    pprint(course['title'])\n",
    "    pprint(course['semester'])"
   ]
  },
  {
   "cell_type": "code",
   "execution_count": 19,
   "metadata": {},
   "outputs": [
    {
     "name": "stdout",
     "output_type": "stream",
     "text": [
      "'Data Science Markus Löcher'\n",
      "'Business Process Management Frank Habermann'\n",
      "'Text, Web and Social Media Analytics Lab Markus Löcher'\n",
      "'Business Process Integration Lab Frank Habermann'\n"
     ]
    }
   ],
   "source": [
    "frank_markus = db.courses.find({\"$or\": [{\"lecturer.name\": \"Frank Habermann\"}, {\"lecturer.name\": \"Markus Löcher\"}]})\n",
    "for courses in frank_markus:\n",
    "    pprint(courses['title'] + ' ' + courses['lecturer']['name'])"
   ]
  },
  {
   "cell_type": "code",
   "execution_count": 20,
   "metadata": {},
   "outputs": [
    {
     "name": "stdout",
     "output_type": "stream",
     "text": [
      "'Text, Web and Social Media Analytics Lab'\n",
      "2\n",
      "'Enterprise Architectures for Big Data'\n",
      "2\n",
      "'Business Process Integration Lab'\n",
      "2\n",
      "'IT-Security and Privacy'\n",
      "2\n",
      "'Research Methods'\n",
      "2\n",
      "'Master Thesis'\n",
      "3\n"
     ]
    }
   ],
   "source": [
    "not_semester_one = db.courses.find({\"semester\": {\"$gt\": 1}})\n",
    "for course in not_semester_one:\n",
    "    pprint(course['title'])\n",
    "    pprint(course['semester'])"
   ]
  },
  {
   "cell_type": "code",
   "execution_count": 21,
   "metadata": {},
   "outputs": [
    {
     "name": "stdout",
     "output_type": "stream",
     "text": [
      "4\n"
     ]
    }
   ],
   "source": [
    "course_count_sem_two = db.courses.count_documents({\"semester\": 1})\n",
    "print(course_count_sem_two)"
   ]
  },
  {
   "cell_type": "code",
   "execution_count": 22,
   "metadata": {},
   "outputs": [],
   "source": [
    "db = client['nobel']\n",
    "db.prizes.drop()\n",
    "db.laureates.drop()\n",
    "\n",
    "for collection_name in [\"prizes\", \"laureates\"]:\n",
    "    singular=collection_name[:-1]\n",
    "    response=requests.get('http://api.nobelprize.org/v1/{}.json'.format(singular))\n",
    "    documents=response.json()[collection_name]\n",
    "    db[collection_name].insert_many(documents)"
   ]
  },
  {
   "cell_type": "code",
   "execution_count": 23,
   "metadata": {},
   "outputs": [
    {
     "name": "stdout",
     "output_type": "stream",
     "text": [
      "{'_id': ObjectId('6654c7ae7d68436436405e92'),\n",
      " 'born': '1845-03-27',\n",
      " 'bornCity': 'Lennep (now Remscheid)',\n",
      " 'bornCountry': 'Prussia (now Germany)',\n",
      " 'bornCountryCode': 'DE',\n",
      " 'died': '1923-02-10',\n",
      " 'diedCity': 'Munich',\n",
      " 'diedCountry': 'Germany',\n",
      " 'diedCountryCode': 'DE',\n",
      " 'firstname': 'Wilhelm Conrad',\n",
      " 'gender': 'male',\n",
      " 'id': '1',\n",
      " 'prizes': [{'affiliations': [{'city': 'Munich',\n",
      "                               'country': 'Germany',\n",
      "                               'name': 'Munich University'}],\n",
      "             'category': 'physics',\n",
      "             'motivation': '\"in recognition of the extraordinary services he '\n",
      "                           'has rendered by the discovery of the remarkable '\n",
      "                           'rays subsequently named after him\"',\n",
      "             'share': '1',\n",
      "             'year': '1901'}],\n",
      " 'surname': 'Röntgen'}\n"
     ]
    }
   ],
   "source": [
    "pprint(db.laureates.find_one())"
   ]
  },
  {
   "cell_type": "code",
   "execution_count": 24,
   "metadata": {},
   "outputs": [
    {
     "data": {
      "text/plain": [
       "'Wilhelm Conrad'"
      ]
     },
     "execution_count": 24,
     "metadata": {},
     "output_type": "execute_result"
    }
   ],
   "source": [
    "first_doc = db.laureates.find_one()\n",
    "first_doc['firstname']"
   ]
  },
  {
   "cell_type": "code",
   "execution_count": 25,
   "metadata": {},
   "outputs": [
    {
     "name": "stdout",
     "output_type": "stream",
     "text": [
      "64\n"
     ]
    }
   ],
   "source": [
    "count_female = db.laureates.count_documents({'gender': 'female'})\n",
    "print(count_female)"
   ]
  },
  {
   "cell_type": "code",
   "execution_count": 26,
   "metadata": {},
   "outputs": [
    {
     "name": "stdout",
     "output_type": "stream",
     "text": [
      "97\n"
     ]
    }
   ],
   "source": [
    "germany_laureates_count = db.laureates.count_documents({'bornCountry': {\"$regex\": 'Germany'}})\n",
    "print(germany_laureates_count)"
   ]
  },
  {
   "cell_type": "code",
   "execution_count": 27,
   "metadata": {},
   "outputs": [
    {
     "name": "stdout",
     "output_type": "stream",
     "text": [
      "'Wilhelm Conrad'\n",
      "'Röntgen'\n",
      "{'affiliations': [{'city': 'Munich',\n",
      "                   'country': 'Germany',\n",
      "                   'name': 'Munich University'}],\n",
      " 'category': 'physics',\n",
      " 'motivation': '\"in recognition of the extraordinary services he has rendered '\n",
      "               'by the discovery of the remarkable rays subsequently named '\n",
      "               'after him\"',\n",
      " 'share': '1',\n",
      " 'year': '1901'}\n",
      "'Ferdinand'\n",
      "'Braun'\n",
      "{'affiliations': [{'city': 'Strasbourg',\n",
      "                   'country': 'Germany (now France)',\n",
      "                   'name': 'Strasbourg University'}],\n",
      " 'category': 'physics',\n",
      " 'motivation': '\"in recognition of their contributions to the development of '\n",
      "               'wireless telegraphy\"',\n",
      " 'share': '2',\n",
      " 'year': '1909'}\n",
      "'Max'\n",
      "'von Laue'\n",
      "{'affiliations': [{'city': 'Frankfurt-on-the-Main',\n",
      "                   'country': 'Germany',\n",
      "                   'name': 'Frankfurt-on-the-Main University'}],\n",
      " 'category': 'physics',\n",
      " 'motivation': '\"for his discovery of the diffraction of X-rays by crystals\"',\n",
      " 'share': '1',\n",
      " 'year': '1914'}\n",
      "'Max'\n",
      "'Planck'\n",
      "{'affiliations': [{'city': 'Berlin',\n",
      "                   'country': 'Germany',\n",
      "                   'name': 'Berlin University'}],\n",
      " 'category': 'physics',\n",
      " 'motivation': '\"in recognition of the services he rendered to the advancement '\n",
      "               'of Physics by his discovery of energy quanta\"',\n",
      " 'share': '1',\n",
      " 'year': '1918'}\n",
      "'Johannes'\n",
      "'Stark'\n",
      "{'affiliations': [{'city': 'Greifswald',\n",
      "                   'country': 'Germany',\n",
      "                   'name': 'Greifswald University'}],\n",
      " 'category': 'physics',\n",
      " 'motivation': '\"for his discovery of the Doppler effect in canal rays and the '\n",
      "               'splitting of spectral lines in electric fields\"',\n",
      " 'share': '1',\n",
      " 'year': '1919'}\n",
      "'Albert'\n",
      "'Einstein'\n",
      "{'affiliations': [{'city': 'Berlin',\n",
      "                   'country': 'Germany',\n",
      "                   'name': 'Kaiser-Wilhelm-Institut (now Max-Planck-Institut) '\n",
      "                           'für Physik'}],\n",
      " 'category': 'physics',\n",
      " 'motivation': '\"for his services to Theoretical Physics, and especially for '\n",
      "               'his discovery of the law of the photoelectric effect\"',\n",
      " 'share': '1',\n",
      " 'year': '1921'}\n",
      "'James'\n",
      "'Franck'\n",
      "{'affiliations': [{'city': 'Göttingen',\n",
      "                   'country': 'Germany',\n",
      "                   'name': 'Goettingen University'}],\n",
      " 'category': 'physics',\n",
      " 'motivation': '\"for their discovery of the laws governing the impact of an '\n",
      "               'electron upon an atom\"',\n",
      " 'share': '2',\n",
      " 'year': '1925'}\n",
      "'Gustav'\n",
      "'Hertz'\n",
      "{'affiliations': [{'city': 'Halle',\n",
      "                   'country': 'Germany',\n",
      "                   'name': 'Halle University'}],\n",
      " 'category': 'physics',\n",
      " 'motivation': '\"for their discovery of the laws governing the impact of an '\n",
      "               'electron upon an atom\"',\n",
      " 'share': '2',\n",
      " 'year': '1925'}\n",
      "'Werner'\n",
      "'Heisenberg'\n",
      "{'affiliations': [{'city': 'Leipzig',\n",
      "                   'country': 'Germany',\n",
      "                   'name': 'Leipzig University'}],\n",
      " 'category': 'physics',\n",
      " 'motivation': '\"for the creation of quantum mechanics, the application of '\n",
      "               'which has, inter alia, led to the discovery of the allotropic '\n",
      "               'forms of hydrogen\"',\n",
      " 'share': '1',\n",
      " 'year': '1932'}\n",
      "'Otto'\n",
      "'Stern'\n",
      "{'affiliations': [{'city': 'Pittsburgh, PA',\n",
      "                   'country': 'USA',\n",
      "                   'name': 'Carnegie Institute of Technology'}],\n",
      " 'category': 'physics',\n",
      " 'motivation': '\"for his contribution to the development of the molecular ray '\n",
      "               'method and his discovery of the magnetic moment of the proton\"',\n",
      " 'share': '1',\n",
      " 'year': '1943'}\n",
      "'Max'\n",
      "'Born'\n",
      "{'affiliations': [{'city': 'Edinburgh',\n",
      "                   'country': 'United Kingdom',\n",
      "                   'name': 'Edinburgh University'}],\n",
      " 'category': 'physics',\n",
      " 'motivation': '\"for his fundamental research in quantum mechanics, especially '\n",
      "               'for his statistical interpretation of the wavefunction\"',\n",
      " 'share': '2',\n",
      " 'year': '1954'}\n",
      "'Walther'\n",
      "'Bothe'\n",
      "{'affiliations': [{'city': 'Heidelberg',\n",
      "                   'country': 'Germany',\n",
      "                   'name': 'University of Heidelberg'},\n",
      "                  {'city': 'Heidelberg',\n",
      "                   'country': 'Germany',\n",
      "                   'name': 'Max-Planck-Institut für medizinische Forschung'}],\n",
      " 'category': 'physics',\n",
      " 'motivation': '\"for the coincidence method and his discoveries made '\n",
      "               'therewith\"',\n",
      " 'share': '2',\n",
      " 'year': '1954'}\n",
      "'Polykarp'\n",
      "'Kusch'\n",
      "{'affiliations': [{'city': 'New York, NY',\n",
      "                   'country': 'USA',\n",
      "                   'name': 'Columbia University'}],\n",
      " 'category': 'physics',\n",
      " 'motivation': '\"for his precision determination of the magnetic moment of the '\n",
      "               'electron\"',\n",
      " 'share': '2',\n",
      " 'year': '1955'}\n",
      "'Rudolf'\n",
      "'Mössbauer'\n",
      "{'affiliations': [{'city': 'Munich',\n",
      "                   'country': 'Germany',\n",
      "                   'name': 'Technical University'},\n",
      "                  {'city': 'Pasadena, CA',\n",
      "                   'country': 'USA',\n",
      "                   'name': 'California Institute of Technology (Caltech)'}],\n",
      " 'category': 'physics',\n",
      " 'motivation': '\"for his researches concerning the resonance absorption of '\n",
      "               'gamma radiation and his discovery in this connection of the '\n",
      "               'effect which bears his name\"',\n",
      " 'share': '2',\n",
      " 'year': '1961'}\n",
      "'Maria'\n",
      "'Goeppert Mayer'\n",
      "{'affiliations': [{'city': 'San Diego, CA',\n",
      "                   'country': 'USA',\n",
      "                   'name': 'University of California'}],\n",
      " 'category': 'physics',\n",
      " 'motivation': '\"for their discoveries concerning nuclear shell structure\"',\n",
      " 'share': '4',\n",
      " 'year': '1963'}\n",
      "'J. Hans D.'\n",
      "'Jensen'\n",
      "{'affiliations': [{'city': 'Heidelberg',\n",
      "                   'country': 'Germany',\n",
      "                   'name': 'University of Heidelberg'}],\n",
      " 'category': 'physics',\n",
      " 'motivation': '\"for their discoveries concerning nuclear shell structure\"',\n",
      " 'share': '4',\n",
      " 'year': '1963'}\n",
      "'Alfred'\n",
      "'Kastler'\n",
      "{'affiliations': [{'city': 'Paris',\n",
      "                   'country': 'France',\n",
      "                   'name': 'École Normale Supérieure'}],\n",
      " 'category': 'physics',\n",
      " 'motivation': '\"for the discovery and development of optical methods for '\n",
      "               'studying Hertzian resonances in atoms\"',\n",
      " 'share': '1',\n",
      " 'year': '1966'}\n",
      "'Hans'\n",
      "'Bethe'\n",
      "{'affiliations': [{'city': 'Ithaca, NY',\n",
      "                   'country': 'USA',\n",
      "                   'name': 'Cornell University'}],\n",
      " 'category': 'physics',\n",
      " 'motivation': '\"for his contributions to the theory of nuclear reactions, '\n",
      "               'especially his discoveries concerning the energy production in '\n",
      "               'stars\"',\n",
      " 'share': '1',\n",
      " 'year': '1967'}\n",
      "'Arno'\n",
      "'Penzias'\n",
      "{'affiliations': [{'city': 'Holmdel, NJ',\n",
      "                   'country': 'USA',\n",
      "                   'name': 'Bell Laboratories'}],\n",
      " 'category': 'physics',\n",
      " 'motivation': '\"for their discovery of cosmic microwave background radiation\"',\n",
      " 'share': '4',\n",
      " 'year': '1978'}\n",
      "'Ernst'\n",
      "'Ruska'\n",
      "{'affiliations': [{'city': 'Berlin',\n",
      "                   'country': 'Germany',\n",
      "                   'name': 'Fritz-Haber-Institut der Max-Planck-Gesellschaft'}],\n",
      " 'category': 'physics',\n",
      " 'motivation': '\"for his fundamental work in electron optics, and for the '\n",
      "               'design of the first electron microscope\"',\n",
      " 'share': '2',\n",
      " 'year': '1986'}\n",
      "'Gerd'\n",
      "'Binnig'\n",
      "{'affiliations': [{'city': 'Rüschlikon',\n",
      "                   'country': 'Switzerland',\n",
      "                   'name': 'IBM Zurich Research Laboratory'}],\n",
      " 'category': 'physics',\n",
      " 'motivation': '\"for their design of the scanning tunneling microscope\"',\n",
      " 'share': '4',\n",
      " 'year': '1986'}\n",
      "'J. Georg'\n",
      "'Bednorz'\n",
      "{'affiliations': [{'city': 'Rüschlikon',\n",
      "                   'country': 'Switzerland',\n",
      "                   'name': 'IBM Zurich Research Laboratory'}],\n",
      " 'category': 'physics',\n",
      " 'motivation': '\"for their important break-through in the discovery of '\n",
      "               'superconductivity in ceramic materials\"',\n",
      " 'share': '2',\n",
      " 'year': '1987'}\n",
      "'Jack'\n",
      "'Steinberger'\n",
      "{'affiliations': [{'city': 'Geneva', 'country': 'Switzerland', 'name': 'CERN'}],\n",
      " 'category': 'physics',\n",
      " 'motivation': '\"for the neutrino beam method and the demonstration of the '\n",
      "               'doublet structure of the leptons through the discovery of the '\n",
      "               'muon neutrino\"',\n",
      " 'share': '3',\n",
      " 'year': '1988'}\n",
      "'Hans G.'\n",
      "'Dehmelt'\n",
      "{'affiliations': [{'city': 'Seattle, WA',\n",
      "                   'country': 'USA',\n",
      "                   'name': 'University of Washington'}],\n",
      " 'category': 'physics',\n",
      " 'motivation': '\"for the development of the ion trap technique\"',\n",
      " 'share': '4',\n",
      " 'year': '1989'}\n",
      "'Wolfgang'\n",
      "'Paul'\n",
      "{'affiliations': [{'city': 'Bonn',\n",
      "                   'country': 'Germany',\n",
      "                   'name': 'University of Bonn'}],\n",
      " 'category': 'physics',\n",
      " 'motivation': '\"for the development of the ion trap technique\"',\n",
      " 'share': '4',\n",
      " 'year': '1989'}\n",
      "'Horst L.'\n",
      "'Störmer'\n",
      "{'affiliations': [{'city': 'New York, NY',\n",
      "                   'country': 'USA',\n",
      "                   'name': 'Columbia University'}],\n",
      " 'category': 'physics',\n",
      " 'motivation': '\"for their discovery of a new form of quantum fluid with '\n",
      "               'fractionally charged excitations\"',\n",
      " 'share': '3',\n",
      " 'year': '1998'}\n",
      "'Herbert'\n",
      "'Kroemer'\n",
      "{'affiliations': [{'city': 'Santa Barbara, CA',\n",
      "                   'country': 'USA',\n",
      "                   'name': 'University of California'}],\n",
      " 'category': 'physics',\n",
      " 'motivation': '\"for developing semiconductor heterostructures used in '\n",
      "               'high-speed- and opto-electronics\"',\n",
      " 'overallMotivation': '\"for basic work on information and communication '\n",
      "                      'technology\"',\n",
      " 'share': '4',\n",
      " 'year': '2000'}\n",
      "'Wolfgang'\n",
      "'Ketterle'\n",
      "{'affiliations': [{'city': 'Cambridge, MA',\n",
      "                   'country': 'USA',\n",
      "                   'name': 'Massachusetts Institute of Technology (MIT)'}],\n",
      " 'category': 'physics',\n",
      " 'motivation': '\"for the achievement of Bose-Einstein condensation in dilute '\n",
      "               'gases of alkali atoms, and for early fundamental studies of '\n",
      "               'the properties of the condensates\"',\n",
      " 'share': '3',\n",
      " 'year': '2001'}\n",
      "'Theodor W.'\n",
      "'Hänsch'\n",
      "{'affiliations': [{'city': 'Garching',\n",
      "                   'country': 'Germany',\n",
      "                   'name': 'Max Planck Institute of Quantum Optics'},\n",
      "                  {'city': 'Munich',\n",
      "                   'country': 'Germany',\n",
      "                   'name': 'Ludwig-Maximilians-Universität München'}],\n",
      " 'category': 'physics',\n",
      " 'motivation': '\"for their contributions to the development of laser-based '\n",
      "               'precision spectroscopy, including the optical frequency comb '\n",
      "               'technique\"',\n",
      " 'share': '4',\n",
      " 'year': '2005'}\n",
      "'Rainer'\n",
      "'Weiss'\n",
      "{'affiliations': [{'name': 'LIGO/VIRGO Collaboration'},\n",
      "                  {'city': 'Cambridge, MA',\n",
      "                   'country': 'USA',\n",
      "                   'name': 'Massachusetts Institute of Technology (MIT)'}],\n",
      " 'category': 'physics',\n",
      " 'motivation': '\"for decisive contributions to the LIGO detector and the '\n",
      "               'observation of gravitational waves\"',\n",
      " 'share': '2',\n",
      " 'year': '2017'}\n",
      "'Reinhard'\n",
      "'Genzel'\n",
      "{'affiliations': [{'city': 'Garching',\n",
      "                   'country': 'Germany',\n",
      "                   'name': 'Max Planck Institute for Extraterrestrial Physics'},\n",
      "                  {'city': 'Berkeley, CA',\n",
      "                   'country': 'USA',\n",
      "                   'name': 'University of California'}],\n",
      " 'category': 'physics',\n",
      " 'motivation': '\"for the discovery of a supermassive compact object at the '\n",
      "               'centre of our galaxy\"',\n",
      " 'share': '4',\n",
      " 'year': '2020'}\n",
      "'Klaus'\n",
      "'Hasselmann'\n",
      "{'affiliations': [{'city': 'Hamburg',\n",
      "                   'country': 'Germany',\n",
      "                   'name': 'Max Planck Institute for Meteorology'}],\n",
      " 'category': 'physics',\n",
      " 'motivation': '\"for the physical modelling of Earth’s climate, quantifying '\n",
      "               'variability and reliably predicting global warming\"',\n",
      " 'overallMotivation': '\"for groundbreaking contributions to our understanding '\n",
      "                      'of complex physical systems\"',\n",
      " 'share': '4',\n",
      " 'year': '2021'}\n"
     ]
    }
   ],
   "source": [
    "german_physics_laureates = db.laureates.find({\"bornCountry\": {\"$regex\": \"Germany\"}, \"prizes.category\": \"physics\"})\n",
    "for laureate in german_physics_laureates:\n",
    "    pprint(laureate['firstname'])\n",
    "    pprint(laureate['surname'])\n",
    "    pprint(laureate['prizes'][-1])"
   ]
  },
  {
   "cell_type": "code",
   "execution_count": 28,
   "metadata": {},
   "outputs": [
    {
     "name": "stdout",
     "output_type": "stream",
     "text": [
      "{'_id': ObjectId('6654c7ae7d68436436406202'),\n",
      " 'born': '1997-07-12',\n",
      " 'bornCity': 'Mingora',\n",
      " 'bornCountry': 'Pakistan',\n",
      " 'bornCountryCode': 'PK',\n",
      " 'died': '0000-00-00',\n",
      " 'firstname': 'Malala',\n",
      " 'gender': 'female',\n",
      " 'id': '914',\n",
      " 'prizes': [{'affiliations': [[]],\n",
      "             'category': 'peace',\n",
      "             'motivation': '\"for their struggle against the suppression of '\n",
      "                           'children and young people and for the right of all '\n",
      "                           'children to education\"',\n",
      "             'share': '2',\n",
      "             'year': '2014'}],\n",
      " 'surname': 'Yousafzai'}\n"
     ]
    }
   ],
   "source": [
    "malala=db.laureates.find_one({\"firstname\": \"Malala\"})\n",
    "pprint(malala)"
   ]
  },
  {
   "cell_type": "code",
   "execution_count": 29,
   "metadata": {},
   "outputs": [
    {
     "name": "stdout",
     "output_type": "stream",
     "text": [
      "Marie Curie\n",
      "1903\n",
      "Bertha von Suttner\n",
      "1905\n",
      "Selma Lagerlöf\n",
      "1909\n",
      "Grazia Deledda\n",
      "1926\n",
      "Sigrid Undset\n",
      "1928\n",
      "Jane Addams\n",
      "1931\n",
      "Irène Joliot-Curie\n",
      "1935\n",
      "Pearl Buck\n",
      "1938\n",
      "Gabriela Mistral\n",
      "1945\n",
      "Emily Greene Balch\n",
      "1946\n",
      "Gerty Cori\n",
      "1947\n",
      "Maria Goeppert Mayer\n",
      "1963\n",
      "Dorothy Crowfoot Hodgkin\n",
      "1964\n",
      "Nelly Sachs\n",
      "1966\n",
      "Betty Williams\n",
      "1976\n",
      "Mairead Corrigan\n",
      "1976\n",
      "Rosalyn Yalow\n",
      "1977\n",
      "Anjezë Gonxhe Bojaxhiu\n",
      "1979\n",
      "Alva Myrdal\n",
      "1982\n",
      "Barbara McClintock\n",
      "1983\n",
      "Rita Levi-Montalcini\n",
      "1986\n",
      "Gertrude B. Elion\n",
      "1988\n"
     ]
    },
    {
     "ename": "KeyError",
     "evalue": "'surname'",
     "output_type": "error",
     "traceback": [
      "\u001b[0;31m---------------------------------------------------------------------------\u001b[0m",
      "\u001b[0;31mKeyError\u001b[0m                                  Traceback (most recent call last)",
      "\u001b[1;32m/Users/muhammadraza/Documents/GitHub/BIPM/Enterprise Architectures/mongo.ipynb Cell 29\u001b[0m line \u001b[0;36m3\n\u001b[1;32m      <a href='vscode-notebook-cell:/Users/muhammadraza/Documents/GitHub/BIPM/Enterprise%20Architectures/mongo.ipynb#X40sZmlsZQ%3D%3D?line=0'>1</a>\u001b[0m female_laureates\u001b[39m=\u001b[39mdb\u001b[39m.\u001b[39mlaureates\u001b[39m.\u001b[39mfind({\u001b[39m\"\u001b[39m\u001b[39mgender\u001b[39m\u001b[39m\"\u001b[39m: \u001b[39m\"\u001b[39m\u001b[39mfemale\u001b[39m\u001b[39m\"\u001b[39m})\u001b[39m.\u001b[39msort([(\u001b[39m\"\u001b[39m\u001b[39mprizes.year\u001b[39m\u001b[39m\"\u001b[39m, \u001b[39m1\u001b[39m)])\n\u001b[1;32m      <a href='vscode-notebook-cell:/Users/muhammadraza/Documents/GitHub/BIPM/Enterprise%20Architectures/mongo.ipynb#X40sZmlsZQ%3D%3D?line=1'>2</a>\u001b[0m \u001b[39mfor\u001b[39;00m laureate \u001b[39min\u001b[39;00m female_laureates:\n\u001b[0;32m----> <a href='vscode-notebook-cell:/Users/muhammadraza/Documents/GitHub/BIPM/Enterprise%20Architectures/mongo.ipynb#X40sZmlsZQ%3D%3D?line=2'>3</a>\u001b[0m     \u001b[39mprint\u001b[39m(laureate[\u001b[39m'\u001b[39m\u001b[39mfirstname\u001b[39m\u001b[39m'\u001b[39m] \u001b[39m+\u001b[39m \u001b[39m'\u001b[39m\u001b[39m \u001b[39m\u001b[39m'\u001b[39m \u001b[39m+\u001b[39m (laureate[\u001b[39m'\u001b[39;49m\u001b[39msurname\u001b[39;49m\u001b[39m'\u001b[39;49m]))\n\u001b[1;32m      <a href='vscode-notebook-cell:/Users/muhammadraza/Documents/GitHub/BIPM/Enterprise%20Architectures/mongo.ipynb#X40sZmlsZQ%3D%3D?line=3'>4</a>\u001b[0m     \u001b[39mprint\u001b[39m(laureate[\u001b[39m'\u001b[39m\u001b[39mprizes\u001b[39m\u001b[39m'\u001b[39m][\u001b[39m0\u001b[39m][\u001b[39m'\u001b[39m\u001b[39myear\u001b[39m\u001b[39m'\u001b[39m])\n",
      "\u001b[0;31mKeyError\u001b[0m: 'surname'"
     ]
    }
   ],
   "source": [
    "female_laureates=db.laureates.find({\"gender\": \"female\"}).sort([(\"prizes.year\", 1)])\n",
    "for laureate in female_laureates:\n",
    "    print(laureate['firstname'] + ' ' + (laureate['surname']))\n",
    "    print(laureate['prizes'][0]['year'])"
   ]
  }
 ],
 "metadata": {
  "kernelspec": {
   "display_name": "Python 3",
   "language": "python",
   "name": "python3"
  },
  "language_info": {
   "codemirror_mode": {
    "name": "ipython",
    "version": 3
   },
   "file_extension": ".py",
   "mimetype": "text/x-python",
   "name": "python",
   "nbconvert_exporter": "python",
   "pygments_lexer": "ipython3",
   "version": "3.10.11"
  }
 },
 "nbformat": 4,
 "nbformat_minor": 2
}
