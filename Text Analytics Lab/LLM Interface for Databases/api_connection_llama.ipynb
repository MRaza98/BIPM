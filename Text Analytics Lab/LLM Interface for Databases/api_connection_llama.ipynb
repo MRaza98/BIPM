{
 "cells": [
  {
   "cell_type": "code",
   "execution_count": 1,
   "metadata": {},
   "outputs": [],
   "source": [
    "from groq import Groq\n",
    "from dotenv import dotenv_values\n",
    "import duckdb"
   ]
  },
  {
   "cell_type": "code",
   "execution_count": 3,
   "metadata": {},
   "outputs": [],
   "source": [
    "config = dotenv_values(\".env\")\n",
    "api_key=config['groq_key']\n",
    "conn = duckdb.connect(database='isrecon_all.duckdb')"
   ]
  },
  {
   "cell_type": "code",
   "execution_count": 2,
   "metadata": {},
   "outputs": [
    {
     "name": "stdout",
     "output_type": "stream",
     "text": [
      "What a great question!\n",
      "\n",
      "Groq is an amazing query language, and using it to query a DuckDB database sounds like a fantastic idea!\n",
      "\n",
      "To use Groq to query your local DuckDB database, you'll need to follow these steps:\n",
      "\n",
      "**Step 1: Install the required libraries**\n",
      "\n",
      "You'll need to install the `groq` and `duckdb` libraries. You can do this using pip:\n",
      "```\n",
      "pip install groq duckdb\n",
      "```\n",
      "**Step 2: Import the required libraries**\n",
      "\n",
      "In your Python script, import the required libraries:\n",
      "```python\n",
      "import duckdb\n",
      "from groq import Groq\n",
      "```\n",
      "**Step 3: Create a DuckDB connection**\n",
      "\n",
      "Create a connection to your local DuckDB database:\n",
      "```python\n",
      "conn = duckdb.connect(database='mydatabase')\n",
      "```\n",
      "Replace `mydatabase` with the name of your DuckDB database file.\n",
      "\n",
      "**Step 4: Create a Groq instance**\n",
      "\n",
      "Create a Groq instance, passing the DuckDB connection as an argument:\n",
      "```python\n",
      "groq = Groq(conn)\n",
      "```\n",
      "**Step 5: Define a function to execute Groq queries**\n",
      "\n",
      "Define a function that takes a Groq query as input, executes it against the DuckDB database, and returns the results:\n",
      "```python\n",
      "def execute_groq_query(query):\n",
      "    results = groq.query(query)\n",
      "    return results.fetchall()\n",
      "```\n",
      "**Step 6: Ask your question!**\n",
      "\n",
      "Now, you can ask your question as a Groq query, and the `execute_groq_query` function will translate it into a SQL query and execute it against your DuckDB database:\n",
      "```python\n",
      "query = \"movies: { title, director | director == 'Christopher Nolan' }\"\n",
      "results = execute_groq_query(query)\n",
      "print(results)  # prints the results\n",
      "```\n",
      "In this example, the Groq query asks for the titles and directors of movies directed by Christopher Nolan. The `execute_groq_query` function will translate this into a SQL query, execute it against the DuckDB database, and return the results.\n",
      "\n",
      "You can ask more questions by modifying the Groq query and calling the `execute_groq_query` function again!\n",
      "\n",
      "Remember to replace the `movies` table and column names with your actual DuckDB database schema.\n",
      "\n",
      "I hope this helps! Let me know if you have any further questions."
     ]
    }
   ],
   "source": [
    "client = Groq(api_key=api_key)\n",
    "completion = client.chat.completions.create(\n",
    "    model=\"llama3-70b-8192\",\n",
    "    messages=[\n",
    "        {\n",
    "            \"role\": \"user\",\n",
    "            \"content\": \"\"\"I have got a duckdb database locally and I want to query it using groq. How can I do that? I want to ask a question\n",
    "            in the prompt just like I am doing right now and expect a SQL query in return to query my duckdb database. How can I do that?\"\"\"\n",
    "        }\n",
    "    ],\n",
    "    temperature=1,\n",
    "    max_tokens=1024,\n",
    "    top_p=1,\n",
    "    stream=True,\n",
    "    stop=None,\n",
    ")\n",
    "\n",
    "for chunk in completion:\n",
    "    print(chunk.choices[0].delta.content or \"\", end=\"\")\n"
   ]
  },
  {
   "cell_type": "markdown",
   "metadata": {},
   "source": [
    "Next:\n",
    "\n",
    "1. Ask it a question related to the IS ontology we have and keep the response as a benchmark.\n",
    "2. 'Connect' the LLM to the database so that it can tap into it.\n",
    "3. Have the LLM output a SQL query and run it on the db.\n",
    "4. Compare result.\n",
    "5. Do it with GPT Turbo 3.5 and compare results."
   ]
  }
 ],
 "metadata": {
  "kernelspec": {
   "display_name": "Python 3",
   "language": "python",
   "name": "python3"
  },
  "language_info": {
   "codemirror_mode": {
    "name": "ipython",
    "version": 3
   },
   "file_extension": ".py",
   "mimetype": "text/x-python",
   "name": "python",
   "nbconvert_exporter": "python",
   "pygments_lexer": "ipython3",
   "version": "3.10.11"
  }
 },
 "nbformat": 4,
 "nbformat_minor": 2
}
